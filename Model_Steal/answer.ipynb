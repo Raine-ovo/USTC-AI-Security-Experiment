{
 "cells": [
  {
   "cell_type": "markdown",
   "metadata": {},
   "source": [
    "# 0. 课程前言\n",
    "此为 <<人工智能安全>> 课程第四部分: 模型窃取攻击与防御实验部分.\n",
    "\n",
    "**模型窃取攻击**的目标是通过一定手段窃取得到一个跟 受害者模型 功能和性能近似的窃取模型，从而避开昂贵的模型训练并从中获益。\n",
    "\n",
    "<img src=\"./imgs/model steal.png\" alt=\"替代模型窃取攻击示意图\" style=\"height: 300px; max-width: 100%;\">\n",
    "\n",
    "上图为一个简单基础的模型窃取攻击过程，攻击者在黑盒环境下与受害者模型交互，获取模型的输入与输出，并不断调整查询样本来获取模型更多的决策边界信息。攻击者可以将此输入-输出作为数据集，对自己的模型进行模仿学习，得到一个与受害者模型相似的窃取模型。\n",
    "\n",
    "一般来说，模型窃取攻击的主要目标包括：\n",
    "1. 低代价：以远低于受害者模型训练成本的代价获得一个可免费使用的窃取模型；\n",
    "2. 高收益：窃取得到的模型与受害者模型的功能和性能相当；\n",
    "3. 低风险：在窃取过程中可以避开相关检测并在窃取后无法被溯源。"
   ]
  },
  {
   "cell_type": "markdown",
   "metadata": {},
   "source": [
    "# 1. 模型窃取攻击\n",
    "模型窃取攻击有多种方式：基于**方程式求解**的模型窃取攻击、基于**替代模型**的窃取攻击、基于**元模型**的窃取攻击。\n",
    "\n",
    "受篇幅影响，本次实验主要将基于替代模型的窃取攻击，有兴趣的同学可自行搜索学习其他类别的攻击方法。\n",
    "\n",
    "## 1.1 基于替代模型的窃取攻击\n",
    "攻击主要思路：攻击者 $A$ 在不知道受害者模型 $f(\\cdot)$ 任何先验知识情况下，向受害者模型输入查询样本 $x$ ，得到受害者模型的预测输出 $f(x)$ 。随后，攻击者根据输入和输出构建替代训练数据集 $\\mathcal D ' = {(x, f(x))}^m_{i=1}$ 。\n",
    "\n",
    "实际上，替代数据集已经完成了对袁术训练数据的（部分）提取。在替代数据集 $\\mathcal D'$ 上多次训练后，即可得到一个与受害者模型 $f(\\cdot)$ 功能和性质类似的替代模型 $f'(\\cdot)$ ，完成模型窃取攻击。\n",
    "\n",
    "<img src=\"./imgs/model steal2.png\" alt=\"替代模型窃取攻击示意图\" style=\"height: 400px; max-width: 100%;\">\n",
    "\n"
   ]
  },
  {
   "cell_type": "markdown",
   "metadata": {},
   "source": [
    "为了实现这样的模型窃取方法，我们首先需要加载受害者模型。\n",
    "\n",
    "（在实际中，模型窃取攻击者通常使用受害者API进行查询访问）"
   ]
  },
  {
   "cell_type": "code",
   "execution_count": 2,
   "metadata": {},
   "outputs": [
    {
     "name": "stdout",
     "output_type": "stream",
     "text": [
      "cuda\n"
     ]
    }
   ],
   "source": [
    "import torch\n",
    "import torch.nn as nn\n",
    "import torch.nn.functional as F\n",
    "from torch import optim\n",
    "\n",
    "import torchvision\n",
    "import torchvision.transforms as transforms\n",
    "from torch.utils.data import DataLoader, Dataset\n",
    "\n",
    "import os\n",
    "import random\n",
    "import numpy as np\n",
    "import matplotlib.pyplot as plt\n",
    "\n",
    "from tqdm import tqdm\n",
    "\n",
    "import datasets\n",
    "\n",
    "import cifar_model\n",
    "\n",
    "device = torch.device(\"cuda\" if torch.cuda.is_available() else \"cpu\")\n",
    "print(device)"
   ]
  },
  {
   "cell_type": "code",
   "execution_count": 3,
   "metadata": {},
   "outputs": [],
   "source": [
    "model_path = \"./models/\"\n",
    "model_list = [\n",
    "    \"cifar10_resnet18.pth\",\n",
    "    \"cifar10_model.pth\"\n",
    "]\n",
    "\n",
    "# 加载模型\n",
    "def load_model(model_path, num_classes, device):\n",
    "    # 加载模型结构\n",
    "    model = cifar_model.ResNet18(num_classes=num_classes)\n",
    "\n",
    "    # 加载模型权重\n",
    "    if device == 'cpu':\n",
    "        state_dict = torch.load(model_path, map_location=torch.device('cpu'))\n",
    "    else:\n",
    "        state_dict = torch.load(model_path)\n",
    "    \n",
    "    # 加载权重到模型\n",
    "    model.load_state_dict(state_dict)\n",
    "    model.to(device)\n",
    "    model.eval()  # 设置为评估模式\n",
    "\n",
    "    print(\"加载模型: \", model_path)\n",
    "    return model"
   ]
  },
  {
   "cell_type": "code",
   "execution_count": 4,
   "metadata": {},
   "outputs": [
    {
     "name": "stdout",
     "output_type": "stream",
     "text": [
      "加载模型:  ./models/cifar10_resnet18.pth\n"
     ]
    },
    {
     "name": "stderr",
     "output_type": "stream",
     "text": [
      "/tmp/ipykernel_2354846/168071617.py:16: FutureWarning: You are using `torch.load` with `weights_only=False` (the current default value), which uses the default pickle module implicitly. It is possible to construct malicious pickle data which will execute arbitrary code during unpickling (See https://github.com/pytorch/pytorch/blob/main/SECURITY.md#untrusted-models for more details). In a future release, the default value for `weights_only` will be flipped to `True`. This limits the functions that could be executed during unpickling. Arbitrary objects will no longer be allowed to be loaded via this mode unless they are explicitly allowlisted by the user via `torch.serialization.add_safe_globals`. We recommend you start setting `weights_only=True` for any use case where you don't have full control of the loaded file. Please open an issue on GitHub for any issues related to this experimental feature.\n",
      "  state_dict = torch.load(model_path)\n"
     ]
    }
   ],
   "source": [
    "victim_model = load_model(model_path + model_list[0], num_classes=10, device=device)"
   ]
  },
  {
   "cell_type": "markdown",
   "metadata": {},
   "source": [
    "对加载的受害者模型进行测试"
   ]
  },
  {
   "cell_type": "code",
   "execution_count": 5,
   "metadata": {},
   "outputs": [
    {
     "name": "stdout",
     "output_type": "stream",
     "text": [
      "Files already downloaded and verified\n",
      "Files already downloaded and verified\n"
     ]
    }
   ],
   "source": [
    "transform_test = transforms.Compose([\n",
    "    transforms.ToTensor(),\n",
    "    transforms.Normalize((0.4914, 0.4822, 0.4465), (0.2023, 0.1994, 0.2010)),\n",
    "])\n",
    "\n",
    "# 加载CIFAR-10训练数据集\n",
    "trainset = torchvision.datasets.CIFAR10(\n",
    "    root='./data', train=True, download=True, transform=transform_test)\n",
    "trainloader = DataLoader(trainset, batch_size=100, shuffle=True, num_workers=4, pin_memory=True)\n",
    "\n",
    "# 加载CIFAR-10测试数据集\n",
    "testset = torchvision.datasets.CIFAR10(\n",
    "    root='./data', train=False, download=True, transform=transform_test)\n",
    "testloader = DataLoader(testset, batch_size=100, shuffle=True, num_workers=4, pin_memory=True)"
   ]
  },
  {
   "cell_type": "code",
   "execution_count": 6,
   "metadata": {},
   "outputs": [],
   "source": [
    "# 测试模型\n",
    "criterion = nn.CrossEntropyLoss(label_smoothing=0.1)\n",
    "def test_model(model, dataloader, perturbation=None):\n",
    "    model.eval()\n",
    "    test_loss = 0\n",
    "    correct = 0\n",
    "    total = 0\n",
    "    with torch.no_grad():\n",
    "        for batch_idx, (inputs, targets) in enumerate(dataloader):\n",
    "            inputs, targets = inputs.to(device), targets.to(device)\n",
    "            outputs = model(inputs)\n",
    "            if perturbation: outputs = perturbation(outputs)\n",
    "            loss = criterion(outputs, targets)\n",
    "            \n",
    "            test_loss += loss.item()\n",
    "            _, predicted = outputs.max(1)\n",
    "            total += targets.size(0)\n",
    "            correct += predicted.eq(targets).sum().item()\n",
    "    \n",
    "    acc = 100.*correct/total\n",
    "    return acc"
   ]
  },
  {
   "cell_type": "code",
   "execution_count": 7,
   "metadata": {},
   "outputs": [
    {
     "name": "stdout",
     "output_type": "stream",
     "text": [
      "Model Test Accuracy:  93.48 %\n"
     ]
    }
   ],
   "source": [
    "print(\"Model Test Accuracy: \", test_model(victim_model, testloader), '%')"
   ]
  },
  {
   "cell_type": "markdown",
   "metadata": {},
   "source": [
    "接下来，我们作为攻击者，对受害者模型进行轮询访问，以获取其查询-预测对:"
   ]
  },
  {
   "cell_type": "markdown",
   "metadata": {},
   "source": [
    "现在有一个问题：攻击者如何获取用于查询的数据集？\n",
    "\n",
    "虽然在实际中，攻击者并不知道模型的任何先验知识，但是知道其功能是什么。举一个简单的例子：受害者模型是一个对猫狗的二分类问题，攻击者即可收集猫和狗的图像作为对模型的查询数据集。\n",
    "\n",
    "在本次实验中，受害者模型是一个10-分类问题，简单起见，我们直接对 cifar-10 公开数据集进行随机采样，以作为对受害者模型的查询数据集。"
   ]
  },
  {
   "cell_type": "code",
   "execution_count": 31,
   "metadata": {},
   "outputs": [],
   "source": [
    "def build_query_set(dataset_name=\"cifar10\", data_size=10000, use_public_data=True):\n",
    "    \"\"\"构建用于查询受害者模型的数据集\"\"\"\n",
    "    if use_public_data:\n",
    "        if dataset_name == \"cifar10\":\n",
    "            query_dataset = trainset\n",
    "            \n",
    "            # 随机采样一部分数据\n",
    "            indices = np.random.choice(len(query_dataset), data_size, replace=False)\n",
    "            query_images = torch.stack([query_dataset[i][0] for i in indices])\n",
    "            return query_images\n",
    "    \n",
    "    else:\n",
    "        # 生成随机噪声数据\n",
    "        return torch.randn(data_size, 3, 32, 32) * 0.5 + 0.5"
   ]
  },
  {
   "cell_type": "markdown",
   "metadata": {},
   "source": [
    "于是，我们便可以使用查询数据集对受害者模型进行轮询："
   ]
  },
  {
   "cell_type": "code",
   "execution_count": 9,
   "metadata": {},
   "outputs": [],
   "source": [
    "def query_victim_model(victim_model, query_images, batch_size=64, device='cuda', output_perturbation=None):\n",
    "    \"\"\"向受害者模型发送查询并收集预测结果\"\"\"\n",
    "    victim_model.to(device)\n",
    "    victim_model.eval()\n",
    "    \n",
    "    all_predictions = []\n",
    "    dataloader = DataLoader(query_images, batch_size=batch_size, shuffle=False)\n",
    "    \n",
    "    with torch.no_grad():\n",
    "        for batch in tqdm(dataloader, desc=\"Querying victim model\"):\n",
    "            batch = batch.to(device)\n",
    "            outputs = victim_model(batch)\n",
    "\n",
    "            # 检查预测结果是否变化\n",
    "            _, orig_preds = torch.max(outputs, 1)\n",
    "\n",
    "            \n",
    "\n",
    "            if output_perturbation:\n",
    "                outputs = output_perturbation(outputs)\n",
    "                \n",
    "                _, pert_preds = torch.max(outputs, 1)\n",
    "            # 获取预测的类别\n",
    "            # _, predictions = torch.max(outputs, 1)\n",
    "            \n",
    "            # 返回受害者模型预测的概率分布\n",
    "            predictions = F.softmax(outputs, dim=1)\n",
    "            all_predictions.append(predictions.cpu())\n",
    "    \n",
    "    # 合并所有批次的预测概率分布\n",
    "    all_predictions = torch.cat(all_predictions)\n",
    "    return all_predictions"
   ]
  },
  {
   "cell_type": "markdown",
   "metadata": {},
   "source": [
    "将获取到的查询-预测对构建成为替代数据集："
   ]
  },
  {
   "cell_type": "code",
   "execution_count": 10,
   "metadata": {},
   "outputs": [],
   "source": [
    "class SubstituteDataset(Dataset):\n",
    "    def __init__(self, queries, predictions, transform=None):\n",
    "        self.queries = queries\n",
    "        self.predictions = predictions\n",
    "        self.transform = transform\n",
    "        \n",
    "    def __len__(self):\n",
    "        return len(self.queries)\n",
    "    \n",
    "    def __getitem__(self, idx):\n",
    "        img, prediction = self.queries[idx], self.predictions[idx]\n",
    "        \n",
    "        if isinstance(img, np.ndarray):\n",
    "            img = torch.tensor(img)\n",
    "            \n",
    "        if self.transform:\n",
    "            img = self.transform(img)\n",
    "            \n",
    "        return img, prediction\n",
    "\n",
    "def create_substitute_dataset(victim_model, query_images, save_path=\"substitute_dataset.pt\", augment=False, output_perturbation=None):\n",
    "    \"\"\"构建并保存替代数据集\"\"\"\n",
    "    print(output_perturbation)\n",
    "    # 查询受害者模型\n",
    "    predictions = query_victim_model(victim_model, query_images, output_perturbation=output_perturbation)\n",
    "\n",
    "    # # 定义数据增强\n",
    "    # train_transform = transforms.Compose([\n",
    "    #     transforms.ToPILImage(),\n",
    "    #     transforms.RandomCrop(32, padding=4),\n",
    "    #     transforms.RandomHorizontalFlip(),\n",
    "    #     transforms.ToTensor(),\n",
    "    #     transforms.Normalize((0.4914, 0.4822, 0.4465), (0.2023, 0.1994, 0.2010)),\n",
    "    # ])\n",
    "    \n",
    "    # 创建替代数据集\n",
    "    substitute_dataset = SubstituteDataset(query_images, predictions, train_transform if augment else None)\n",
    "    \n",
    "    # 保存数据集\n",
    "    torch.save({\n",
    "        'queries': query_images,\n",
    "        'predictions': predictions\n",
    "    }, save_path)\n",
    "    \n",
    "    print(f\"替代数据集已保存至: {save_path}\")\n",
    "    print(f\"数据集大小: {len(substitute_dataset)} 样本\")\n",
    "    return substitute_dataset"
   ]
  },
  {
   "cell_type": "code",
   "execution_count": 11,
   "metadata": {},
   "outputs": [
    {
     "name": "stdout",
     "output_type": "stream",
     "text": [
      "Files already downloaded and verified\n",
      "None\n"
     ]
    },
    {
     "name": "stderr",
     "output_type": "stream",
     "text": [
      "Querying victim model: 100%|██████████| 47/47 [00:00<00:00, 363.76it/s]"
     ]
    },
    {
     "name": "stdout",
     "output_type": "stream",
     "text": [
      "替代数据集已保存至: substitute_dataset_cifar10.pt\n",
      "数据集大小: 3000 样本\n"
     ]
    },
    {
     "name": "stderr",
     "output_type": "stream",
     "text": [
      "\n"
     ]
    }
   ],
   "source": [
    "# 构建查询集（使用CIFAR-10测试集的3000个样本）\n",
    "query_images = build_query_set(data_size=3000)\n",
    "\n",
    "# 创建替代数据集\n",
    "substitute_dataset = create_substitute_dataset(\n",
    "    victim_model=victim_model,\n",
    "    query_images=query_images,\n",
    "    save_path=\"substitute_dataset_cifar10.pt\"\n",
    ")"
   ]
  },
  {
   "cell_type": "markdown",
   "metadata": {},
   "source": [
    "我们来看一下替代数据集是什么样的："
   ]
  },
  {
   "cell_type": "code",
   "execution_count": null,
   "metadata": {},
   "outputs": [],
   "source": [
    "CIFAR10_CLASS_NAMES = [\n",
    "    'airplane', 'automobile', 'bird', 'cat', 'deer',\n",
    "    'dog', 'frog', 'horse', 'ship', 'truck'\n",
    "]\n",
    "\n",
    "def visualize_substitute_dataset(dataset, num_samples=5, class_names=CIFAR10_CLASS_NAMES):\n",
    "    \"\"\"可视化替代数据集中的样本\"\"\"\n",
    "    indices = np.random.choice(len(dataset), num_samples, replace=False)\n",
    "    \n",
    "    plt.figure(figsize=(15, 3))\n",
    "    for i, idx in enumerate(indices):\n",
    "        # image, label = dataset[idx]\n",
    "        image, prob = dataset[idx]\n",
    "        label = torch.argmax(prob).item()\n",
    "        # 反归一化以便显示\n",
    "        image = image.permute(1, 2, 0).numpy()\n",
    "        image = image * np.array([0.2023, 0.1994, 0.2010]) + np.array([0.4914, 0.4822, 0.4465])\n",
    "        image = np.clip(image, 0, 1)\n",
    "        \n",
    "        # 获取类别名称\n",
    "        class_name = class_names[label] if label < len(class_names) else f\"Unknown ({label})\"\n",
    "        \n",
    "        plt.subplot(1, num_samples, i+1)\n",
    "        plt.imshow(image)\n",
    "        plt.title(f\"Predicted: {class_name}\")\n",
    "        plt.axis('off')\n",
    "    \n",
    "    plt.tight_layout()\n",
    "    plt.show()"
   ]
  },
  {
   "cell_type": "code",
   "execution_count": 13,
   "metadata": {},
   "outputs": [
    {
     "data": {
      "image/png": "[encoded data removed]",
      "text/plain": [
       "<Figure size 1500x300 with 5 Axes>"
      ]
     },
     "metadata": {},
     "output_type": "display_data"
    }
   ],
   "source": [
    "# 可视化样本\n",
    "visualize_substitute_dataset(substitute_dataset)  "
   ]
  },
  {
   "cell_type": "markdown",
   "metadata": {},
   "source": [
    "获取替代数据集后，我们便可以对自己的模型进行训练了。\n",
    "\n",
    "作为攻击者，我们并不知道模型内部的架构，因此，我们需要自定义自己的模型架构。"
   ]
  },
  {
   "cell_type": "code",
   "execution_count": 14,
   "metadata": {},
   "outputs": [],
   "source": [
    "class SubstituteModel(nn.Module):\n",
    "    def __init__(self, num_classes=10):\n",
    "        super(SubstituteModel, self).__init__()\n",
    "        self.features = nn.Sequential(\n",
    "            # 第一层卷积\n",
    "            nn.Conv2d(3, 32, kernel_size=3, padding=1),\n",
    "            nn.BatchNorm2d(32),\n",
    "            nn.ReLU(inplace=True),\n",
    "            nn.Conv2d(32, 32, kernel_size=3, padding=1),\n",
    "            nn.BatchNorm2d(32),\n",
    "            nn.ReLU(inplace=True),\n",
    "            nn.MaxPool2d(kernel_size=2, stride=2),\n",
    "            nn.Dropout(0.25),\n",
    "            \n",
    "            # 第二层卷积\n",
    "            nn.Conv2d(32, 64, kernel_size=3, padding=1),\n",
    "            nn.BatchNorm2d(64),\n",
    "            nn.ReLU(inplace=True),\n",
    "            nn.Conv2d(64, 64, kernel_size=3, padding=1),\n",
    "            nn.BatchNorm2d(64),\n",
    "            nn.ReLU(inplace=True),\n",
    "            nn.MaxPool2d(kernel_size=2, stride=2),\n",
    "            nn.Dropout(0.25),\n",
    "            \n",
    "            # 第三层卷积\n",
    "            nn.Conv2d(64, 128, kernel_size=3, padding=1),\n",
    "            nn.BatchNorm2d(128),\n",
    "            nn.ReLU(inplace=True),\n",
    "            nn.Conv2d(128, 128, kernel_size=3, padding=1),\n",
    "            nn.BatchNorm2d(128),\n",
    "            nn.ReLU(inplace=True),\n",
    "            nn.MaxPool2d(kernel_size=2, stride=2),\n",
    "            nn.Dropout(0.25),\n",
    "        )\n",
    "        \n",
    "        # 全连接分类器\n",
    "        self.classifier = nn.Sequential(\n",
    "            nn.Flatten(),\n",
    "            nn.Linear(128 * 4 * 4, 512),\n",
    "            nn.BatchNorm1d(512),\n",
    "            nn.ReLU(inplace=True),\n",
    "            nn.Dropout(0.5),\n",
    "            nn.Linear(512, num_classes)\n",
    "        )\n",
    "        \n",
    "    def forward(self, x):\n",
    "        x = self.features(x)\n",
    "        x = self.classifier(x)\n",
    "        return x"
   ]
  },
  {
   "cell_type": "code",
   "execution_count": 15,
   "metadata": {},
   "outputs": [],
   "source": [
    "substitute_model = SubstituteModel(num_classes=10).to(device)"
   ]
  },
  {
   "cell_type": "markdown",
   "metadata": {},
   "source": [
    "接下来，我们使用窃取构建的数据集对模型进行训练："
   ]
  },
  {
   "cell_type": "code",
   "execution_count": 16,
   "metadata": {},
   "outputs": [],
   "source": [
    "# 定义两个概率分布之间的交叉熵损失函数\n",
    "def loss_ce(p, q):\n",
    "    # 这里的 p 和 q 是经过 softmax 后的概率分布\n",
    "    # 计算交叉熵损失\n",
    "    return -(q * p.log()).sum(dim=1).mean()  \n",
    "\n",
    "def train_substitute_model(substitute_model, substitute_dataset, epochs=50, batch_size=128, lr=0.001, device='cuda', model_name='substitute_model.pth'):\n",
    "    \"\"\"在替代数据集上训练替代模型\"\"\"\n",
    "    # 创建数据加载器\n",
    "    train_loader = DataLoader(substitute_dataset, batch_size=batch_size, shuffle=True)\n",
    "    \n",
    "    # 定义损失函数和优化器\n",
    "    # criterion = nn.CrossEntropyLoss()\n",
    "    criterion = loss_ce\n",
    "    optimizer = optim.Adam(substitute_model.parameters(), lr=lr, weight_decay=1e-4)\n",
    "    scheduler = optim.lr_scheduler.ReduceLROnPlateau(optimizer, 'min', patience=3, factor=0.5)\n",
    "    \n",
    "    # 训练循环\n",
    "    substitute_model.to(device)\n",
    "    best_acc = 0.0\n",
    "    \n",
    "    for epoch in range(epochs):\n",
    "        substitute_model.train()\n",
    "        running_loss = 0.0\n",
    "        correct = 0\n",
    "        total = 0\n",
    "        \n",
    "        for inputs, targets in train_loader:\n",
    "            # 这里的 targets 是受害者模型关于这个 input 预测的概率分布\n",
    "            inputs, targets = inputs.to(device), targets.to(device)\n",
    "            \n",
    "            optimizer.zero_grad()\n",
    "            outputs = substitute_model(inputs)\n",
    "            # loss = criterion(outputs, targets)\n",
    "            # 根据受害者模型预测的概率分布计算损失\n",
    "            loss = criterion(F.softmax(outputs, dim=1), targets)\n",
    "            loss.backward()\n",
    "            optimizer.step()\n",
    "            \n",
    "            running_loss += loss.item()\n",
    "            _, predicted = outputs.max(1)\n",
    "            total += targets.size(0)\n",
    "            # correct += predicted.eq(targets).sum().item()\n",
    "            correct += (predicted == targets.argmax(dim=1)).sum().item()\n",
    "        \n",
    "        # 计算准确率和平均损失\n",
    "        epoch_loss = running_loss / len(train_loader)\n",
    "        epoch_acc = 100. * correct / total\n",
    "        \n",
    "        print(f'Epoch {epoch+1}/{epochs} | Loss: {epoch_loss:.4f} | Acc: {epoch_acc:.2f}%')\n",
    "        \n",
    "        # 学习率调度\n",
    "        scheduler.step(epoch_loss)\n",
    "        \n",
    "        # 保存最佳模型\n",
    "        if epoch_acc > best_acc:\n",
    "            best_acc = epoch_acc\n",
    "            torch.save(substitute_model.state_dict(), model_name)\n",
    "            print(f'Saved best model with accuracy: {best_acc:.2f}%')\n",
    "    \n",
    "    print(f'Finished training. Best accuracy: {best_acc:.2f}%')\n",
    "    return substitute_model"
   ]
  },
  {
   "cell_type": "code",
   "execution_count": 17,
   "metadata": {},
   "outputs": [
    {
     "name": "stdout",
     "output_type": "stream",
     "text": [
      "开始训练替代模型...\n",
      "Epoch 1/20 | Loss: 2.0532 | Acc: 29.07%\n",
      "Saved best model with accuracy: 29.07%\n",
      "Epoch 2/20 | Loss: 1.7705 | Acc: 40.13%\n",
      "Saved best model with accuracy: 40.13%\n",
      "Epoch 3/20 | Loss: 1.6312 | Acc: 47.67%\n",
      "Saved best model with accuracy: 47.67%\n",
      "Epoch 4/20 | Loss: 1.5711 | Acc: 50.77%\n",
      "Saved best model with accuracy: 50.77%\n",
      "Epoch 5/20 | Loss: 1.4800 | Acc: 55.40%\n",
      "Saved best model with accuracy: 55.40%\n",
      "Epoch 6/20 | Loss: 1.3876 | Acc: 58.60%\n",
      "Saved best model with accuracy: 58.60%\n",
      "Epoch 7/20 | Loss: 1.3287 | Acc: 63.47%\n",
      "Saved best model with accuracy: 63.47%\n",
      "Epoch 8/20 | Loss: 1.2760 | Acc: 65.37%\n",
      "Saved best model with accuracy: 65.37%\n",
      "Epoch 9/20 | Loss: 1.2140 | Acc: 68.67%\n",
      "Saved best model with accuracy: 68.67%\n",
      "Epoch 10/20 | Loss: 1.1513 | Acc: 72.33%\n",
      "Saved best model with accuracy: 72.33%\n",
      "Epoch 11/20 | Loss: 1.1062 | Acc: 74.63%\n",
      "Saved best model with accuracy: 74.63%\n",
      "Epoch 12/20 | Loss: 1.0833 | Acc: 75.30%\n",
      "Saved best model with accuracy: 75.30%\n",
      "Epoch 13/20 | Loss: 1.0507 | Acc: 78.27%\n",
      "Saved best model with accuracy: 78.27%\n",
      "Epoch 14/20 | Loss: 0.9809 | Acc: 81.40%\n",
      "Saved best model with accuracy: 81.40%\n",
      "Epoch 15/20 | Loss: 0.9693 | Acc: 81.83%\n",
      "Saved best model with accuracy: 81.83%\n",
      "Epoch 16/20 | Loss: 0.9290 | Acc: 83.87%\n",
      "Saved best model with accuracy: 83.87%\n",
      "Epoch 17/20 | Loss: 0.9031 | Acc: 85.80%\n",
      "Saved best model with accuracy: 85.80%\n",
      "Epoch 18/20 | Loss: 0.8854 | Acc: 86.73%\n",
      "Saved best model with accuracy: 86.73%\n",
      "Epoch 19/20 | Loss: 0.8643 | Acc: 87.97%\n",
      "Saved best model with accuracy: 87.97%\n",
      "Epoch 20/20 | Loss: 0.8476 | Acc: 88.33%\n",
      "Saved best model with accuracy: 88.33%\n",
      "Finished training. Best accuracy: 88.33%\n"
     ]
    }
   ],
   "source": [
    "# 在替代数据集上训练替代模型\n",
    "print(\"开始训练替代模型...\")\n",
    "trained_substitute_model = train_substitute_model(\n",
    "    substitute_model=substitute_model,\n",
    "    substitute_dataset=substitute_dataset,\n",
    "    epochs=20,\n",
    "    device=device\n",
    ")"
   ]
  },
  {
   "cell_type": "markdown",
   "metadata": {},
   "source": [
    "接下来，我们对窃取数据集上训练的模型进行评估："
   ]
  },
  {
   "cell_type": "code",
   "execution_count": 18,
   "metadata": {},
   "outputs": [
    {
     "name": "stdout",
     "output_type": "stream",
     "text": [
      "Model Test Accuracy:  62.83 %\n"
     ]
    }
   ],
   "source": [
    "print(\"Model Test Accuracy: \", test_model(substitute_model, testloader), '%')"
   ]
  },
  {
   "cell_type": "markdown",
   "metadata": {},
   "source": [
    "可以发现，窃取模型攻击利用对受害者模型的少量查询，获取了表现“还可以”的模型，这样，攻击者就可以用极低的时间和训练成本来获取一个模型。"
   ]
  },
  {
   "cell_type": "markdown",
   "metadata": {},
   "source": [
    "# 2. 模型窃取防御\n",
    "\n",
    "模型窃取防御的目的是让攻击者无法通过简单的查询就能获取模型输出分布/模型参数。\n",
    "\n",
    "一般来说，被窃取模型准确率越高，它们输出的信息分布就会过于精确，导致攻击者很容易获取到高质量的 输入-输出 对作为高质量数据集，进而通过高质量的数据集来训练出替代模型。\n",
    "\n",
    "模型窃取防御可以从这个方向出发，通过**模糊化技术**，例如模糊决策边界、模糊输入概率等等方式，对窃取攻击进行防御。"
   ]
  },
  {
   "cell_type": "markdown",
   "metadata": {},
   "source": [
    "## 2.1 信息模糊\n",
    "对受害者模型的**输出概率向量**进行模糊化操作，使得输出的向量包含更少、更粗糙的信息，从而增大窃取攻击的学习难度\n",
    "\n",
    "Shokri 等人在 2017 年提出了四种针对模型窃取的防御方法：\n",
    "1. **输出向量限制为前 k 个类**：极端情况下，模型只返回最大可能的类别标签\n",
    "2. **输出向量四舍五入**：将输出向量中的logits值保留 $d$ 位小数，随着 $d$ 值减小，模型泄露的信息也就越小\n",
    "3. **增加输出向量的信息熵**：向 softmax 层增加调节参数 $\\tau$ ，计算 $\\text{softmax}(z)=\\frac {e^{z_i/\\tau}}{\\sum\\limits_j e^{z_j/\\tau}}$ 。随着 $\\tau$ 的增大，输出向量变得更均匀，输出向量的熵增大，泄露的信息也就越少。\n",
    "4. **正则化**：避免模型因为过拟合学习到敏感的决策边界从而泄露敏感信息\n"
   ]
  },
  {
   "cell_type": "markdown",
   "metadata": {},
   "source": [
    "在本次实验中，我们尝试前三种方法，即**限制为前 k 个类、输出向量四舍五入到 d 位、增加输出信息熵**来实验其防御效果。下面的代码定义了一层模型的“防御层”，并将其拼接至原模型的最后一层之后形成一个新模型，用于模糊模型的输出信息。而该操作不会影响模型的性能，因为模型预测的最大标签不会改变。"
   ]
  },
  {
   "cell_type": "code",
   "execution_count": 19,
   "metadata": {},
   "outputs": [
    {
     "data": {
      "text/plain": [
       "DefenseModel(\n",
       "  (model): ResNet(\n",
       "    (conv1): Conv2d(3, 64, kernel_size=(3, 3), stride=(1, 1), padding=(1, 1), bias=False)\n",
       "    (bn1): GroupNorm(32, 64, eps=1e-05, affine=True)\n",
       "    (layer1): Sequential(\n",
       "      (0): BasicBlock(\n",
       "        (conv1): Conv2d(64, 64, kernel_size=(3, 3), stride=(1, 1), padding=(1, 1), bias=False)\n",
       "        (bn1): GroupNorm(32, 64, eps=1e-05, affine=True)\n",
       "        (conv2): Conv2d(64, 64, kernel_size=(3, 3), stride=(1, 1), padding=(1, 1), bias=False)\n",
       "        (bn2): GroupNorm(32, 64, eps=1e-05, affine=True)\n",
       "        (shortcut): Sequential()\n",
       "      )\n",
       "      (1): BasicBlock(\n",
       "        (conv1): Conv2d(64, 64, kernel_size=(3, 3), stride=(1, 1), padding=(1, 1), bias=False)\n",
       "        (bn1): GroupNorm(32, 64, eps=1e-05, affine=True)\n",
       "        (conv2): Conv2d(64, 64, kernel_size=(3, 3), stride=(1, 1), padding=(1, 1), bias=False)\n",
       "        (bn2): GroupNorm(32, 64, eps=1e-05, affine=True)\n",
       "        (shortcut): Sequential()\n",
       "      )\n",
       "    )\n",
       "    (layer2): Sequential(\n",
       "      (0): BasicBlock(\n",
       "        (conv1): Conv2d(64, 128, kernel_size=(3, 3), stride=(2, 2), padding=(1, 1), bias=False)\n",
       "        (bn1): GroupNorm(32, 128, eps=1e-05, affine=True)\n",
       "        (conv2): Conv2d(128, 128, kernel_size=(3, 3), stride=(1, 1), padding=(1, 1), bias=False)\n",
       "        (bn2): GroupNorm(32, 128, eps=1e-05, affine=True)\n",
       "        (shortcut): Sequential(\n",
       "          (0): Conv2d(64, 128, kernel_size=(1, 1), stride=(2, 2), bias=False)\n",
       "          (1): GroupNorm(32, 128, eps=1e-05, affine=True)\n",
       "        )\n",
       "      )\n",
       "      (1): BasicBlock(\n",
       "        (conv1): Conv2d(128, 128, kernel_size=(3, 3), stride=(1, 1), padding=(1, 1), bias=False)\n",
       "        (bn1): GroupNorm(32, 128, eps=1e-05, affine=True)\n",
       "        (conv2): Conv2d(128, 128, kernel_size=(3, 3), stride=(1, 1), padding=(1, 1), bias=False)\n",
       "        (bn2): GroupNorm(32, 128, eps=1e-05, affine=True)\n",
       "        (shortcut): Sequential()\n",
       "      )\n",
       "    )\n",
       "    (layer3): Sequential(\n",
       "      (0): BasicBlock(\n",
       "        (conv1): Conv2d(128, 256, kernel_size=(3, 3), stride=(2, 2), padding=(1, 1), bias=False)\n",
       "        (bn1): GroupNorm(32, 256, eps=1e-05, affine=True)\n",
       "        (conv2): Conv2d(256, 256, kernel_size=(3, 3), stride=(1, 1), padding=(1, 1), bias=False)\n",
       "        (bn2): GroupNorm(32, 256, eps=1e-05, affine=True)\n",
       "        (shortcut): Sequential(\n",
       "          (0): Conv2d(128, 256, kernel_size=(1, 1), stride=(2, 2), bias=False)\n",
       "          (1): GroupNorm(32, 256, eps=1e-05, affine=True)\n",
       "        )\n",
       "      )\n",
       "      (1): BasicBlock(\n",
       "        (conv1): Conv2d(256, 256, kernel_size=(3, 3), stride=(1, 1), padding=(1, 1), bias=False)\n",
       "        (bn1): GroupNorm(32, 256, eps=1e-05, affine=True)\n",
       "        (conv2): Conv2d(256, 256, kernel_size=(3, 3), stride=(1, 1), padding=(1, 1), bias=False)\n",
       "        (bn2): GroupNorm(32, 256, eps=1e-05, affine=True)\n",
       "        (shortcut): Sequential()\n",
       "      )\n",
       "    )\n",
       "    (layer4): Sequential(\n",
       "      (0): BasicBlock(\n",
       "        (conv1): Conv2d(256, 512, kernel_size=(3, 3), stride=(2, 2), padding=(1, 1), bias=False)\n",
       "        (bn1): GroupNorm(32, 512, eps=1e-05, affine=True)\n",
       "        (conv2): Conv2d(512, 512, kernel_size=(3, 3), stride=(1, 1), padding=(1, 1), bias=False)\n",
       "        (bn2): GroupNorm(32, 512, eps=1e-05, affine=True)\n",
       "        (shortcut): Sequential(\n",
       "          (0): Conv2d(256, 512, kernel_size=(1, 1), stride=(2, 2), bias=False)\n",
       "          (1): GroupNorm(32, 512, eps=1e-05, affine=True)\n",
       "        )\n",
       "      )\n",
       "      (1): BasicBlock(\n",
       "        (conv1): Conv2d(512, 512, kernel_size=(3, 3), stride=(1, 1), padding=(1, 1), bias=False)\n",
       "        (bn1): GroupNorm(32, 512, eps=1e-05, affine=True)\n",
       "        (conv2): Conv2d(512, 512, kernel_size=(3, 3), stride=(1, 1), padding=(1, 1), bias=False)\n",
       "        (bn2): GroupNorm(32, 512, eps=1e-05, affine=True)\n",
       "        (shortcut): Sequential()\n",
       "      )\n",
       "    )\n",
       "    (avgpool): AdaptiveAvgPool2d(output_size=(1, 1))\n",
       "    (fc): Linear(in_features=512, out_features=10, bias=True)\n",
       "  )\n",
       "  (defense_layer): defense_layer()\n",
       ")"
      ]
     },
     "execution_count": 19,
     "metadata": {},
     "output_type": "execute_result"
    }
   ],
   "source": [
    "class defense_layer(nn.Module):\n",
    "    \"\"\"\n",
    "    自定义一个简单的防御层，用于拼接到原受害者模型最后一层之后\n",
    "    pytorch 通过继承 nn.Module 来定义一个模型层，具体的细节可参考官方文档 `https://docs.pytorch.org/docs/stable/notes/modules.html`\n",
    "    该层只保留输出 x 中的前 k 个值，将每个值四舍五入到第 d 位，并且根据系数 tau 进行缩放（整体除以或乘 tau）\n",
    "    \"\"\"\n",
    "    def __init__(self, k=5, d=2, tau=None):\n",
    "        \"\"\"\n",
    "        __init__ 函数在定义该层时会被调用，用于初始化一些参数\n",
    "        用来初始化这个模型层的参数\n",
    "        \"\"\"\n",
    "        super().__init__()\n",
    "        self.k = k\n",
    "        self.d = d\n",
    "        self.tau = tau\n",
    "\n",
    "    def forward(self, x):\n",
    "        \"\"\"\n",
    "        forward 函数在模型计算（如model(input)）的时候会被调用\n",
    "        x 代表传入这一层的输入，该函数的 return 返回值代表 x 经过这一层之后的结果\n",
    "        在自定义模型层时需要定义\n",
    "        \"\"\"\n",
    "        # 四舍五入到第 d 位\n",
    "        x = torch.round(x, decimals=self.d)\n",
    "        # 前 k 大位置的值保留，其余位置设为负无穷\n",
    "        indices = torch.topk(x, self.k, dim=1)[1]\n",
    "        new_x = torch.full_like(x, -float('inf'))        \n",
    "        for i in range(x.shape[0]):\n",
    "            new_x[i, indices[i]] = x[i, indices[i]]\n",
    "        # 根据 tau 进行缩放\n",
    "        if self.tau is not None:\n",
    "            new_x = new_x / self.tau\n",
    "        return new_x\n",
    "\n",
    "class DefenseModel(nn.Module):\n",
    "    \"\"\"\n",
    "    定义一个防御模型，将受害者模型和防御层拼接在一起\n",
    "    该模型的 forward 函数会先调用受害者模型的 forward 函数，然后将输出传入防御层，再调用防御层的 forward 函数\n",
    "    \"\"\"\n",
    "    def __init__(self, model, k=5, d=2, tau=None):\n",
    "        super().__init__()\n",
    "        self.model = model\n",
    "        self.defense_layer = defense_layer(k=k, d=d, tau=tau)\n",
    "\n",
    "    def forward(self, x):\n",
    "        x = self.model(x)\n",
    "        x = self.defense_layer(x)\n",
    "        return x\n",
    "\n",
    "defense_model = DefenseModel(victim_model, k=3, d=1, tau=20).to(device)\n",
    "defense_model.eval()"
   ]
  },
  {
   "cell_type": "code",
   "execution_count": 20,
   "metadata": {},
   "outputs": [
    {
     "name": "stdout",
     "output_type": "stream",
     "text": [
      "Model Test Accuracy:  93.45 %\n"
     ]
    }
   ],
   "source": [
    "print(\"Model Test Accuracy: \", test_model(defense_model, testloader), '%')"
   ]
  },
  {
   "cell_type": "markdown",
   "metadata": {},
   "source": [
    "可以看到，新模型相比原受害者模型的性能几乎一致。"
   ]
  },
  {
   "cell_type": "code",
   "execution_count": 21,
   "metadata": {},
   "outputs": [
    {
     "name": "stdout",
     "output_type": "stream",
     "text": [
      "Files already downloaded and verified\n",
      "None\n"
     ]
    },
    {
     "name": "stderr",
     "output_type": "stream",
     "text": [
      "Querying victim model: 100%|██████████| 47/47 [00:00<00:00, 351.26it/s]"
     ]
    },
    {
     "name": "stdout",
     "output_type": "stream",
     "text": [
      "替代数据集已保存至: substitute_dataset_defense_cifar10.pt\n",
      "数据集大小: 3000 样本\n"
     ]
    },
    {
     "name": "stderr",
     "output_type": "stream",
     "text": [
      "\n"
     ]
    }
   ],
   "source": [
    "# 构建查询集（使用CIFAR-10测试集的3000个样本）\n",
    "query_images = build_query_set(data_size=3000)\n",
    "\n",
    "# 创建替代数据集\n",
    "substitute_dataset_defense = create_substitute_dataset(\n",
    "    victim_model=defense_model,\n",
    "    query_images=query_images,\n",
    "    save_path=\"substitute_dataset_defense_cifar10.pt\"\n",
    ")"
   ]
  },
  {
   "cell_type": "code",
   "execution_count": 22,
   "metadata": {},
   "outputs": [],
   "source": [
    "substitute_model_defense = SubstituteModel(num_classes=10).to(device)"
   ]
  },
  {
   "cell_type": "code",
   "execution_count": 23,
   "metadata": {},
   "outputs": [
    {
     "name": "stdout",
     "output_type": "stream",
     "text": [
      "开始训练替代模型...\n",
      "Epoch 1/20 | Loss: 2.2681 | Acc: 17.90%\n",
      "Saved best model with accuracy: 17.90%\n",
      "Epoch 2/20 | Loss: 2.1479 | Acc: 24.83%\n",
      "Saved best model with accuracy: 24.83%\n",
      "Epoch 3/20 | Loss: 2.0984 | Acc: 28.70%\n",
      "Saved best model with accuracy: 28.70%\n",
      "Epoch 4/20 | Loss: 2.0666 | Acc: 33.30%\n",
      "Saved best model with accuracy: 33.30%\n",
      "Epoch 5/20 | Loss: 2.0356 | Acc: 36.87%\n",
      "Saved best model with accuracy: 36.87%\n",
      "Epoch 6/20 | Loss: 2.0113 | Acc: 38.93%\n",
      "Saved best model with accuracy: 38.93%\n",
      "Epoch 7/20 | Loss: 1.9794 | Acc: 41.57%\n",
      "Saved best model with accuracy: 41.57%\n",
      "Epoch 8/20 | Loss: 1.9681 | Acc: 42.47%\n",
      "Saved best model with accuracy: 42.47%\n",
      "Epoch 9/20 | Loss: 1.9418 | Acc: 46.03%\n",
      "Saved best model with accuracy: 46.03%\n",
      "Epoch 10/20 | Loss: 1.9195 | Acc: 46.03%\n",
      "Epoch 11/20 | Loss: 1.8952 | Acc: 48.17%\n",
      "Saved best model with accuracy: 48.17%\n",
      "Epoch 12/20 | Loss: 1.8845 | Acc: 48.20%\n",
      "Saved best model with accuracy: 48.20%\n",
      "Epoch 13/20 | Loss: 1.8639 | Acc: 50.47%\n",
      "Saved best model with accuracy: 50.47%\n",
      "Epoch 14/20 | Loss: 1.8439 | Acc: 50.63%\n",
      "Saved best model with accuracy: 50.63%\n",
      "Epoch 15/20 | Loss: 1.8243 | Acc: 51.27%\n",
      "Saved best model with accuracy: 51.27%\n",
      "Epoch 16/20 | Loss: 1.8021 | Acc: 52.90%\n",
      "Saved best model with accuracy: 52.90%\n",
      "Epoch 17/20 | Loss: 1.7868 | Acc: 52.77%\n",
      "Epoch 18/20 | Loss: 1.7694 | Acc: 53.80%\n",
      "Saved best model with accuracy: 53.80%\n",
      "Epoch 19/20 | Loss: 1.7568 | Acc: 53.43%\n",
      "Epoch 20/20 | Loss: 1.7349 | Acc: 54.77%\n",
      "Saved best model with accuracy: 54.77%\n",
      "Finished training. Best accuracy: 54.77%\n"
     ]
    }
   ],
   "source": [
    "# 在模糊后的替代数据集上训练替代模型\n",
    "print(\"开始训练替代模型...\")\n",
    "trained_substitute_model_defense = train_substitute_model(\n",
    "    substitute_model=substitute_model_defense,\n",
    "    substitute_dataset=substitute_dataset_defense,\n",
    "    epochs=20,\n",
    "    device=device\n",
    ")"
   ]
  },
  {
   "cell_type": "markdown",
   "metadata": {},
   "source": [
    "此时替代模型的训练准确率大幅下降，可见防御层干扰了替代模型的训练过程。我们来看看此时替代模型在测试集上的训练效果。"
   ]
  },
  {
   "cell_type": "code",
   "execution_count": 24,
   "metadata": {},
   "outputs": [
    {
     "name": "stdout",
     "output_type": "stream",
     "text": [
      "Model Test Accuracy:  41.07 %\n"
     ]
    }
   ],
   "source": [
    "print(\"Model Test Accuracy: \", test_model(substitute_model_defense, testloader), '%')"
   ]
  },
  {
   "cell_type": "markdown",
   "metadata": {},
   "source": [
    "可以发现，新训练的模型在测试集上的准确率有接近 $10\\%$ 的下降，可见防御层起到了一定的效果"
   ]
  },
  {
   "cell_type": "markdown",
   "metadata": {},
   "source": [
    "## 2.2 模型置信度模糊\n",
    "除了取 top-k 的预测类别进行输出，模糊化输出外，防御者还可以通过对模型的logits层进行扰动操作，让模型的输出分布受到改变，进而让攻击者获取到低质量的数据集。"
   ]
  },
  {
   "cell_type": "markdown",
   "metadata": {},
   "source": [
    "这里提供一种方法：根据带温度的softmax来计算每个类别的概率分布，对于某些类别，它的最高概率若不达到阈值，则看作低置信度样本，对其扰动。\n",
    "\n",
    "扰动策略：\n",
    "1. 选择一个与原预测不同的随机类别。\n",
    "2. 将原预测类别的logits缩放（如0.5%）。\n",
    "3. 将随机选择的类别logits放大10倍。"
   ]
  },
  {
   "cell_type": "code",
   "execution_count": null,
   "metadata": {},
   "outputs": [],
   "source": [
    "import torch\n",
    "import torch.nn.functional as F\n",
    "\n",
    "def perturb_prediction(outputs, confidence_threshold=0.60, temperature=1.75):\n",
    "    \"\"\"\n",
    "    基于置信度对模型预测结果进行扰动, 首先是用softmax和温度来计算预测概率分布\n",
    "    , 找出置信度(最大预测概率)低于阈值confidence_threshold的样本, 这些样本属于不易学习的样本.\n",
    "    对这些硬样本进行输出logits层的扰动, 模型原预测类别的logits值降低(如0.5%), 提高随机类别的logits\n",
    "    值(如10倍)。\n",
    "    \n",
    "    参数:\n",
    "        outputs: 模型原始输出logits (batch_size, num_classes)\n",
    "        confidence_threshold: 置信度阈值，低于此值的预测将被扰动\n",
    "        temperature: softmax温度参数，控制概率分布的平滑度\n",
    "        device: 计算设备\n",
    "        \n",
    "    返回:\n",
    "        扰动后的输出logits\n",
    "    \"\"\"\n",
    "    # 计算softmax概率和最大置信度\n",
    "    probs = F.softmax(outputs / temperature, dim=1)\n",
    "    max_probs, predicted = probs.max(1)\n",
    "    \n",
    "    # 识别需要扰动的低置信度样本\n",
    "    mask = max_probs < confidence_threshold\n",
    "    num_classes = outputs.size(1)\n",
    "    \n",
    "    # print(f\"低置信度样本比例 ({confidence_threshold}): {(mask.sum()/len(mask)):.2%}\")\n",
    "    \n",
    "    # 如果没有低置信度样本，直接返回原始输出\n",
    "    if mask.sum() == 0:\n",
    "        return outputs\n",
    "    \n",
    "    # 对低置信度样本进行扰动\n",
    "    new_outputs = outputs.clone()\n",
    "    \n",
    "    # 为每个需要扰动的样本生成随机标签（确保与原预测不同）\n",
    "    for i in range(len(outputs)):\n",
    "        if mask[i]:\n",
    "            orig_pred = predicted[i].item()\n",
    "            # 生成一个不等于orig_pred的随机标签\n",
    "            candidates = [j for j in range(num_classes) if j != orig_pred]\n",
    "            random_label = candidates[torch.randint(0, len(candidates), (1,)).item()]\n",
    "            \n",
    "            # 应用扰动\n",
    "            new_outputs[i, orig_pred] *= 0.005  # 降低原预测logits分数\n",
    "            new_outputs[i, random_label] *= 10  # 提高随机标签logits分数\n",
    "    \n",
    "    return new_outputs"
   ]
  },
  {
   "cell_type": "markdown",
   "metadata": {},
   "source": [
    "在这个输出扰动的策略下，我们对受害者模型进行输入-输出数据集的窃取："
   ]
  },
  {
   "cell_type": "code",
   "execution_count": 26,
   "metadata": {},
   "outputs": [
    {
     "name": "stdout",
     "output_type": "stream",
     "text": [
      "Files already downloaded and verified\n",
      "<function perturb_prediction at 0x7f6fd4137c10>\n"
     ]
    },
    {
     "name": "stderr",
     "output_type": "stream",
     "text": [
      "Querying victim model: 100%|██████████| 47/47 [00:00<00:00, 268.97it/s]"
     ]
    },
    {
     "name": "stdout",
     "output_type": "stream",
     "text": [
      "替代数据集已保存至: substitute_dataset_cifar10.pt\n",
      "数据集大小: 3000 样本\n"
     ]
    },
    {
     "name": "stderr",
     "output_type": "stream",
     "text": [
      "\n"
     ]
    }
   ],
   "source": [
    "# 构建查询集（使用CIFAR-10测试集的3000个样本）\n",
    "query_images = build_query_set(data_size=3000)\n",
    "\n",
    "# 创建替代数据集\n",
    "substitute_dataset = create_substitute_dataset(\n",
    "    victim_model=victim_model,\n",
    "    query_images=query_images,\n",
    "    save_path=\"substitute_dataset_cifar10.pt\",\n",
    "    # output_perturbation = perturb_prediction\n",
    "    output_perturbation=perturb_prediction\n",
    ")"
   ]
  },
  {
   "cell_type": "markdown",
   "metadata": {},
   "source": [
    "我们在这个受到输出扰动的数据集上，对替代模型进行训练："
   ]
  },
  {
   "cell_type": "code",
   "execution_count": 27,
   "metadata": {},
   "outputs": [],
   "source": [
    "substitute_model_output_perturbation_defense = SubstituteModel(num_classes=10)"
   ]
  },
  {
   "cell_type": "code",
   "execution_count": 28,
   "metadata": {},
   "outputs": [
    {
     "name": "stdout",
     "output_type": "stream",
     "text": [
      "开始训练替代模型...\n",
      "Epoch 1/20 | Loss: 2.3503 | Acc: 21.07%\n",
      "Saved best model with accuracy: 21.07%\n",
      "Epoch 2/20 | Loss: 2.2630 | Acc: 32.07%\n",
      "Saved best model with accuracy: 32.07%\n",
      "Epoch 3/20 | Loss: 2.2269 | Acc: 35.43%\n",
      "Saved best model with accuracy: 35.43%\n",
      "Epoch 4/20 | Loss: 2.2060 | Acc: 37.63%\n",
      "Saved best model with accuracy: 37.63%\n",
      "Epoch 5/20 | Loss: 2.1768 | Acc: 41.80%\n",
      "Saved best model with accuracy: 41.80%\n",
      "Epoch 6/20 | Loss: 2.1551 | Acc: 43.87%\n",
      "Saved best model with accuracy: 43.87%\n",
      "Epoch 7/20 | Loss: 2.1396 | Acc: 45.87%\n",
      "Saved best model with accuracy: 45.87%\n",
      "Epoch 8/20 | Loss: 2.1132 | Acc: 48.27%\n",
      "Saved best model with accuracy: 48.27%\n",
      "Epoch 9/20 | Loss: 2.0885 | Acc: 50.57%\n",
      "Saved best model with accuracy: 50.57%\n",
      "Epoch 10/20 | Loss: 2.0657 | Acc: 52.70%\n",
      "Saved best model with accuracy: 52.70%\n",
      "Epoch 11/20 | Loss: 2.0513 | Acc: 52.93%\n",
      "Saved best model with accuracy: 52.93%\n",
      "Epoch 12/20 | Loss: 2.0257 | Acc: 55.87%\n",
      "Saved best model with accuracy: 55.87%\n",
      "Epoch 13/20 | Loss: 2.0151 | Acc: 55.50%\n",
      "Epoch 14/20 | Loss: 1.9884 | Acc: 57.20%\n",
      "Saved best model with accuracy: 57.20%\n",
      "Epoch 15/20 | Loss: 1.9828 | Acc: 57.40%\n",
      "Saved best model with accuracy: 57.40%\n",
      "Epoch 16/20 | Loss: 1.9585 | Acc: 58.53%\n",
      "Saved best model with accuracy: 58.53%\n",
      "Epoch 17/20 | Loss: 1.9392 | Acc: 58.77%\n",
      "Saved best model with accuracy: 58.77%\n",
      "Epoch 18/20 | Loss: 1.9339 | Acc: 60.33%\n",
      "Saved best model with accuracy: 60.33%\n",
      "Epoch 19/20 | Loss: 1.9022 | Acc: 59.47%\n",
      "Epoch 20/20 | Loss: 1.8980 | Acc: 59.87%\n",
      "Finished training. Best accuracy: 60.33%\n"
     ]
    }
   ],
   "source": [
    "# 在替代数据集上训练替代模型\n",
    "print(\"开始训练替代模型...\")\n",
    "trained_substitute_model = train_substitute_model(\n",
    "    substitute_model=substitute_model_output_perturbation_defense,\n",
    "    substitute_dataset=substitute_dataset,\n",
    "    epochs=20,\n",
    "    device=device\n",
    ")"
   ]
  },
  {
   "cell_type": "markdown",
   "metadata": {},
   "source": [
    "测试受害者模型和替代模型的性能："
   ]
  },
  {
   "cell_type": "code",
   "execution_count": 29,
   "metadata": {},
   "outputs": [
    {
     "name": "stdout",
     "output_type": "stream",
     "text": [
      "Model Test Accuracy:  85.1 %\n"
     ]
    }
   ],
   "source": [
    "print(\"Model Test Accuracy: \", test_model(victim_model, testloader, perturbation=perturb_prediction), '%')"
   ]
  },
  {
   "cell_type": "code",
   "execution_count": 30,
   "metadata": {},
   "outputs": [
    {
     "name": "stdout",
     "output_type": "stream",
     "text": [
      "Model Test Accuracy:  50.82 %\n"
     ]
    }
   ],
   "source": [
    "print(\"Model Test Accuracy: \", test_model(substitute_model_output_perturbation_defense, testloader), '%')"
   ]
  },
  {
   "cell_type": "markdown",
   "metadata": {},
   "source": [
    "可以发现受害者模型的准确率会因为logits层输出扰动而受到一定影响，但是攻击者所训练出的替代模型也会受到较大影响，较好地实现了在受害者模型性能影响不高的情况下，对模型安全性的保障。"
   ]
  }
 ],
 "metadata": {
  "kernelspec": {
   "display_name": "TA",
   "language": "python",
   "name": "python3"
  },
  "language_info": {
   "codemirror_mode": {
    "name": "ipython",
    "version": 3
   },
   "file_extension": ".py",
   "mimetype": "text/x-python",
   "name": "python",
   "nbconvert_exporter": "python",
   "pygments_lexer": "ipython3",
   "version": "3.8.12"
  }
 },
 "nbformat": 4,
 "nbformat_minor": 2
}
