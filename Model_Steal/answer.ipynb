{
 "cells": [
  {
   "cell_type": "markdown",
   "metadata": {},
   "source": [
    "# 0. 课程前言\n",
    "此为 <<人工智能安全>> 课程第四部分: 模型窃取攻击与防御实验部分.\n",
    "\n",
    "**模型窃取攻击**的目标是通过一定手段窃取得到一个跟 受害者模型 功能和性能近似的窃取模型，从而避开昂贵的模型训练并从中获益。\n",
    "\n",
    "<img src=\"./imgs/model steal.png\" alt=\"替代模型窃取攻击示意图\" style=\"height: 300px; max-width: 100%;\">\n",
    "\n",
    "上图为一个简单基础的模型窃取攻击过程，攻击者在黑盒环境下与受害者模型交互，获取模型的输入与输出，并不断调整查询样本来获取模型更多的决策边界信息。攻击者可以将此输入-输出作为数据集，对自己的模型进行模仿学习，得到一个与受害者模型相似的窃取模型。\n",
    "\n",
    "一般来说，模型窃取攻击的主要目标包括：\n",
    "1. 低代价：以远低于受害者模型训练成本的代价获得一个可免费使用的窃取模型；\n",
    "2. 高收益：窃取得到的模型与受害者模型的功能和性能相当；\n",
    "3. 低风险：在窃取过程中可以避开相关检测并在窃取后无法被溯源。"
   ]
  },
  {
   "cell_type": "markdown",
   "metadata": {},
   "source": [
    "# 1. 模型窃取攻击\n",
    "模型窃取攻击有多种方式：基于**方程式求解**的模型窃取攻击、基于**替代模型**的窃取攻击、基于**元模型**的窃取攻击。\n",
    "\n",
    "受篇幅影响，本次实验主要将基于替代模型的窃取攻击，有兴趣的同学可自行搜索学习其他类别的攻击方法。\n",
    "\n",
    "## 1.1 基于替代模型的窃取攻击\n",
    "攻击主要思路：攻击者 $A$ 在不知道受害者模型 $f(\\cdot)$ 任何先验知识情况下，向受害者模型输入查询样本 $x$ ，得到受害者模型的预测输出 $f(x)$ 。随后，攻击者根据输入和输出构建替代训练数据集 $\\mathcal D ' = {(x, f(x))}^m_{i=1}$ 。\n",
    "\n",
    "实际上，替代数据集已经完成了对袁术训练数据的（部分）提取。在替代数据集 $\\mathcal D'$ 上多次训练后，即可得到一个与受害者模型 $f(\\cdot)$ 功能和性质类似的替代模型 $f'(\\cdot)$ ，完成模型窃取攻击。\n",
    "\n",
    "<img src=\"./imgs/model steal2.png\" alt=\"替代模型窃取攻击示意图\" style=\"height: 400px; max-width: 100%;\">\n",
    "\n"
   ]
  },
  {
   "cell_type": "markdown",
   "metadata": {},
   "source": [
    "为了实现这样的模型窃取方法，我们首先需要加载受害者模型。\n",
    "\n",
    "（在实际中，模型窃取攻击者通常使用受害者API进行查询访问）"
   ]
  },
  {
   "cell_type": "code",
   "execution_count": 24,
   "metadata": {},
   "outputs": [
    {
     "name": "stdout",
     "output_type": "stream",
     "text": [
      "cuda\n"
     ]
    }
   ],
   "source": [
    "import torch\n",
    "import torch.nn as nn\n",
    "import torch.nn.functional as F\n",
    "from torch import optim\n",
    "\n",
    "import torchvision\n",
    "import torchvision.transforms as transforms\n",
    "from torch.utils.data import DataLoader, Dataset\n",
    "\n",
    "import os\n",
    "import random\n",
    "import numpy as np\n",
    "import matplotlib.pyplot as plt\n",
    "\n",
    "from tqdm import tqdm\n",
    "\n",
    "import datasets\n",
    "\n",
    "import cifar_model\n",
    "\n",
    "device = torch.device(\"cuda\" if torch.cuda.is_available() else \"cpu\")\n",
    "print(device)"
   ]
  },
  {
   "cell_type": "code",
   "execution_count": 25,
   "metadata": {},
   "outputs": [],
   "source": [
    "model_path = \"./models/\"\n",
    "model_list = [\n",
    "    \"cifar10_resnet18.pth\",\n",
    "    \"cifar10_model.pth\"\n",
    "]\n",
    "\n",
    "# 加载模型\n",
    "def load_model(model_path, num_classes, device):\n",
    "    # 加载模型结构\n",
    "    model = cifar_model.ResNet18(num_classes=num_classes)\n",
    "\n",
    "    # 加载模型权重\n",
    "    if device == 'cpu':\n",
    "        state_dict = torch.load(model_path, map_location=torch.device('cpu'))\n",
    "    else:\n",
    "        state_dict = torch.load(model_path)\n",
    "    \n",
    "    # 加载权重到模型\n",
    "    model.load_state_dict(state_dict)\n",
    "    model.to(device)\n",
    "    model.eval()  # 设置为评估模式\n",
    "\n",
    "    print(\"加载模型: \", model_path)\n",
    "    return model"
   ]
  },
  {
   "cell_type": "code",
   "execution_count": 26,
   "metadata": {},
   "outputs": [
    {
     "name": "stdout",
     "output_type": "stream",
     "text": [
      "加载模型:  ./models/cifar10_resnet18.pth\n"
     ]
    },
    {
     "name": "stderr",
     "output_type": "stream",
     "text": [
      "/tmp/ipykernel_1870033/168071617.py:16: FutureWarning: You are using `torch.load` with `weights_only=False` (the current default value), which uses the default pickle module implicitly. It is possible to construct malicious pickle data which will execute arbitrary code during unpickling (See https://github.com/pytorch/pytorch/blob/main/SECURITY.md#untrusted-models for more details). In a future release, the default value for `weights_only` will be flipped to `True`. This limits the functions that could be executed during unpickling. Arbitrary objects will no longer be allowed to be loaded via this mode unless they are explicitly allowlisted by the user via `torch.serialization.add_safe_globals`. We recommend you start setting `weights_only=True` for any use case where you don't have full control of the loaded file. Please open an issue on GitHub for any issues related to this experimental feature.\n",
      "  state_dict = torch.load(model_path)\n"
     ]
    }
   ],
   "source": [
    "victim_model = load_model(model_path + model_list[0], num_classes=10, device=device)"
   ]
  },
  {
   "cell_type": "markdown",
   "metadata": {},
   "source": [
    "对加载的受害者模型进行测试"
   ]
  },
  {
   "cell_type": "code",
   "execution_count": 27,
   "metadata": {},
   "outputs": [
    {
     "name": "stdout",
     "output_type": "stream",
     "text": [
      "Files already downloaded and verified\n"
     ]
    }
   ],
   "source": [
    "transform_test = transforms.Compose([\n",
    "    transforms.ToTensor(),\n",
    "    transforms.Normalize((0.4914, 0.4822, 0.4465), (0.2023, 0.1994, 0.2010)),\n",
    "])\n",
    "\n",
    "# 加载CIFAR-10测试数据集\n",
    "testset = torchvision.datasets.CIFAR10(\n",
    "    root='./data', train=False, download=True, transform=transform_test)\n",
    "testloader = DataLoader(testset, batch_size=100, shuffle=False, num_workers=4, pin_memory=True)"
   ]
  },
  {
   "cell_type": "code",
   "execution_count": 28,
   "metadata": {},
   "outputs": [],
   "source": [
    "# 测试模型\n",
    "criterion = nn.CrossEntropyLoss(label_smoothing=0.1)\n",
    "def test_model(model, dataloader):\n",
    "    model.eval()\n",
    "    test_loss = 0\n",
    "    correct = 0\n",
    "    total = 0\n",
    "    with torch.no_grad():\n",
    "        for batch_idx, (inputs, targets) in enumerate(dataloader):\n",
    "            inputs, targets = inputs.to(device), targets.to(device)\n",
    "            outputs = model(inputs)\n",
    "            loss = criterion(outputs, targets)\n",
    "            \n",
    "            test_loss += loss.item()\n",
    "            _, predicted = outputs.max(1)\n",
    "            total += targets.size(0)\n",
    "            correct += predicted.eq(targets).sum().item()\n",
    "    \n",
    "    acc = 100.*correct/total\n",
    "    return acc"
   ]
  },
  {
   "cell_type": "code",
   "execution_count": 29,
   "metadata": {},
   "outputs": [
    {
     "name": "stdout",
     "output_type": "stream",
     "text": [
      "Model Test Accuracy:  95.28 %\n"
     ]
    }
   ],
   "source": [
    "print(\"Model Test Accuracy: \", test_model(victim_model, testloader), '%')"
   ]
  },
  {
   "cell_type": "markdown",
   "metadata": {},
   "source": [
    "接下来，我们作为攻击者，对受害者模型进行轮询访问，以获取其查询-预测对:"
   ]
  },
  {
   "cell_type": "markdown",
   "metadata": {},
   "source": [
    "现在有一个问题：攻击者如何获取用于查询的数据集？\n",
    "\n",
    "虽然在实际中，攻击者并不知道模型的任何先验知识，但是知道其功能是什么。举一个简单的例子：受害者模型是一个对猫狗的二分类问题，攻击者即可收集猫和狗的图像作为对模型的查询数据集。\n",
    "\n",
    "在本次实验中，受害者模型是一个10-分类问题，简单起见，我们直接对 cifar-10 公开数据集进行随机采样，以作为对受害者模型的查询数据集。"
   ]
  },
  {
   "cell_type": "code",
   "execution_count": 106,
   "metadata": {},
   "outputs": [],
   "source": [
    "def build_query_set(dataset_name=\"cifar10\", data_size=10000, use_public_data=True):\n",
    "    \"\"\"构建用于查询受害者模型的数据集\"\"\"\n",
    "    if use_public_data:\n",
    "        if dataset_name == \"cifar10\":\n",
    "            transform = transforms.Compose([\n",
    "                transforms.ToTensor(),\n",
    "                transforms.Normalize((0.4914, 0.4822, 0.4465), (0.2023, 0.1994, 0.2010)),\n",
    "            ])\n",
    "            query_dataset = torchvision.datasets.CIFAR10(\n",
    "                root='./data', train=True, download=True, transform=transform)\n",
    "            \n",
    "            # 随机采样一部分数据\n",
    "            indices = np.random.choice(len(query_dataset), data_size, replace=False)\n",
    "            query_images = torch.stack([query_dataset[i][0] for i in indices])\n",
    "            return query_images\n",
    "    \n",
    "    else:\n",
    "        # 生成随机噪声数据\n",
    "        return torch.randn(data_size, 3, 32, 32) * 0.5 + 0.5"
   ]
  },
  {
   "cell_type": "markdown",
   "metadata": {},
   "source": [
    "于是，我们便可以使用查询数据集对受害者模型进行轮询："
   ]
  },
  {
   "cell_type": "code",
   "execution_count": 107,
   "metadata": {},
   "outputs": [],
   "source": [
    "def query_victim_model(victim_model, query_images, batch_size=64, device='cuda'):\n",
    "    \"\"\"向受害者模型发送查询并收集预测结果\"\"\"\n",
    "    victim_model.to(device)\n",
    "    victim_model.eval()\n",
    "    \n",
    "    all_predictions = []\n",
    "    dataloader = DataLoader(query_images, batch_size=batch_size, shuffle=False)\n",
    "    \n",
    "    with torch.no_grad():\n",
    "        for batch in tqdm(dataloader, desc=\"Querying victim model\"):\n",
    "            batch = batch.to(device)\n",
    "            outputs = victim_model(batch)\n",
    "            # 获取预测的类别\n",
    "            _, predictions = torch.max(outputs, 1)\n",
    "            all_predictions.append(predictions.cpu())\n",
    "    \n",
    "    # 合并所有批次的预测结果\n",
    "    all_predictions = torch.cat(all_predictions)\n",
    "    return all_predictions"
   ]
  },
  {
   "cell_type": "markdown",
   "metadata": {},
   "source": [
    "将获取到的查询-预测对构建成为替代数据集，我们还可以使用数据增强对替代数据集进行增强："
   ]
  },
  {
   "cell_type": "code",
   "execution_count": 108,
   "metadata": {},
   "outputs": [],
   "source": [
    "class SubstituteDataset(Dataset):\n",
    "    def __init__(self, queries, predictions, transform=None):\n",
    "        self.queries = queries\n",
    "        self.predictions = predictions\n",
    "        self.transform = transform\n",
    "        \n",
    "    def __len__(self):\n",
    "        return len(self.queries)\n",
    "    \n",
    "    def __getitem__(self, idx):\n",
    "        img, prediction = self.queries[idx], self.predictions[idx]\n",
    "        \n",
    "        if isinstance(img, np.ndarray):\n",
    "            img = torch.tensor(img)\n",
    "            \n",
    "        if self.transform:\n",
    "            img = self.transform(img)\n",
    "            \n",
    "        return img, prediction\n",
    "\n",
    "def create_substitute_dataset(victim_model, query_images, save_path=\"substitute_dataset.pt\", augment=False):\n",
    "    \"\"\"构建并保存替代数据集\"\"\"\n",
    "    # 查询受害者模型\n",
    "    predictions = query_victim_model(victim_model, query_images)\n",
    "\n",
    "    # # 定义数据增强\n",
    "    # train_transform = transforms.Compose([\n",
    "    #     transforms.ToPILImage(),\n",
    "    #     transforms.RandomCrop(32, padding=4),\n",
    "    #     transforms.RandomHorizontalFlip(),\n",
    "    #     transforms.ToTensor(),\n",
    "    #     transforms.Normalize((0.4914, 0.4822, 0.4465), (0.2023, 0.1994, 0.2010)),\n",
    "    # ])\n",
    "    \n",
    "    # 创建替代数据集\n",
    "    substitute_dataset = SubstituteDataset(query_images, predictions, train_transform if augment else None)\n",
    "    \n",
    "    # 保存数据集\n",
    "    torch.save({\n",
    "        'queries': query_images,\n",
    "        'predictions': predictions\n",
    "    }, save_path)\n",
    "    \n",
    "    print(f\"替代数据集已保存至: {save_path}\")\n",
    "    print(f\"数据集大小: {len(substitute_dataset)} 样本\")\n",
    "    return substitute_dataset"
   ]
  },
  {
   "cell_type": "code",
   "execution_count": 109,
   "metadata": {},
   "outputs": [
    {
     "name": "stdout",
     "output_type": "stream",
     "text": [
      "Files already downloaded and verified\n"
     ]
    },
    {
     "name": "stderr",
     "output_type": "stream",
     "text": [
      "Querying victim model: 100%|██████████| 157/157 [00:00<00:00, 394.91it/s]\n"
     ]
    },
    {
     "name": "stdout",
     "output_type": "stream",
     "text": [
      "替代数据集已保存至: substitute_dataset_cifar10.pt\n",
      "数据集大小: 10000 样本\n"
     ]
    }
   ],
   "source": [
    "# 构建查询集（使用CIFAR-10测试集的10000个样本）\n",
    "query_images = build_query_set(data_size=10000)\n",
    "\n",
    "# 创建替代数据集\n",
    "substitute_dataset = create_substitute_dataset(\n",
    "    victim_model=victim_model,\n",
    "    query_images=query_images,\n",
    "    save_path=\"substitute_dataset_cifar10.pt\"\n",
    ")"
   ]
  },
  {
   "cell_type": "markdown",
   "metadata": {},
   "source": [
    "我们来看一下替代数据集是什么样的："
   ]
  },
  {
   "cell_type": "code",
   "execution_count": 110,
   "metadata": {},
   "outputs": [],
   "source": [
    "CIFAR10_CLASS_NAMES = [\n",
    "    'airplane', 'automobile', 'bird', 'cat', 'deer',\n",
    "    'dog', 'frog', 'horse', 'ship', 'truck'\n",
    "]\n",
    "\n",
    "def visualize_substitute_dataset(dataset, num_samples=5, class_names=CIFAR10_CLASS_NAMES):\n",
    "    \"\"\"可视化替代数据集中的样本，显示类别名称而非数字\"\"\"\n",
    "    indices = np.random.choice(len(dataset), num_samples, replace=False)\n",
    "    \n",
    "    plt.figure(figsize=(15, 3))\n",
    "    for i, idx in enumerate(indices):\n",
    "        image, label = dataset[idx]\n",
    "        # 反归一化以便显示\n",
    "        image = image.permute(1, 2, 0).numpy()\n",
    "        image = image * np.array([0.2023, 0.1994, 0.2010]) + np.array([0.4914, 0.4822, 0.4465])\n",
    "        image = np.clip(image, 0, 1)\n",
    "        \n",
    "        # 获取类别名称\n",
    "        class_name = class_names[label] if label < len(class_names) else f\"Unknown ({label})\"\n",
    "        \n",
    "        plt.subplot(1, num_samples, i+1)\n",
    "        plt.imshow(image)\n",
    "        plt.title(f\"Predicted: {class_name}\")\n",
    "        plt.axis('off')\n",
    "    \n",
    "    plt.tight_layout()\n",
    "    plt.show()"
   ]
  },
  {
   "cell_type": "code",
   "execution_count": 111,
   "metadata": {},
   "outputs": [
    {
     "data": {
      "image/png": "[encoded data removed]",
      "text/plain": [
       "<Figure size 1500x300 with 5 Axes>"
      ]
     },
     "metadata": {},
     "output_type": "display_data"
    }
   ],
   "source": [
    "# 可视化样本\n",
    "visualize_substitute_dataset(substitute_dataset)  "
   ]
  },
  {
   "cell_type": "markdown",
   "metadata": {},
   "source": [
    "获取替代数据集后，我们便可以对自己的模型进行训练了。\n",
    "\n",
    "作为攻击者，我们并不知道模型内部的架构，因此，我们需要自定义自己的模型架构。"
   ]
  },
  {
   "cell_type": "code",
   "execution_count": 112,
   "metadata": {},
   "outputs": [],
   "source": [
    "class SubstituteModel(nn.Module):\n",
    "    def __init__(self, num_classes=10):\n",
    "        super(SubstituteModel, self).__init__()\n",
    "        self.features = nn.Sequential(\n",
    "            # 第一层卷积\n",
    "            nn.Conv2d(3, 32, kernel_size=3, padding=1),\n",
    "            nn.BatchNorm2d(32),\n",
    "            nn.ReLU(inplace=True),\n",
    "            nn.Conv2d(32, 32, kernel_size=3, padding=1),\n",
    "            nn.BatchNorm2d(32),\n",
    "            nn.ReLU(inplace=True),\n",
    "            nn.MaxPool2d(kernel_size=2, stride=2),\n",
    "            nn.Dropout(0.25),\n",
    "            \n",
    "            # 第二层卷积\n",
    "            nn.Conv2d(32, 64, kernel_size=3, padding=1),\n",
    "            nn.BatchNorm2d(64),\n",
    "            nn.ReLU(inplace=True),\n",
    "            nn.Conv2d(64, 64, kernel_size=3, padding=1),\n",
    "            nn.BatchNorm2d(64),\n",
    "            nn.ReLU(inplace=True),\n",
    "            nn.MaxPool2d(kernel_size=2, stride=2),\n",
    "            nn.Dropout(0.25),\n",
    "            \n",
    "            # 第三层卷积\n",
    "            nn.Conv2d(64, 128, kernel_size=3, padding=1),\n",
    "            nn.BatchNorm2d(128),\n",
    "            nn.ReLU(inplace=True),\n",
    "            nn.Conv2d(128, 128, kernel_size=3, padding=1),\n",
    "            nn.BatchNorm2d(128),\n",
    "            nn.ReLU(inplace=True),\n",
    "            nn.MaxPool2d(kernel_size=2, stride=2),\n",
    "            nn.Dropout(0.25),\n",
    "        )\n",
    "        \n",
    "        # 全连接分类器\n",
    "        self.classifier = nn.Sequential(\n",
    "            nn.Flatten(),\n",
    "            nn.Linear(128 * 4 * 4, 512),\n",
    "            nn.BatchNorm1d(512),\n",
    "            nn.ReLU(inplace=True),\n",
    "            nn.Dropout(0.5),\n",
    "            nn.Linear(512, num_classes)\n",
    "        )\n",
    "        \n",
    "    def forward(self, x):\n",
    "        x = self.features(x)\n",
    "        x = self.classifier(x)\n",
    "        return x"
   ]
  },
  {
   "cell_type": "code",
   "execution_count": 113,
   "metadata": {},
   "outputs": [],
   "source": [
    "substitute_model = SubstituteModel(num_classes=10).to(device)"
   ]
  },
  {
   "cell_type": "markdown",
   "metadata": {},
   "source": [
    "接下来，我们使用窃取构建的数据集对模型进行训练："
   ]
  },
  {
   "cell_type": "code",
   "execution_count": 114,
   "metadata": {},
   "outputs": [],
   "source": [
    "def train_substitute_model(substitute_model, substitute_dataset, epochs=50, batch_size=128, lr=0.001, device='cuda'):\n",
    "    \"\"\"在替代数据集上训练替代模型\"\"\"\n",
    "    # 创建数据加载器\n",
    "    train_loader = DataLoader(substitute_dataset, batch_size=batch_size, shuffle=True)\n",
    "    \n",
    "    # 定义损失函数和优化器\n",
    "    criterion = nn.CrossEntropyLoss()\n",
    "    optimizer = optim.Adam(substitute_model.parameters(), lr=lr, weight_decay=1e-4)\n",
    "    scheduler = optim.lr_scheduler.ReduceLROnPlateau(optimizer, 'min', patience=3, factor=0.5)\n",
    "    \n",
    "    # 训练循环\n",
    "    substitute_model.to(device)\n",
    "    best_acc = 0.0\n",
    "    \n",
    "    for epoch in range(epochs):\n",
    "        substitute_model.train()\n",
    "        running_loss = 0.0\n",
    "        correct = 0\n",
    "        total = 0\n",
    "        \n",
    "        for inputs, targets in train_loader:\n",
    "            inputs, targets = inputs.to(device), targets.to(device)\n",
    "            \n",
    "            optimizer.zero_grad()\n",
    "            outputs = substitute_model(inputs)\n",
    "            loss = criterion(outputs, targets)\n",
    "            loss.backward()\n",
    "            optimizer.step()\n",
    "            \n",
    "            running_loss += loss.item()\n",
    "            _, predicted = outputs.max(1)\n",
    "            total += targets.size(0)\n",
    "            correct += predicted.eq(targets).sum().item()\n",
    "        \n",
    "        # 计算准确率和平均损失\n",
    "        epoch_loss = running_loss / len(train_loader)\n",
    "        epoch_acc = 100. * correct / total\n",
    "        \n",
    "        print(f'Epoch {epoch+1}/{epochs} | Loss: {epoch_loss:.4f} | Acc: {epoch_acc:.2f}%')\n",
    "        \n",
    "        # 学习率调度\n",
    "        scheduler.step(epoch_loss)\n",
    "        \n",
    "        # 保存最佳模型\n",
    "        if epoch_acc > best_acc:\n",
    "            best_acc = epoch_acc\n",
    "            torch.save(substitute_model.state_dict(), 'substitute_model_best.pth')\n",
    "            print(f'Saved best model with accuracy: {best_acc:.2f}%')\n",
    "    \n",
    "    print(f'Finished training. Best accuracy: {best_acc:.2f}%')\n",
    "    return substitute_model"
   ]
  },
  {
   "cell_type": "code",
   "execution_count": 116,
   "metadata": {},
   "outputs": [
    {
     "name": "stdout",
     "output_type": "stream",
     "text": [
      "开始训练替代模型...\n",
      "Epoch 1/100 | Loss: 0.5103 | Acc: 81.66%\n",
      "Saved best model with accuracy: 81.66%\n",
      "Epoch 2/100 | Loss: 0.4659 | Acc: 83.58%\n",
      "Saved best model with accuracy: 83.58%\n",
      "Epoch 3/100 | Loss: 0.4395 | Acc: 83.89%\n",
      "Saved best model with accuracy: 83.89%\n",
      "Epoch 4/100 | Loss: 0.4021 | Acc: 85.82%\n",
      "Saved best model with accuracy: 85.82%\n",
      "Epoch 5/100 | Loss: 0.3872 | Acc: 86.31%\n",
      "Saved best model with accuracy: 86.31%\n",
      "Epoch 6/100 | Loss: 0.3409 | Acc: 87.96%\n",
      "Saved best model with accuracy: 87.96%\n",
      "Epoch 7/100 | Loss: 0.3110 | Acc: 89.40%\n",
      "Saved best model with accuracy: 89.40%\n",
      "Epoch 8/100 | Loss: 0.3348 | Acc: 88.18%\n",
      "Epoch 9/100 | Loss: 0.2887 | Acc: 89.69%\n",
      "Saved best model with accuracy: 89.69%\n",
      "Epoch 10/100 | Loss: 0.2813 | Acc: 90.30%\n",
      "Saved best model with accuracy: 90.30%\n",
      "Epoch 11/100 | Loss: 0.2648 | Acc: 90.66%\n",
      "Saved best model with accuracy: 90.66%\n",
      "Epoch 12/100 | Loss: 0.2755 | Acc: 90.20%\n",
      "Epoch 13/100 | Loss: 0.2328 | Acc: 91.93%\n",
      "Saved best model with accuracy: 91.93%\n",
      "Epoch 14/100 | Loss: 0.2312 | Acc: 92.01%\n",
      "Saved best model with accuracy: 92.01%\n",
      "Epoch 15/100 | Loss: 0.2041 | Acc: 92.89%\n",
      "Saved best model with accuracy: 92.89%\n",
      "Epoch 16/100 | Loss: 0.2217 | Acc: 92.45%\n",
      "Epoch 17/100 | Loss: 0.2392 | Acc: 91.77%\n",
      "Epoch 18/100 | Loss: 0.1935 | Acc: 93.21%\n",
      "Saved best model with accuracy: 93.21%\n",
      "Epoch 19/100 | Loss: 0.1874 | Acc: 93.18%\n",
      "Epoch 20/100 | Loss: 0.1651 | Acc: 94.38%\n",
      "Saved best model with accuracy: 94.38%\n",
      "Epoch 21/100 | Loss: 0.1644 | Acc: 94.30%\n",
      "Epoch 22/100 | Loss: 0.1714 | Acc: 94.19%\n",
      "Epoch 23/100 | Loss: 0.1566 | Acc: 94.69%\n",
      "Saved best model with accuracy: 94.69%\n",
      "Epoch 24/100 | Loss: 0.1406 | Acc: 95.18%\n",
      "Saved best model with accuracy: 95.18%\n",
      "Epoch 25/100 | Loss: 0.1541 | Acc: 94.89%\n",
      "Epoch 26/100 | Loss: 0.1550 | Acc: 94.65%\n",
      "Epoch 27/100 | Loss: 0.1356 | Acc: 95.21%\n",
      "Saved best model with accuracy: 95.21%\n",
      "Epoch 28/100 | Loss: 0.1426 | Acc: 95.52%\n",
      "Saved best model with accuracy: 95.52%\n",
      "Epoch 29/100 | Loss: 0.1691 | Acc: 94.02%\n",
      "Epoch 30/100 | Loss: 0.1258 | Acc: 95.53%\n",
      "Saved best model with accuracy: 95.53%\n",
      "Epoch 31/100 | Loss: 0.1048 | Acc: 96.66%\n",
      "Saved best model with accuracy: 96.66%\n",
      "Epoch 32/100 | Loss: 0.1297 | Acc: 95.27%\n",
      "Epoch 33/100 | Loss: 0.1073 | Acc: 96.35%\n",
      "Epoch 34/100 | Loss: 0.1041 | Acc: 96.56%\n",
      "Epoch 35/100 | Loss: 0.1402 | Acc: 95.00%\n",
      "Epoch 36/100 | Loss: 0.1304 | Acc: 95.95%\n",
      "Epoch 37/100 | Loss: 0.1649 | Acc: 94.11%\n",
      "Epoch 38/100 | Loss: 0.1184 | Acc: 95.98%\n",
      "Epoch 39/100 | Loss: 0.0872 | Acc: 97.23%\n",
      "Saved best model with accuracy: 97.23%\n",
      "Epoch 40/100 | Loss: 0.0657 | Acc: 97.75%\n",
      "Saved best model with accuracy: 97.75%\n",
      "Epoch 41/100 | Loss: 0.0577 | Acc: 98.26%\n",
      "Saved best model with accuracy: 98.26%\n",
      "Epoch 42/100 | Loss: 0.0572 | Acc: 98.18%\n",
      "Epoch 43/100 | Loss: 0.0531 | Acc: 98.45%\n",
      "Saved best model with accuracy: 98.45%\n",
      "Epoch 44/100 | Loss: 0.0469 | Acc: 98.45%\n",
      "Epoch 45/100 | Loss: 0.0476 | Acc: 98.64%\n",
      "Saved best model with accuracy: 98.64%\n",
      "Epoch 46/100 | Loss: 0.0452 | Acc: 98.57%\n",
      "Epoch 47/100 | Loss: 0.0402 | Acc: 98.78%\n",
      "Saved best model with accuracy: 98.78%\n",
      "Epoch 48/100 | Loss: 0.0471 | Acc: 98.70%\n",
      "Epoch 49/100 | Loss: 0.0460 | Acc: 98.60%\n",
      "Epoch 50/100 | Loss: 0.0472 | Acc: 98.55%\n",
      "Epoch 51/100 | Loss: 0.0523 | Acc: 98.50%\n",
      "Epoch 52/100 | Loss: 0.0499 | Acc: 98.54%\n",
      "Epoch 53/100 | Loss: 0.0401 | Acc: 98.77%\n",
      "Epoch 54/100 | Loss: 0.0312 | Acc: 99.09%\n",
      "Saved best model with accuracy: 99.09%\n",
      "Epoch 55/100 | Loss: 0.0283 | Acc: 99.29%\n",
      "Saved best model with accuracy: 99.29%\n",
      "Epoch 56/100 | Loss: 0.0318 | Acc: 99.09%\n",
      "Epoch 57/100 | Loss: 0.0372 | Acc: 99.15%\n",
      "Epoch 58/100 | Loss: 0.0359 | Acc: 99.17%\n",
      "Epoch 59/100 | Loss: 0.0339 | Acc: 99.04%\n",
      "Epoch 60/100 | Loss: 0.0286 | Acc: 99.17%\n",
      "Epoch 61/100 | Loss: 0.0286 | Acc: 99.18%\n",
      "Epoch 62/100 | Loss: 0.0262 | Acc: 99.17%\n",
      "Epoch 63/100 | Loss: 0.0245 | Acc: 99.29%\n",
      "Epoch 64/100 | Loss: 0.0212 | Acc: 99.42%\n",
      "Saved best model with accuracy: 99.42%\n",
      "Epoch 65/100 | Loss: 0.0232 | Acc: 99.20%\n",
      "Epoch 66/100 | Loss: 0.0286 | Acc: 99.26%\n",
      "Epoch 67/100 | Loss: 0.0251 | Acc: 99.32%\n",
      "Epoch 68/100 | Loss: 0.0209 | Acc: 99.41%\n",
      "Epoch 69/100 | Loss: 0.0202 | Acc: 99.47%\n",
      "Saved best model with accuracy: 99.47%\n",
      "Epoch 70/100 | Loss: 0.0252 | Acc: 99.31%\n",
      "Epoch 71/100 | Loss: 0.0210 | Acc: 99.49%\n",
      "Saved best model with accuracy: 99.49%\n",
      "Epoch 72/100 | Loss: 0.0207 | Acc: 99.41%\n",
      "Epoch 73/100 | Loss: 0.0179 | Acc: 99.62%\n",
      "Saved best model with accuracy: 99.62%\n",
      "Epoch 74/100 | Loss: 0.0196 | Acc: 99.44%\n",
      "Epoch 75/100 | Loss: 0.0197 | Acc: 99.44%\n",
      "Epoch 76/100 | Loss: 0.0189 | Acc: 99.50%\n",
      "Epoch 77/100 | Loss: 0.0190 | Acc: 99.53%\n",
      "Epoch 78/100 | Loss: 0.0226 | Acc: 99.48%\n",
      "Epoch 79/100 | Loss: 0.0192 | Acc: 99.53%\n",
      "Epoch 80/100 | Loss: 0.0193 | Acc: 99.56%\n",
      "Epoch 81/100 | Loss: 0.0222 | Acc: 99.50%\n",
      "Epoch 82/100 | Loss: 0.0164 | Acc: 99.63%\n",
      "Saved best model with accuracy: 99.63%\n",
      "Epoch 83/100 | Loss: 0.0183 | Acc: 99.56%\n",
      "Epoch 84/100 | Loss: 0.0173 | Acc: 99.55%\n",
      "Epoch 85/100 | Loss: 0.0162 | Acc: 99.56%\n",
      "Epoch 86/100 | Loss: 0.0158 | Acc: 99.62%\n",
      "Epoch 87/100 | Loss: 0.0164 | Acc: 99.58%\n",
      "Epoch 88/100 | Loss: 0.0169 | Acc: 99.53%\n",
      "Epoch 89/100 | Loss: 0.0149 | Acc: 99.68%\n",
      "Saved best model with accuracy: 99.68%\n",
      "Epoch 90/100 | Loss: 0.0183 | Acc: 99.54%\n",
      "Epoch 91/100 | Loss: 0.0157 | Acc: 99.59%\n",
      "Epoch 92/100 | Loss: 0.0159 | Acc: 99.63%\n",
      "Epoch 93/100 | Loss: 0.0158 | Acc: 99.56%\n",
      "Epoch 94/100 | Loss: 0.0156 | Acc: 99.66%\n",
      "Epoch 95/100 | Loss: 0.0163 | Acc: 99.53%\n",
      "Epoch 96/100 | Loss: 0.0197 | Acc: 99.65%\n",
      "Epoch 97/100 | Loss: 0.0162 | Acc: 99.60%\n",
      "Epoch 98/100 | Loss: 0.0132 | Acc: 99.68%\n",
      "Epoch 99/100 | Loss: 0.0144 | Acc: 99.61%\n",
      "Epoch 100/100 | Loss: 0.0155 | Acc: 99.64%\n",
      "Finished training. Best accuracy: 99.68%\n"
     ]
    }
   ],
   "source": [
    "# 在替代数据集上训练替代模型\n",
    "print(\"开始训练替代模型...\")\n",
    "trained_substitute_model = train_substitute_model(\n",
    "    substitute_model=substitute_model,\n",
    "    substitute_dataset=substitute_dataset,\n",
    "    epochs=100,\n",
    "    device=device\n",
    ")"
   ]
  },
  {
   "cell_type": "markdown",
   "metadata": {},
   "source": [
    "接下来，我们对窃取数据集上训练的模型进行评估："
   ]
  },
  {
   "cell_type": "code",
   "execution_count": 117,
   "metadata": {},
   "outputs": [
    {
     "name": "stdout",
     "output_type": "stream",
     "text": [
      "Model Test Accuracy:  80.04 %\n"
     ]
    }
   ],
   "source": [
    "print(\"Model Test Accuracy: \", test_model(substitute_model, testloader), '%')"
   ]
  },
  {
   "cell_type": "markdown",
   "metadata": {},
   "source": [
    "可以发现，窃取模型攻击所获取的模型的测试准确率非常高，这样，攻击者就可以用极低的时间和训练成本来获取一个高质量的模型。"
   ]
  }
 ],
 "metadata": {
  "kernelspec": {
   "display_name": "TA",
   "language": "python",
   "name": "python3"
  },
  "language_info": {
   "codemirror_mode": {
    "name": "ipython",
    "version": 3
   },
   "file_extension": ".py",
   "mimetype": "text/x-python",
   "name": "python",
   "nbconvert_exporter": "python",
   "pygments_lexer": "ipython3",
   "version": "3.8.12"
  }
 },
 "nbformat": 4,
 "nbformat_minor": 2
}
