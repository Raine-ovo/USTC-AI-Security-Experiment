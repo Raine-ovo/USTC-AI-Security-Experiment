{
 "cells": [
  {
   "cell_type": "markdown",
   "metadata": {},
   "source": [
    "# 0. 课程前言\n",
    "此为 <<人工智能安全>> 课程第四部分: 模型窃取攻击与防御实验部分.\n",
    "\n",
    "**模型窃取攻击**的目标是通过一定手段窃取得到一个跟 受害者模型 功能和性能近似的窃取模型，从而避开昂贵的模型训练并从中获益。\n",
    "\n",
    "<img src=\"./imgs/model steal.png\" alt=\"替代模型窃取攻击示意图\" style=\"height: 300px; max-width: 100%;\">\n",
    "\n",
    "上图为一个简单基础的模型窃取攻击过程，攻击者在黑盒环境下与受害者模型交互，获取模型的输入与输出，并不断调整查询样本来获取模型更多的决策边界信息。攻击者可以将此输入-输出作为数据集，对自己的模型进行模仿学习，得到一个与受害者模型相似的窃取模型。\n",
    "\n",
    "一般来说，模型窃取攻击的主要目标包括：\n",
    "1. 低代价：以远低于受害者模型训练成本的代价获得一个可免费使用的窃取模型；\n",
    "2. 高收益：窃取得到的模型与受害者模型的功能和性能相当；\n",
    "3. 低风险：在窃取过程中可以避开相关检测并在窃取后无法被溯源。"
   ]
  },
  {
   "cell_type": "markdown",
   "metadata": {},
   "source": [
    "# 1. 模型窃取攻击\n",
    "模型窃取攻击有多种方式：基于**方程式求解**的模型窃取攻击、基于**替代模型**的窃取攻击、基于**元模型**的窃取攻击。\n",
    "\n",
    "受篇幅影响，本次实验主要将基于替代模型的窃取攻击，有兴趣的同学可自行搜索学习其他类别的攻击方法。\n",
    "\n",
    "## 1.1 基于替代模型的窃取攻击\n",
    "攻击主要思路：攻击者 $A$ 在不知道受害者模型 $f(\\cdot)$ 任何先验知识情况下，向受害者模型输入查询样本 $x$ ，得到受害者模型的预测输出 $f(x)$ 。随后，攻击者根据输入和输出构建替代训练数据集 $\\mathcal D ' = {(x, f(x))}^m_{i=1}$ 。\n",
    "\n",
    "实际上，替代数据集已经完成了对袁术训练数据的（部分）提取。在替代数据集 $\\mathcal D'$ 上多次训练后，即可得到一个与受害者模型 $f(\\cdot)$ 功能和性质类似的替代模型 $f'(\\cdot)$ ，完成模型窃取攻击。\n",
    "\n",
    "<img src=\"./imgs/model steal2.png\" alt=\"替代模型窃取攻击示意图\" style=\"height: 400px; max-width: 100%;\">\n",
    "\n"
   ]
  },
  {
   "cell_type": "markdown",
   "metadata": {},
   "source": [
    "为了实现这样的模型窃取方法，我们首先需要加载受害者模型。\n",
    "\n",
    "（在实际中，模型窃取攻击者通常使用受害者API进行查询访问）"
   ]
  },
  {
   "cell_type": "code",
   "execution_count": 2,
   "metadata": {},
   "outputs": [
    {
     "name": "stdout",
     "output_type": "stream",
     "text": [
      "cuda\n"
     ]
    }
   ],
   "source": [
    "import torch\n",
    "import torch.nn as nn\n",
    "import torch.nn.functional as F\n",
    "from torch import optim\n",
    "\n",
    "import torchvision\n",
    "import torchvision.transforms as transforms\n",
    "from torch.utils.data import DataLoader, Dataset\n",
    "\n",
    "import os\n",
    "import random\n",
    "import numpy as np\n",
    "import matplotlib.pyplot as plt\n",
    "\n",
    "from tqdm import tqdm\n",
    "\n",
    "import datasets\n",
    "from opacus import PrivacyEngine\n",
    "\n",
    "import cifar_model\n",
    "\n",
    "device = torch.device(\"cuda\" if torch.cuda.is_available() else \"cpu\")\n",
    "print(device)"
   ]
  },
  {
   "cell_type": "code",
   "execution_count": 3,
   "metadata": {},
   "outputs": [],
   "source": [
    "model_path = \"./models/\"\n",
    "model_list = [\n",
    "    \"cifar10_resnet18.pth\",\n",
    "    \"cifar10_model.pth\"\n",
    "]\n",
    "\n",
    "# 加载模型\n",
    "def load_model(model_path, num_classes, device):\n",
    "    # 加载模型结构\n",
    "    model = cifar_model.ResNet18(num_classes=num_classes)\n",
    "\n",
    "    # 加载模型权重\n",
    "    if device == 'cpu':\n",
    "        state_dict = torch.load(model_path, map_location=torch.device('cpu'))\n",
    "    else:\n",
    "        state_dict = torch.load(model_path)\n",
    "    \n",
    "    # 加载权重到模型\n",
    "    model.load_state_dict(state_dict)\n",
    "    model.to(device)\n",
    "    model.eval()  # 设置为评估模式\n",
    "\n",
    "    print(\"加载模型: \", model_path)\n",
    "    return model"
   ]
  },
  {
   "cell_type": "code",
   "execution_count": 4,
   "metadata": {},
   "outputs": [
    {
     "name": "stdout",
     "output_type": "stream",
     "text": [
      "加载模型:  ./models/cifar10_resnet18.pth\n"
     ]
    },
    {
     "name": "stderr",
     "output_type": "stream",
     "text": [
      "/tmp/ipykernel_2107858/168071617.py:16: FutureWarning: You are using `torch.load` with `weights_only=False` (the current default value), which uses the default pickle module implicitly. It is possible to construct malicious pickle data which will execute arbitrary code during unpickling (See https://github.com/pytorch/pytorch/blob/main/SECURITY.md#untrusted-models for more details). In a future release, the default value for `weights_only` will be flipped to `True`. This limits the functions that could be executed during unpickling. Arbitrary objects will no longer be allowed to be loaded via this mode unless they are explicitly allowlisted by the user via `torch.serialization.add_safe_globals`. We recommend you start setting `weights_only=True` for any use case where you don't have full control of the loaded file. Please open an issue on GitHub for any issues related to this experimental feature.\n",
      "  state_dict = torch.load(model_path)\n"
     ]
    }
   ],
   "source": [
    "victim_model = load_model(model_path + model_list[0], num_classes=10, device=device)"
   ]
  },
  {
   "cell_type": "markdown",
   "metadata": {},
   "source": [
    "对加载的受害者模型进行测试"
   ]
  },
  {
   "cell_type": "code",
   "execution_count": 5,
   "metadata": {},
   "outputs": [
    {
     "name": "stdout",
     "output_type": "stream",
     "text": [
      "Files already downloaded and verified\n"
     ]
    }
   ],
   "source": [
    "transform_test = transforms.Compose([\n",
    "    transforms.ToTensor(),\n",
    "    transforms.Normalize((0.4914, 0.4822, 0.4465), (0.2023, 0.1994, 0.2010)),\n",
    "])\n",
    "\n",
    "# 加载CIFAR-10测试数据集\n",
    "testset = torchvision.datasets.CIFAR10(\n",
    "    root='./data', train=False, download=True, transform=transform_test)\n",
    "testloader = DataLoader(testset, batch_size=100, shuffle=False, num_workers=4, pin_memory=True)"
   ]
  },
  {
   "cell_type": "code",
   "execution_count": 6,
   "metadata": {},
   "outputs": [],
   "source": [
    "# 测试模型\n",
    "criterion = nn.CrossEntropyLoss(label_smoothing=0.1)\n",
    "def test_model(model, dataloader):\n",
    "    model.eval()\n",
    "    test_loss = 0\n",
    "    correct = 0\n",
    "    total = 0\n",
    "    with torch.no_grad():\n",
    "        for batch_idx, (inputs, targets) in enumerate(dataloader):\n",
    "            inputs, targets = inputs.to(device), targets.to(device)\n",
    "            outputs = model(inputs)\n",
    "            loss = criterion(outputs, targets)\n",
    "            \n",
    "            test_loss += loss.item()\n",
    "            _, predicted = outputs.max(1)\n",
    "            total += targets.size(0)\n",
    "            correct += predicted.eq(targets).sum().item()\n",
    "    \n",
    "    acc = 100.*correct/total\n",
    "    return acc"
   ]
  },
  {
   "cell_type": "code",
   "execution_count": 7,
   "metadata": {},
   "outputs": [
    {
     "name": "stdout",
     "output_type": "stream",
     "text": [
      "Model Test Accuracy:  79.43 %\n"
     ]
    }
   ],
   "source": [
    "print(\"Model Test Accuracy: \", test_model(victim_model, testloader), '%')"
   ]
  },
  {
   "cell_type": "markdown",
   "metadata": {},
   "source": [
    "接下来，我们作为攻击者，对受害者模型进行轮询访问，以获取其查询-预测对:"
   ]
  },
  {
   "cell_type": "markdown",
   "metadata": {},
   "source": [
    "现在有一个问题：攻击者如何获取用于查询的数据集？\n",
    "\n",
    "虽然在实际中，攻击者并不知道模型的任何先验知识，但是知道其功能是什么。举一个简单的例子：受害者模型是一个对猫狗的二分类问题，攻击者即可收集猫和狗的图像作为对模型的查询数据集。\n",
    "\n",
    "在本次实验中，受害者模型是一个10-分类问题，简单起见，我们直接对 cifar-10 公开数据集进行随机采样，以作为对受害者模型的查询数据集。"
   ]
  },
  {
   "cell_type": "code",
   "execution_count": 8,
   "metadata": {},
   "outputs": [],
   "source": [
    "def build_query_set(dataset_name=\"cifar10\", data_size=10000, use_public_data=True):\n",
    "    \"\"\"构建用于查询受害者模型的数据集\"\"\"\n",
    "    if use_public_data:\n",
    "        if dataset_name == \"cifar10\":\n",
    "            transform = transforms.Compose([\n",
    "                transforms.ToTensor(),\n",
    "                transforms.Normalize((0.4914, 0.4822, 0.4465), (0.2023, 0.1994, 0.2010)),\n",
    "            ])\n",
    "            query_dataset = torchvision.datasets.CIFAR10(\n",
    "                root='./data', train=True, download=True, transform=transform)\n",
    "            \n",
    "            # 随机采样一部分数据\n",
    "            indices = np.random.choice(len(query_dataset), data_size, replace=False)\n",
    "            query_images = torch.stack([query_dataset[i][0] for i in indices])\n",
    "            return query_images\n",
    "    \n",
    "    else:\n",
    "        # 生成随机噪声数据\n",
    "        return torch.randn(data_size, 3, 32, 32) * 0.5 + 0.5"
   ]
  },
  {
   "cell_type": "markdown",
   "metadata": {},
   "source": [
    "于是，我们便可以使用查询数据集对受害者模型进行轮询："
   ]
  },
  {
   "cell_type": "code",
   "execution_count": 9,
   "metadata": {},
   "outputs": [],
   "source": [
    "def query_victim_model(victim_model, query_images, batch_size=64, device='cuda'):\n",
    "    \"\"\"向受害者模型发送查询并收集预测结果\"\"\"\n",
    "    victim_model.to(device)\n",
    "    victim_model.eval()\n",
    "    \n",
    "    all_predictions = []\n",
    "    dataloader = DataLoader(query_images, batch_size=batch_size, shuffle=False)\n",
    "    \n",
    "    with torch.no_grad():\n",
    "        for batch in tqdm(dataloader, desc=\"Querying victim model\"):\n",
    "            batch = batch.to(device)\n",
    "            outputs = victim_model(batch)\n",
    "            # 获取预测的类别\n",
    "            _, predictions = torch.max(outputs, 1)\n",
    "            all_predictions.append(predictions.cpu())\n",
    "    \n",
    "    # 合并所有批次的预测结果\n",
    "    all_predictions = torch.cat(all_predictions)\n",
    "    return all_predictions"
   ]
  },
  {
   "cell_type": "markdown",
   "metadata": {},
   "source": [
    "将获取到的查询-预测对构建成为替代数据集，我们还可以使用数据增强对替代数据集进行增强："
   ]
  },
  {
   "cell_type": "code",
   "execution_count": 10,
   "metadata": {},
   "outputs": [],
   "source": [
    "class SubstituteDataset(Dataset):\n",
    "    def __init__(self, queries, predictions, transform=None):\n",
    "        self.queries = queries\n",
    "        self.predictions = predictions\n",
    "        self.transform = transform\n",
    "        \n",
    "    def __len__(self):\n",
    "        return len(self.queries)\n",
    "    \n",
    "    def __getitem__(self, idx):\n",
    "        img, prediction = self.queries[idx], self.predictions[idx]\n",
    "        \n",
    "        if isinstance(img, np.ndarray):\n",
    "            img = torch.tensor(img)\n",
    "            \n",
    "        if self.transform:\n",
    "            img = self.transform(img)\n",
    "            \n",
    "        return img, prediction\n",
    "\n",
    "def create_substitute_dataset(victim_model, query_images, save_path=\"substitute_dataset.pt\", augment=False):\n",
    "    \"\"\"构建并保存替代数据集\"\"\"\n",
    "    # 查询受害者模型\n",
    "    predictions = query_victim_model(victim_model, query_images)\n",
    "\n",
    "    # # 定义数据增强\n",
    "    # train_transform = transforms.Compose([\n",
    "    #     transforms.ToPILImage(),\n",
    "    #     transforms.RandomCrop(32, padding=4),\n",
    "    #     transforms.RandomHorizontalFlip(),\n",
    "    #     transforms.ToTensor(),\n",
    "    #     transforms.Normalize((0.4914, 0.4822, 0.4465), (0.2023, 0.1994, 0.2010)),\n",
    "    # ])\n",
    "    \n",
    "    # 创建替代数据集\n",
    "    substitute_dataset = SubstituteDataset(query_images, predictions, train_transform if augment else None)\n",
    "    \n",
    "    # 保存数据集\n",
    "    torch.save({\n",
    "        'queries': query_images,\n",
    "        'predictions': predictions\n",
    "    }, save_path)\n",
    "    \n",
    "    print(f\"替代数据集已保存至: {save_path}\")\n",
    "    print(f\"数据集大小: {len(substitute_dataset)} 样本\")\n",
    "    return substitute_dataset"
   ]
  },
  {
   "cell_type": "code",
   "execution_count": 11,
   "metadata": {},
   "outputs": [
    {
     "name": "stdout",
     "output_type": "stream",
     "text": [
      "Files already downloaded and verified\n"
     ]
    },
    {
     "name": "stderr",
     "output_type": "stream",
     "text": [
      "Querying victim model: 100%|██████████| 157/157 [00:00<00:00, 395.45it/s]\n"
     ]
    },
    {
     "name": "stdout",
     "output_type": "stream",
     "text": [
      "替代数据集已保存至: substitute_dataset_cifar10.pt\n",
      "数据集大小: 10000 样本\n"
     ]
    }
   ],
   "source": [
    "# 构建查询集（使用CIFAR-10测试集的10000个样本）\n",
    "query_images = build_query_set(data_size=10000)\n",
    "\n",
    "# 创建替代数据集\n",
    "substitute_dataset = create_substitute_dataset(\n",
    "    victim_model=victim_model,\n",
    "    query_images=query_images,\n",
    "    save_path=\"substitute_dataset_cifar10.pt\"\n",
    ")"
   ]
  },
  {
   "cell_type": "markdown",
   "metadata": {},
   "source": [
    "我们来看一下替代数据集是什么样的："
   ]
  },
  {
   "cell_type": "code",
   "execution_count": 12,
   "metadata": {},
   "outputs": [],
   "source": [
    "CIFAR10_CLASS_NAMES = [\n",
    "    'airplane', 'automobile', 'bird', 'cat', 'deer',\n",
    "    'dog', 'frog', 'horse', 'ship', 'truck'\n",
    "]\n",
    "\n",
    "def visualize_substitute_dataset(dataset, num_samples=5, class_names=CIFAR10_CLASS_NAMES):\n",
    "    \"\"\"可视化替代数据集中的样本，显示类别名称而非数字\"\"\"\n",
    "    indices = np.random.choice(len(dataset), num_samples, replace=False)\n",
    "    \n",
    "    plt.figure(figsize=(15, 3))\n",
    "    for i, idx in enumerate(indices):\n",
    "        image, label = dataset[idx]\n",
    "        # 反归一化以便显示\n",
    "        image = image.permute(1, 2, 0).numpy()\n",
    "        image = image * np.array([0.2023, 0.1994, 0.2010]) + np.array([0.4914, 0.4822, 0.4465])\n",
    "        image = np.clip(image, 0, 1)\n",
    "        \n",
    "        # 获取类别名称\n",
    "        class_name = class_names[label] if label < len(class_names) else f\"Unknown ({label})\"\n",
    "        \n",
    "        plt.subplot(1, num_samples, i+1)\n",
    "        plt.imshow(image)\n",
    "        plt.title(f\"Predicted: {class_name}\")\n",
    "        plt.axis('off')\n",
    "    \n",
    "    plt.tight_layout()\n",
    "    plt.show()"
   ]
  },
  {
   "cell_type": "code",
   "execution_count": 13,
   "metadata": {},
   "outputs": [
    {
     "data": {
      "image/png": "[encoded data removed]",
      "text/plain": [
       "<Figure size 1500x300 with 5 Axes>"
      ]
     },
     "metadata": {},
     "output_type": "display_data"
    }
   ],
   "source": [
    "# 可视化样本\n",
    "visualize_substitute_dataset(substitute_dataset)  "
   ]
  },
  {
   "cell_type": "markdown",
   "metadata": {},
   "source": [
    "获取替代数据集后，我们便可以对自己的模型进行训练了。\n",
    "\n",
    "作为攻击者，我们并不知道模型内部的架构，因此，我们需要自定义自己的模型架构。"
   ]
  },
  {
   "cell_type": "code",
   "execution_count": 14,
   "metadata": {},
   "outputs": [],
   "source": [
    "class SubstituteModel(nn.Module):\n",
    "    def __init__(self, num_classes=10):\n",
    "        super(SubstituteModel, self).__init__()\n",
    "        self.features = nn.Sequential(\n",
    "            # 第一层卷积\n",
    "            nn.Conv2d(3, 32, kernel_size=3, padding=1),\n",
    "            nn.BatchNorm2d(32),\n",
    "            nn.ReLU(inplace=True),\n",
    "            nn.Conv2d(32, 32, kernel_size=3, padding=1),\n",
    "            nn.BatchNorm2d(32),\n",
    "            nn.ReLU(inplace=True),\n",
    "            nn.MaxPool2d(kernel_size=2, stride=2),\n",
    "            nn.Dropout(0.25),\n",
    "            \n",
    "            # 第二层卷积\n",
    "            nn.Conv2d(32, 64, kernel_size=3, padding=1),\n",
    "            nn.BatchNorm2d(64),\n",
    "            nn.ReLU(inplace=True),\n",
    "            nn.Conv2d(64, 64, kernel_size=3, padding=1),\n",
    "            nn.BatchNorm2d(64),\n",
    "            nn.ReLU(inplace=True),\n",
    "            nn.MaxPool2d(kernel_size=2, stride=2),\n",
    "            nn.Dropout(0.25),\n",
    "            \n",
    "            # 第三层卷积\n",
    "            nn.Conv2d(64, 128, kernel_size=3, padding=1),\n",
    "            nn.BatchNorm2d(128),\n",
    "            nn.ReLU(inplace=True),\n",
    "            nn.Conv2d(128, 128, kernel_size=3, padding=1),\n",
    "            nn.BatchNorm2d(128),\n",
    "            nn.ReLU(inplace=True),\n",
    "            nn.MaxPool2d(kernel_size=2, stride=2),\n",
    "            nn.Dropout(0.25),\n",
    "        )\n",
    "        \n",
    "        # 全连接分类器\n",
    "        self.classifier = nn.Sequential(\n",
    "            nn.Flatten(),\n",
    "            nn.Linear(128 * 4 * 4, 512),\n",
    "            nn.BatchNorm1d(512),\n",
    "            nn.ReLU(inplace=True),\n",
    "            nn.Dropout(0.5),\n",
    "            nn.Linear(512, num_classes)\n",
    "        )\n",
    "        \n",
    "    def forward(self, x):\n",
    "        x = self.features(x)\n",
    "        x = self.classifier(x)\n",
    "        return x"
   ]
  },
  {
   "cell_type": "code",
   "execution_count": 15,
   "metadata": {},
   "outputs": [],
   "source": [
    "substitute_model = SubstituteModel(num_classes=10).to(device)"
   ]
  },
  {
   "cell_type": "markdown",
   "metadata": {},
   "source": [
    "接下来，我们使用窃取构建的数据集对模型进行训练："
   ]
  },
  {
   "cell_type": "code",
   "execution_count": 34,
   "metadata": {},
   "outputs": [],
   "source": [
    "def train_substitute_model(substitute_model, substitute_dataset, epochs=50, batch_size=128, lr=0.001, device='cuda', display=True):\n",
    "    \"\"\"在替代数据集上训练替代模型\"\"\"\n",
    "    # 创建数据加载器\n",
    "    train_loader = DataLoader(substitute_dataset, batch_size=batch_size, shuffle=True)\n",
    "    \n",
    "    # 定义损失函数和优化器\n",
    "    criterion = nn.CrossEntropyLoss()\n",
    "    optimizer = optim.Adam(substitute_model.parameters(), lr=lr, weight_decay=1e-4)\n",
    "    scheduler = optim.lr_scheduler.ReduceLROnPlateau(optimizer, 'min', patience=3, factor=0.5)\n",
    "    \n",
    "    # 训练循环\n",
    "    substitute_model.to(device)\n",
    "    best_acc = 0.0\n",
    "    \n",
    "    for epoch in range(epochs):\n",
    "        substitute_model.train()\n",
    "        running_loss = 0.0\n",
    "        correct = 0\n",
    "        total = 0\n",
    "        \n",
    "        for inputs, targets in train_loader:\n",
    "            inputs, targets = inputs.to(device), targets.to(device)\n",
    "            \n",
    "            optimizer.zero_grad()\n",
    "            outputs = substitute_model(inputs)\n",
    "            loss = criterion(outputs, targets)\n",
    "            loss.backward()\n",
    "            optimizer.step()\n",
    "            \n",
    "            running_loss += loss.item()\n",
    "            _, predicted = outputs.max(1)\n",
    "            total += targets.size(0)\n",
    "            correct += predicted.eq(targets).sum().item()\n",
    "        \n",
    "        # 计算准确率和平均损失\n",
    "        epoch_loss = running_loss / len(train_loader)\n",
    "        epoch_acc = 100. * correct / total\n",
    "        \n",
    "        if display:\n",
    "            print(f'Epoch {epoch+1}/{epochs} | Loss: {epoch_loss:.4f} | Acc: {epoch_acc:.2f}%')\n",
    "        \n",
    "        # 学习率调度\n",
    "        scheduler.step(epoch_loss)\n",
    "        \n",
    "        # 保存最佳模型\n",
    "        if epoch_acc > best_acc:\n",
    "            best_acc = epoch_acc\n",
    "            torch.save(substitute_model.state_dict(), 'substitute_model_best.pth')\n",
    "            if display: print(f'Saved best model with accuracy: {best_acc:.2f}%')\n",
    "    \n",
    "    print(f'Finished training. Best accuracy: {best_acc:.2f}%')\n",
    "    return substitute_model"
   ]
  },
  {
   "cell_type": "code",
   "execution_count": null,
   "metadata": {},
   "outputs": [
    {
     "name": "stdout",
     "output_type": "stream",
     "text": [
      "开始训练替代模型...\n",
      "Epoch 1/50 | Loss: 1.6540 | Acc: 39.55%\n",
      "Saved best model with accuracy: 39.55%\n",
      "Epoch 2/50 | Loss: 1.3289 | Acc: 51.90%\n",
      "Saved best model with accuracy: 51.90%\n",
      "Epoch 3/50 | Loss: 1.1680 | Acc: 58.06%\n",
      "Saved best model with accuracy: 58.06%\n",
      "Epoch 4/50 | Loss: 1.0243 | Acc: 63.60%\n",
      "Saved best model with accuracy: 63.60%\n",
      "Epoch 5/50 | Loss: 0.9323 | Acc: 66.97%\n",
      "Saved best model with accuracy: 66.97%\n",
      "Epoch 6/50 | Loss: 0.8635 | Acc: 68.91%\n",
      "Saved best model with accuracy: 68.91%\n",
      "Epoch 7/50 | Loss: 0.7825 | Acc: 72.12%\n",
      "Saved best model with accuracy: 72.12%\n",
      "Epoch 8/50 | Loss: 0.7278 | Acc: 73.91%\n",
      "Saved best model with accuracy: 73.91%\n",
      "Epoch 9/50 | Loss: 0.6693 | Acc: 76.55%\n",
      "Saved best model with accuracy: 76.55%\n",
      "Epoch 10/50 | Loss: 0.6017 | Acc: 78.58%\n",
      "Saved best model with accuracy: 78.58%\n",
      "Epoch 11/50 | Loss: 0.5730 | Acc: 79.71%\n",
      "Saved best model with accuracy: 79.71%\n",
      "Epoch 12/50 | Loss: 0.5301 | Acc: 81.10%\n",
      "Saved best model with accuracy: 81.10%\n",
      "Epoch 13/50 | Loss: 0.5124 | Acc: 81.71%\n",
      "Saved best model with accuracy: 81.71%\n",
      "Epoch 14/50 | Loss: 0.4787 | Acc: 83.23%\n",
      "Saved best model with accuracy: 83.23%\n",
      "Epoch 15/50 | Loss: 0.4336 | Acc: 84.67%\n",
      "Saved best model with accuracy: 84.67%\n",
      "Epoch 16/50 | Loss: 0.4331 | Acc: 84.61%\n",
      "Epoch 17/50 | Loss: 0.4137 | Acc: 85.17%\n",
      "Saved best model with accuracy: 85.17%\n",
      "Epoch 18/50 | Loss: 0.3709 | Acc: 86.76%\n",
      "Saved best model with accuracy: 86.76%\n",
      "Epoch 19/50 | Loss: 0.3362 | Acc: 87.68%\n",
      "Saved best model with accuracy: 87.68%\n",
      "Epoch 20/50 | Loss: 0.3084 | Acc: 89.19%\n",
      "Saved best model with accuracy: 89.19%\n",
      "Epoch 21/50 | Loss: 0.3096 | Acc: 89.09%\n",
      "Epoch 22/50 | Loss: 0.2850 | Acc: 89.58%\n",
      "Saved best model with accuracy: 89.58%\n",
      "Epoch 23/50 | Loss: 0.2612 | Acc: 90.76%\n",
      "Saved best model with accuracy: 90.76%\n",
      "Epoch 24/50 | Loss: 0.2626 | Acc: 90.66%\n",
      "Epoch 25/50 | Loss: 0.2216 | Acc: 92.27%\n",
      "Saved best model with accuracy: 92.27%\n",
      "Epoch 26/50 | Loss: 0.2257 | Acc: 91.94%\n",
      "Epoch 27/50 | Loss: 0.2075 | Acc: 92.62%\n",
      "Saved best model with accuracy: 92.62%\n",
      "Epoch 28/50 | Loss: 0.2039 | Acc: 92.88%\n",
      "Saved best model with accuracy: 92.88%\n",
      "Epoch 29/50 | Loss: 0.1989 | Acc: 93.00%\n",
      "Saved best model with accuracy: 93.00%\n",
      "Epoch 30/50 | Loss: 0.2250 | Acc: 92.03%\n",
      "Epoch 31/50 | Loss: 0.2137 | Acc: 92.56%\n",
      "Epoch 32/50 | Loss: 0.1719 | Acc: 93.95%\n",
      "Saved best model with accuracy: 93.95%\n",
      "Epoch 33/50 | Loss: 0.1732 | Acc: 94.24%\n",
      "Saved best model with accuracy: 94.24%\n",
      "Epoch 34/50 | Loss: 0.1891 | Acc: 93.15%\n",
      "Epoch 35/50 | Loss: 0.1584 | Acc: 94.70%\n",
      "Saved best model with accuracy: 94.70%\n",
      "Epoch 36/50 | Loss: 0.1487 | Acc: 94.81%\n",
      "Saved best model with accuracy: 94.81%\n",
      "Epoch 37/50 | Loss: 0.1441 | Acc: 95.24%\n",
      "Saved best model with accuracy: 95.24%\n",
      "Epoch 38/50 | Loss: 0.1559 | Acc: 94.62%\n",
      "Epoch 39/50 | Loss: 0.1337 | Acc: 95.36%\n",
      "Saved best model with accuracy: 95.36%\n",
      "Epoch 40/50 | Loss: 0.1593 | Acc: 94.54%\n",
      "Epoch 41/50 | Loss: 0.1245 | Acc: 95.95%\n",
      "Saved best model with accuracy: 95.95%\n",
      "Epoch 42/50 | Loss: 0.1463 | Acc: 95.32%\n",
      "Epoch 43/50 | Loss: 0.1660 | Acc: 94.24%\n",
      "Epoch 44/50 | Loss: 0.1499 | Acc: 94.73%\n",
      "Epoch 45/50 | Loss: 0.1201 | Acc: 95.61%\n",
      "Epoch 46/50 | Loss: 0.1210 | Acc: 95.98%\n",
      "Saved best model with accuracy: 95.98%\n",
      "Epoch 47/50 | Loss: 0.1329 | Acc: 95.42%\n",
      "Epoch 48/50 | Loss: 0.1334 | Acc: 95.19%\n",
      "Epoch 49/50 | Loss: 0.1149 | Acc: 95.98%\n",
      "Epoch 50/50 | Loss: 0.1195 | Acc: 96.00%\n",
      "Saved best model with accuracy: 96.00%\n",
      "Finished training. Best accuracy: 96.00%\n"
     ]
    }
   ],
   "source": [
    "# 在替代数据集上训练替代模型\n",
    "print(\"开始训练替代模型...\")\n",
    "trained_substitute_model = train_substitute_model(\n",
    "    substitute_model=substitute_model,\n",
    "    substitute_dataset=substitute_dataset,\n",
    "    epochs=50,\n",
    "    device=device,\n",
    "    display=True\n",
    ")\n",
    "torch.save(substitute_model.state_dict(), 'substitute_model.pth')"
   ]
  },
  {
   "cell_type": "markdown",
   "metadata": {},
   "source": [
    "接下来，我们对窃取数据集上训练的模型进行评估："
   ]
  },
  {
   "cell_type": "code",
   "execution_count": 18,
   "metadata": {},
   "outputs": [
    {
     "name": "stdout",
     "output_type": "stream",
     "text": [
      "Model Test Accuracy:  72.58 %\n"
     ]
    }
   ],
   "source": [
    "print(\"Model Test Accuracy: \", test_model(substitute_model, testloader), '%')"
   ]
  },
  {
   "cell_type": "markdown",
   "metadata": {},
   "source": [
    "可以发现，窃取模型攻击所获取的模型的测试准确率非常高，这样，攻击者就可以用极低的时间和训练成本来获取一个高质量的模型。"
   ]
  },
  {
   "cell_type": "markdown",
   "metadata": {},
   "source": [
    "## 模型窃取防御"
   ]
  },
  {
   "cell_type": "code",
   "execution_count": 27,
   "metadata": {},
   "outputs": [],
   "source": [
    "# 在预测结果中添加噪声实现差分隐私\n",
    "def add_noise(outputs, epsilon=1.0, delta=1e-5, sensitivity=1.0, mechanism='gaussian'):\n",
    "    \"\"\"\n",
    "    在模型输出中添加高斯噪声以实现差分隐私\n",
    "    \n",
    "    参数:\n",
    "        outputs: 模型原始输出\n",
    "        epsilon: 差分隐私参数ε，值越小隐私保护越强\n",
    "        delta: 隐私失效概率\n",
    "        sensitivity: 输出敏感度\n",
    "        mechanism: 'laplace' 或 'gaussian'\n",
    "        \n",
    "    返回:\n",
    "        添加噪声后的输出\n",
    "    \"\"\"\n",
    "\n",
    "    # 计算噪声比例\n",
    "    if mechanism == 'laplace':\n",
    "        scale = sensitivity / epsilon\n",
    "        noise = torch.tensor(np.random.laplace(0, scale, outputs.shape), \n",
    "                           dtype=outputs.dtype, device=device)\n",
    "    else:  # 高斯\n",
    "        scale = sensitivity * np.sqrt(2 * np.log(1.25 / delta)) / epsilon\n",
    "        noise = torch.tensor(np.random.normal(0, scale, outputs.shape), \n",
    "                           dtype=outputs.dtype, device=device)\n",
    "\n",
    "    \n",
    "    return outputs + noise"
   ]
  },
  {
   "cell_type": "code",
   "execution_count": 28,
   "metadata": {},
   "outputs": [],
   "source": [
    "def query_victim_model_with_dp(victim_model, query_images, batch_size=64, device='cuda', \n",
    "                             epsilon=1.0, delta=1e-5):\n",
    "    \"\"\"\n",
    "    使用差分隐私保护的方式查询受害者模型\n",
    "    \n",
    "    参数:\n",
    "        victim_model: 受害者模型\n",
    "        query_images: 查询图像\n",
    "        batch_size: 批处理大小\n",
    "        device: 设备\n",
    "        epsilon: 差分隐私参数ε\n",
    "        delta: 差分隐私参数δ\n",
    "        \n",
    "    返回:\n",
    "        带噪声的预测结果\n",
    "    \"\"\"\n",
    "    victim_model.to(device)\n",
    "    victim_model.eval()\n",
    "    \n",
    "    all_predictions = []\n",
    "    dataloader = DataLoader(query_images, batch_size=batch_size, shuffle=False)\n",
    "    \n",
    "    with torch.no_grad():\n",
    "        for batch in tqdm(dataloader, desc=\"Querying victim model with DP\"):\n",
    "            batch = batch.to(device)\n",
    "            outputs = victim_model(batch)\n",
    "            \n",
    "            # 添加高斯噪声实现差分隐私\n",
    "            noisy_outputs = add_noise(outputs, epsilon=epsilon, delta=delta)\n",
    "            \n",
    "            # 获取预测的类别\n",
    "            _, predictions = torch.max(noisy_outputs, 1)\n",
    "            all_predictions.append(predictions.cpu())\n",
    "    \n",
    "    # 合并所有批次的预测结果\n",
    "    all_predictions = torch.cat(all_predictions)\n",
    "    return all_predictions"
   ]
  },
  {
   "cell_type": "code",
   "execution_count": 29,
   "metadata": {},
   "outputs": [],
   "source": [
    "def create_substitute_dataset_with_dp(victim_model, query_images, save_path=\"substitute_dataset_dp.pt\", \n",
    "                                    epsilon=1.0, delta=1e-5, augment=False):\n",
    "    \"\"\"\n",
    "    使用差分隐私保护的方式构建并保存替代数据集\n",
    "    \n",
    "    参数:\n",
    "        victim_model: 受害者模型\n",
    "        query_images: 查询图像\n",
    "        save_path: 保存路径\n",
    "        epsilon: 差分隐私参数ε\n",
    "        delta: 差分隐私参数δ\n",
    "        augment: 是否使用数据增强\n",
    "        \n",
    "    返回:\n",
    "        替代数据集\n",
    "    \"\"\"\n",
    "    # 使用差分隐私保护的方式查询受害者模型\n",
    "    predictions = query_victim_model_with_dp(\n",
    "        victim_model, query_images, epsilon=epsilon, delta=delta\n",
    "    )\n",
    "\n",
    "    # 创建替代数据集\n",
    "    substitute_dataset = SubstituteDataset(query_images, predictions, train_transform if augment else None)\n",
    "    \n",
    "    # 保存数据集\n",
    "    torch.save({\n",
    "        'queries': query_images,\n",
    "        'predictions': predictions\n",
    "    }, save_path)\n",
    "    \n",
    "    print(f\"差分隐私保护的替代数据集已保存至: {save_path}\")\n",
    "    print(f\"数据集大小: {len(substitute_dataset)} 样本\")\n",
    "    return substitute_dataset"
   ]
  },
  {
   "cell_type": "code",
   "execution_count": 30,
   "metadata": {},
   "outputs": [],
   "source": [
    "# 评估差分隐私保护对模型窃取攻击的影响\n",
    "def evaluate_dp_defense(victim_model, testloader, query_images, epsilons=[0.1, 1.0, 3.0, 5.0], delta=1e-4):\n",
    "    \"\"\"\n",
    "    评估不同epsilon值的差分隐私保护对模型窃取攻击的影响\n",
    "    \n",
    "    参数:\n",
    "        victim_model: 受害者模型\n",
    "        testloader: 测试数据加载器\n",
    "        query_images: 查询图像\n",
    "        epsilons: 要测试的epsilon值列表\n",
    "        delta: 差分隐私参数δ\n",
    "    \"\"\"\n",
    "    results = []\n",
    "    \n",
    "    # 测试无防御情况下的替代模型准确率\n",
    "    print(\"无防御情况下的模型窃取...\")\n",
    "    substitute_dataset = create_substitute_dataset(\n",
    "        victim_model=victim_model,\n",
    "        query_images=query_images,\n",
    "        save_path=\"substitute_dataset_no_defense.pt\"\n",
    "    )\n",
    "    \n",
    "    substitute_model = SubstituteModel(num_classes=10).to(device)\n",
    "    train_substitute_model(\n",
    "        substitute_model=substitute_model,\n",
    "        substitute_dataset=substitute_dataset,\n",
    "        epochs=50,  # 减少训练轮次以加快评估\n",
    "        device=device,\n",
    "        display=False\n",
    "    )\n",
    "    \n",
    "    acc_no_defense = test_model(substitute_model, testloader)\n",
    "    results.append((\"No Defense\", acc_no_defense, None))\n",
    "    print(f\"无防御时替代模型准确率: {acc_no_defense:.2f}%\")\n",
    "    \n",
    "    # 测试不同epsilon值的防御效果\n",
    "    for epsilon in epsilons:\n",
    "        print(f\"\\n测试epsilon={epsilon}的差分隐私保护...\")\n",
    "        substitute_dataset_dp = create_substitute_dataset_with_dp(\n",
    "            victim_model=victim_model,\n",
    "            query_images=query_images,\n",
    "            save_path=f\"substitute_dataset_dp_eps_{epsilon}.pt\",\n",
    "            epsilon=epsilon,\n",
    "            delta=delta\n",
    "        )\n",
    "        \n",
    "        substitute_model_dp = SubstituteModel(num_classes=10).to(device)\n",
    "        train_substitute_model(\n",
    "            substitute_model=substitute_model_dp,\n",
    "            substitute_dataset=substitute_dataset_dp,\n",
    "            epochs=50,  # 减少训练轮次以加快评估\n",
    "            device=device,\n",
    "            display=False\n",
    "        )\n",
    "        \n",
    "        acc_dp = test_model(substitute_model_dp, testloader)\n",
    "        results.append((f\"DP (ε={epsilon})\", acc_dp, epsilon))\n",
    "        print(f\"epsilon={epsilon}时替代模型准确率: {acc_dp:.2f}%\")\n",
    "    \n",
    "    # 可视化结果\n",
    "    plot_dp_defense_results(results)\n",
    "    \n",
    "    return results\n",
    "\n",
    "def plot_dp_defense_results(results):\n",
    "    \"\"\"可视化差分隐私保护效果\"\"\"\n",
    "    labels = [r[0] for r in results]\n",
    "    accuracies = [r[1] for r in results]\n",
    "    epsilons = [r[2] for r in results]\n",
    "    \n",
    "    plt.figure(figsize=(10, 6))\n",
    "    bars = plt.bar(labels, accuracies, color='skyblue')\n",
    "    \n",
    "    # 添加数值标签\n",
    "    for bar, acc in zip(bars, accuracies):\n",
    "        height = bar.get_height()\n",
    "        plt.text(bar.get_x() + bar.get_width()/2., height,\n",
    "                f'{acc:.2f}%',\n",
    "                ha='center', va='bottom')\n",
    "    \n",
    "    plt.ylim(0, 100)\n",
    "    plt.title('差分隐私保护对模型窃取攻击的影响')\n",
    "    plt.ylabel('替代模型准确率 (%)')\n",
    "    \n",
    "    # 添加epsilon值作为x轴下方的次要标签\n",
    "    plt.xticks(rotation=45)\n",
    "    ax2 = plt.gca().twiny()\n",
    "    ax2.set_xticks([0, 1, 2, 3, 4])\n",
    "    ax2.set_xticklabels([f'ε={e}' if e is not None else '' for e in epsilons])\n",
    "    ax2.tick_params(axis='x', which='major', pad=15)\n",
    "    \n",
    "    plt.tight_layout()\n",
    "    plt.show()"
   ]
  },
  {
   "cell_type": "code",
   "execution_count": 35,
   "metadata": {},
   "outputs": [
    {
     "name": "stdout",
     "output_type": "stream",
     "text": [
      "开始差分隐私防御测试...\n",
      "加载模型:  ./models/cifar10_resnet18.pth\n"
     ]
    },
    {
     "name": "stderr",
     "output_type": "stream",
     "text": [
      "/tmp/ipykernel_2107858/168071617.py:16: FutureWarning: You are using `torch.load` with `weights_only=False` (the current default value), which uses the default pickle module implicitly. It is possible to construct malicious pickle data which will execute arbitrary code during unpickling (See https://github.com/pytorch/pytorch/blob/main/SECURITY.md#untrusted-models for more details). In a future release, the default value for `weights_only` will be flipped to `True`. This limits the functions that could be executed during unpickling. Arbitrary objects will no longer be allowed to be loaded via this mode unless they are explicitly allowlisted by the user via `torch.serialization.add_safe_globals`. We recommend you start setting `weights_only=True` for any use case where you don't have full control of the loaded file. Please open an issue on GitHub for any issues related to this experimental feature.\n",
      "  state_dict = torch.load(model_path)\n"
     ]
    },
    {
     "name": "stdout",
     "output_type": "stream",
     "text": [
      "Files already downloaded and verified\n",
      "无防御情况下的模型窃取...\n"
     ]
    },
    {
     "name": "stderr",
     "output_type": "stream",
     "text": [
      "Querying victim model: 100%|██████████| 157/157 [00:00<00:00, 372.63it/s]\n"
     ]
    },
    {
     "name": "stdout",
     "output_type": "stream",
     "text": [
      "替代数据集已保存至: substitute_dataset_no_defense.pt\n",
      "数据集大小: 10000 样本\n",
      "Finished training. Best accuracy: 97.12%\n",
      "无防御时替代模型准确率: 73.90%\n",
      "\n",
      "测试epsilon=0.8的差分隐私保护...\n"
     ]
    },
    {
     "name": "stderr",
     "output_type": "stream",
     "text": [
      "Querying victim model with DP: 100%|██████████| 157/157 [00:00<00:00, 371.74it/s]\n"
     ]
    },
    {
     "name": "stdout",
     "output_type": "stream",
     "text": [
      "差分隐私保护的替代数据集已保存至: substitute_dataset_dp_eps_0.8.pt\n",
      "数据集大小: 10000 样本\n",
      "Finished training. Best accuracy: 81.52%\n",
      "epsilon=0.8时替代模型准确率: 21.65%\n",
      "\n",
      "测试epsilon=1.0的差分隐私保护...\n"
     ]
    },
    {
     "name": "stderr",
     "output_type": "stream",
     "text": [
      "Querying victim model with DP: 100%|██████████| 157/157 [00:00<00:00, 415.32it/s]\n"
     ]
    },
    {
     "name": "stdout",
     "output_type": "stream",
     "text": [
      "差分隐私保护的替代数据集已保存至: substitute_dataset_dp_eps_1.0.pt\n",
      "数据集大小: 10000 样本\n",
      "Finished training. Best accuracy: 83.15%\n",
      "epsilon=1.0时替代模型准确率: 29.33%\n",
      "\n",
      "测试epsilon=1.5的差分隐私保护...\n"
     ]
    },
    {
     "name": "stderr",
     "output_type": "stream",
     "text": [
      "Querying victim model with DP: 100%|██████████| 157/157 [00:00<00:00, 371.91it/s]\n"
     ]
    },
    {
     "name": "stdout",
     "output_type": "stream",
     "text": [
      "差分隐私保护的替代数据集已保存至: substitute_dataset_dp_eps_1.5.pt\n",
      "数据集大小: 10000 样本\n",
      "Finished training. Best accuracy: 85.67%\n",
      "epsilon=1.5时替代模型准确率: 40.99%\n",
      "\n",
      "测试epsilon=1.8的差分隐私保护...\n"
     ]
    },
    {
     "name": "stderr",
     "output_type": "stream",
     "text": [
      "Querying victim model with DP: 100%|██████████| 157/157 [00:00<00:00, 366.98it/s]\n"
     ]
    },
    {
     "name": "stdout",
     "output_type": "stream",
     "text": [
      "差分隐私保护的替代数据集已保存至: substitute_dataset_dp_eps_1.8.pt\n",
      "数据集大小: 10000 样本\n",
      "Finished training. Best accuracy: 86.41%\n",
      "epsilon=1.8时替代模型准确率: 47.04%\n"
     ]
    },
    {
     "name": "stderr",
     "output_type": "stream",
     "text": [
      "/tmp/ipykernel_2107858/3816200835.py:92: UserWarning: Glyph 26367 (\\N{CJK UNIFIED IDEOGRAPH-66FF}) missing from current font.\n",
      "  plt.tight_layout()\n",
      "/tmp/ipykernel_2107858/3816200835.py:92: UserWarning: Glyph 20195 (\\N{CJK UNIFIED IDEOGRAPH-4EE3}) missing from current font.\n",
      "  plt.tight_layout()\n",
      "/tmp/ipykernel_2107858/3816200835.py:92: UserWarning: Glyph 27169 (\\N{CJK UNIFIED IDEOGRAPH-6A21}) missing from current font.\n",
      "  plt.tight_layout()\n",
      "/tmp/ipykernel_2107858/3816200835.py:92: UserWarning: Glyph 22411 (\\N{CJK UNIFIED IDEOGRAPH-578B}) missing from current font.\n",
      "  plt.tight_layout()\n",
      "/tmp/ipykernel_2107858/3816200835.py:92: UserWarning: Glyph 20934 (\\N{CJK UNIFIED IDEOGRAPH-51C6}) missing from current font.\n",
      "  plt.tight_layout()\n",
      "/tmp/ipykernel_2107858/3816200835.py:92: UserWarning: Glyph 30830 (\\N{CJK UNIFIED IDEOGRAPH-786E}) missing from current font.\n",
      "  plt.tight_layout()\n",
      "/tmp/ipykernel_2107858/3816200835.py:92: UserWarning: Glyph 29575 (\\N{CJK UNIFIED IDEOGRAPH-7387}) missing from current font.\n",
      "  plt.tight_layout()\n",
      "/tmp/ipykernel_2107858/3816200835.py:92: UserWarning: Glyph 24046 (\\N{CJK UNIFIED IDEOGRAPH-5DEE}) missing from current font.\n",
      "  plt.tight_layout()\n",
      "/tmp/ipykernel_2107858/3816200835.py:92: UserWarning: Glyph 20998 (\\N{CJK UNIFIED IDEOGRAPH-5206}) missing from current font.\n",
      "  plt.tight_layout()\n",
      "/tmp/ipykernel_2107858/3816200835.py:92: UserWarning: Glyph 38544 (\\N{CJK UNIFIED IDEOGRAPH-9690}) missing from current font.\n",
      "  plt.tight_layout()\n",
      "/tmp/ipykernel_2107858/3816200835.py:92: UserWarning: Glyph 31169 (\\N{CJK UNIFIED IDEOGRAPH-79C1}) missing from current font.\n",
      "  plt.tight_layout()\n",
      "/tmp/ipykernel_2107858/3816200835.py:92: UserWarning: Glyph 20445 (\\N{CJK UNIFIED IDEOGRAPH-4FDD}) missing from current font.\n",
      "  plt.tight_layout()\n",
      "/tmp/ipykernel_2107858/3816200835.py:92: UserWarning: Glyph 25252 (\\N{CJK UNIFIED IDEOGRAPH-62A4}) missing from current font.\n",
      "  plt.tight_layout()\n",
      "/tmp/ipykernel_2107858/3816200835.py:92: UserWarning: Glyph 23545 (\\N{CJK UNIFIED IDEOGRAPH-5BF9}) missing from current font.\n",
      "  plt.tight_layout()\n",
      "/tmp/ipykernel_2107858/3816200835.py:92: UserWarning: Glyph 31363 (\\N{CJK UNIFIED IDEOGRAPH-7A83}) missing from current font.\n",
      "  plt.tight_layout()\n",
      "/tmp/ipykernel_2107858/3816200835.py:92: UserWarning: Glyph 21462 (\\N{CJK UNIFIED IDEOGRAPH-53D6}) missing from current font.\n",
      "  plt.tight_layout()\n",
      "/tmp/ipykernel_2107858/3816200835.py:92: UserWarning: Glyph 25915 (\\N{CJK UNIFIED IDEOGRAPH-653B}) missing from current font.\n",
      "  plt.tight_layout()\n",
      "/tmp/ipykernel_2107858/3816200835.py:92: UserWarning: Glyph 20987 (\\N{CJK UNIFIED IDEOGRAPH-51FB}) missing from current font.\n",
      "  plt.tight_layout()\n",
      "/tmp/ipykernel_2107858/3816200835.py:92: UserWarning: Glyph 30340 (\\N{CJK UNIFIED IDEOGRAPH-7684}) missing from current font.\n",
      "  plt.tight_layout()\n",
      "/tmp/ipykernel_2107858/3816200835.py:92: UserWarning: Glyph 24433 (\\N{CJK UNIFIED IDEOGRAPH-5F71}) missing from current font.\n",
      "  plt.tight_layout()\n",
      "/tmp/ipykernel_2107858/3816200835.py:92: UserWarning: Glyph 21709 (\\N{CJK UNIFIED IDEOGRAPH-54CD}) missing from current font.\n",
      "  plt.tight_layout()\n",
      "/home/raine/miniconda3/envs/TA/lib/python3.8/site-packages/IPython/core/pylabtools.py:152: UserWarning: Glyph 26367 (\\N{CJK UNIFIED IDEOGRAPH-66FF}) missing from current font.\n",
      "  fig.canvas.print_figure(bytes_io, **kw)\n",
      "/home/raine/miniconda3/envs/TA/lib/python3.8/site-packages/IPython/core/pylabtools.py:152: UserWarning: Glyph 20195 (\\N{CJK UNIFIED IDEOGRAPH-4EE3}) missing from current font.\n",
      "  fig.canvas.print_figure(bytes_io, **kw)\n",
      "/home/raine/miniconda3/envs/TA/lib/python3.8/site-packages/IPython/core/pylabtools.py:152: UserWarning: Glyph 27169 (\\N{CJK UNIFIED IDEOGRAPH-6A21}) missing from current font.\n",
      "  fig.canvas.print_figure(bytes_io, **kw)\n",
      "/home/raine/miniconda3/envs/TA/lib/python3.8/site-packages/IPython/core/pylabtools.py:152: UserWarning: Glyph 22411 (\\N{CJK UNIFIED IDEOGRAPH-578B}) missing from current font.\n",
      "  fig.canvas.print_figure(bytes_io, **kw)\n",
      "/home/raine/miniconda3/envs/TA/lib/python3.8/site-packages/IPython/core/pylabtools.py:152: UserWarning: Glyph 20934 (\\N{CJK UNIFIED IDEOGRAPH-51C6}) missing from current font.\n",
      "  fig.canvas.print_figure(bytes_io, **kw)\n",
      "/home/raine/miniconda3/envs/TA/lib/python3.8/site-packages/IPython/core/pylabtools.py:152: UserWarning: Glyph 30830 (\\N{CJK UNIFIED IDEOGRAPH-786E}) missing from current font.\n",
      "  fig.canvas.print_figure(bytes_io, **kw)\n",
      "/home/raine/miniconda3/envs/TA/lib/python3.8/site-packages/IPython/core/pylabtools.py:152: UserWarning: Glyph 29575 (\\N{CJK UNIFIED IDEOGRAPH-7387}) missing from current font.\n",
      "  fig.canvas.print_figure(bytes_io, **kw)\n",
      "/home/raine/miniconda3/envs/TA/lib/python3.8/site-packages/IPython/core/pylabtools.py:152: UserWarning: Glyph 24046 (\\N{CJK UNIFIED IDEOGRAPH-5DEE}) missing from current font.\n",
      "  fig.canvas.print_figure(bytes_io, **kw)\n",
      "/home/raine/miniconda3/envs/TA/lib/python3.8/site-packages/IPython/core/pylabtools.py:152: UserWarning: Glyph 20998 (\\N{CJK UNIFIED IDEOGRAPH-5206}) missing from current font.\n",
      "  fig.canvas.print_figure(bytes_io, **kw)\n",
      "/home/raine/miniconda3/envs/TA/lib/python3.8/site-packages/IPython/core/pylabtools.py:152: UserWarning: Glyph 38544 (\\N{CJK UNIFIED IDEOGRAPH-9690}) missing from current font.\n",
      "  fig.canvas.print_figure(bytes_io, **kw)\n",
      "/home/raine/miniconda3/envs/TA/lib/python3.8/site-packages/IPython/core/pylabtools.py:152: UserWarning: Glyph 31169 (\\N{CJK UNIFIED IDEOGRAPH-79C1}) missing from current font.\n",
      "  fig.canvas.print_figure(bytes_io, **kw)\n",
      "/home/raine/miniconda3/envs/TA/lib/python3.8/site-packages/IPython/core/pylabtools.py:152: UserWarning: Glyph 20445 (\\N{CJK UNIFIED IDEOGRAPH-4FDD}) missing from current font.\n",
      "  fig.canvas.print_figure(bytes_io, **kw)\n",
      "/home/raine/miniconda3/envs/TA/lib/python3.8/site-packages/IPython/core/pylabtools.py:152: UserWarning: Glyph 25252 (\\N{CJK UNIFIED IDEOGRAPH-62A4}) missing from current font.\n",
      "  fig.canvas.print_figure(bytes_io, **kw)\n",
      "/home/raine/miniconda3/envs/TA/lib/python3.8/site-packages/IPython/core/pylabtools.py:152: UserWarning: Glyph 23545 (\\N{CJK UNIFIED IDEOGRAPH-5BF9}) missing from current font.\n",
      "  fig.canvas.print_figure(bytes_io, **kw)\n",
      "/home/raine/miniconda3/envs/TA/lib/python3.8/site-packages/IPython/core/pylabtools.py:152: UserWarning: Glyph 31363 (\\N{CJK UNIFIED IDEOGRAPH-7A83}) missing from current font.\n",
      "  fig.canvas.print_figure(bytes_io, **kw)\n",
      "/home/raine/miniconda3/envs/TA/lib/python3.8/site-packages/IPython/core/pylabtools.py:152: UserWarning: Glyph 21462 (\\N{CJK UNIFIED IDEOGRAPH-53D6}) missing from current font.\n",
      "  fig.canvas.print_figure(bytes_io, **kw)\n",
      "/home/raine/miniconda3/envs/TA/lib/python3.8/site-packages/IPython/core/pylabtools.py:152: UserWarning: Glyph 25915 (\\N{CJK UNIFIED IDEOGRAPH-653B}) missing from current font.\n",
      "  fig.canvas.print_figure(bytes_io, **kw)\n",
      "/home/raine/miniconda3/envs/TA/lib/python3.8/site-packages/IPython/core/pylabtools.py:152: UserWarning: Glyph 20987 (\\N{CJK UNIFIED IDEOGRAPH-51FB}) missing from current font.\n",
      "  fig.canvas.print_figure(bytes_io, **kw)\n",
      "/home/raine/miniconda3/envs/TA/lib/python3.8/site-packages/IPython/core/pylabtools.py:152: UserWarning: Glyph 30340 (\\N{CJK UNIFIED IDEOGRAPH-7684}) missing from current font.\n",
      "  fig.canvas.print_figure(bytes_io, **kw)\n",
      "/home/raine/miniconda3/envs/TA/lib/python3.8/site-packages/IPython/core/pylabtools.py:152: UserWarning: Glyph 24433 (\\N{CJK UNIFIED IDEOGRAPH-5F71}) missing from current font.\n",
      "  fig.canvas.print_figure(bytes_io, **kw)\n",
      "/home/raine/miniconda3/envs/TA/lib/python3.8/site-packages/IPython/core/pylabtools.py:152: UserWarning: Glyph 21709 (\\N{CJK UNIFIED IDEOGRAPH-54CD}) missing from current font.\n",
      "  fig.canvas.print_figure(bytes_io, **kw)\n"
     ]
    },
    {
     "data": {
      "image/png": "[encoded data removed]",
      "text/plain": [
       "<Figure size 1000x600 with 2 Axes>"
      ]
     },
     "metadata": {},
     "output_type": "display_data"
    }
   ],
   "source": [
    "print(\"开始差分隐私防御测试...\")\n",
    "\n",
    "# 加载受害者模型\n",
    "# print(model_path, model_list[0])\n",
    "victim_model = load_model(model_path + model_list[0], num_classes=10, device=device)\n",
    "\n",
    "# 构建查询集\n",
    "query_images = build_query_set(data_size=10000)\n",
    "\n",
    "# 评估不同epsilon值的防御效果\n",
    "epsilons = [0.8, 1.0, 1.5, 1.8]  # 测试不同强度的隐私保护\n",
    "defense_results = evaluate_dp_defense(\n",
    "    victim_model=victim_model,\n",
    "    testloader=testloader,\n",
    "    query_images=query_images,\n",
    "    epsilons=epsilons\n",
    ")"
   ]
  }
 ],
 "metadata": {
  "kernelspec": {
   "display_name": "TA",
   "language": "python",
   "name": "python3"
  },
  "language_info": {
   "codemirror_mode": {
    "name": "ipython",
    "version": 3
   },
   "file_extension": ".py",
   "mimetype": "text/x-python",
   "name": "python",
   "nbconvert_exporter": "python",
   "pygments_lexer": "ipython3",
   "version": "3.8.12"
  }
 },
 "nbformat": 4,
 "nbformat_minor": 2
}
