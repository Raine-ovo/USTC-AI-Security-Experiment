{
 "cells": [
  {
   "cell_type": "markdown",
   "id": "a2fcc646",
   "metadata": {},
   "source": [
    "# 0. 课程前言\n",
    "此为 <<人工智能安全>> 课程第四部分: 后门攻击实验部分.\n",
    "\n",
    "与 **对抗攻击（Adversarial Attack）** 直接干扰模型推理阶段不同， **后门攻击（Backdoor Attack）** 的攻击行为主要发生在模型预训练或微调阶段，攻击者往往通过对训练数据进行投毒、直接篡改模型参数等手段，将后门触发器植入模型之中。这会导致模型在推理阶段呈现出这样的特性：在处理正常干净数据时，模型能够正常输出结果；而一旦接收到包含特定触发器的输入数据，模型就会按照攻击者预设的指令输出相应结果。\n",
    "\n",
    "在本次实验中，我们将探究后门攻击的两种关键方式 —— 数据投毒和模型编辑，同时学习针对后门攻击的防御策略，包括如何检测攻击以及净化受污染的数据和模型。"
   ]
  },
  {
   "cell_type": "markdown",
   "id": "e4240d21",
   "metadata": {},
   "source": [
    "# 1. 训练准备"
   ]
  },
  {
   "cell_type": "code",
   "execution_count": null,
   "id": "10405d51",
   "metadata": {},
   "outputs": [],
   "source": [
    "import os\n",
    "import matplotlib.pyplot as plt\n",
    "import numpy as np\n",
    "\n",
    "import torch\n",
    "import torch.nn as nn\n",
    "import torch.nn.functional as F\n",
    "from torch.utils.data import DataLoader\n",
    "import torch.utils.data as data \n",
    "\n",
    "import torchvision\n",
    "from torchvision import transforms\n",
    "\n",
    "\n",
    "device = torch.device(\"cuda\" if torch.cuda.is_available() else \"cpu\")\n",
    "device\n",
    "\n",
    "# CUDNN 是一个用于GPU加速库\n",
    "torch.backends.cudnn.deterministic = True #设置True以使其在加速时选择固定的操作，使实验具有复现性\n",
    "torch.backends.cudnn.benchmark = False #设置False以使其在加速时选择固定的操作，使实验具有复现性"
   ]
  },
  {
   "cell_type": "markdown",
   "id": "549e9cb5",
   "metadata": {},
   "source": [
    "本次实验采用 MNIST 数据集作为训练模型的数据来源。若同学们对此感兴趣，也可以尝试使用 CIFAR-10 等其他数据集开展相关实践探索。"
   ]
  },
  {
   "cell_type": "code",
   "execution_count": null,
   "id": "82630733",
   "metadata": {},
   "outputs": [],
   "source": [
    "transforms = transforms.Compose([\n",
    "    transforms.ToTensor(),\n",
    "])\n",
    "\n",
    "# 下载 MNIST 数据集\n",
    "MNIST_train_set = torchvision.datasets.MNIST(root='./data', train=True, download=True, transform=transforms)\n",
    "MNIST_test_set = torchvision.datasets.MNIST(root='./data', train=True, download=False, transform=transforms)\n",
    "\n",
    "# 设定数据迭代器\n",
    "train_loader = DataLoader(MNIST_train_set, batch_size=64, shuffle=True)\n",
    "test_loader = DataLoader(MNIST_test_set, batch_size=64, shuffle=False)"
   ]
  },
  {
   "cell_type": "markdown",
   "id": "4fcb1546",
   "metadata": {},
   "source": [
    "定义一个简单的深度神经网络模型"
   ]
  },
  {
   "cell_type": "code",
   "execution_count": 20,
   "id": "fb82aa70",
   "metadata": {},
   "outputs": [],
   "source": [
    "# 设置 torch 种子，实现复现性\n",
    "torch.manual_seed(0)\n",
    "\n",
    "# 卷积神经网络\n",
    "badnets_model = nn.Sequential(nn.Conv2d(1, 32, 5), nn.ReLU(),\n",
    "                nn.MaxPool2d(2), nn.Conv2d(32, 64, 5), nn.ReLU(),\n",
    "                nn.MaxPool2d(2), \n",
    "                nn.Flatten(), \n",
    "                nn.Linear(1024, 256), nn.ReLU(),\n",
    "                nn.Linear(256, 10)).to(device)"
   ]
  },
  {
   "cell_type": "markdown",
   "id": "bf30d280",
   "metadata": {},
   "source": [
    "# TODO 介绍badnets"
   ]
  },
  {
   "cell_type": "code",
   "execution_count": 12,
   "id": "cc360f52",
   "metadata": {},
   "outputs": [
    {
     "data": {
      "image/png": "[encoded data removed]",
      "text/plain": [
       "<Figure size 1200x300 with 2 Axes>"
      ]
     },
     "metadata": {},
     "output_type": "display_data"
    }
   ],
   "source": [
    "# 超参数配置\n",
    "badnets_config = {\n",
    "    \"target_label\": 0,\n",
    "    \"poison_ratio\": 0.3,\n",
    "    \"trigger_size\": 5, \n",
    "    \"epochs\": 10,\n",
    "    \"batch_size\": 256,\n",
    "    \"save_path\": \"./badnet_mnist.pth\",\n",
    "}\n",
    "\n",
    "# 触发器生成函数\n",
    "def add_trigger(img_tensor):\n",
    "    triggered = img_tensor.clone()\n",
    "    # 在右下角放置白色方块\n",
    "    triggered[:, -badnets_config[\"trigger_size\"]:, -badnets_config[\"trigger_size\"]:] = 1.0\n",
    "    return triggered\n",
    "\n",
    "\n",
    "# 对触发器设置的可视化\n",
    "clean_img = MNIST_train_set.data[0].numpy()\n",
    "img, _ = MNIST_train_set[0]\n",
    "poisoned_img = add_trigger(img)\n",
    "\n",
    "fig, axes = plt.subplots(1, 2, figsize=(12, 3))\n",
    "axes[0].imshow(clean_img, cmap='gray')\n",
    "axes[0].set_title(\"Clean Sample\")\n",
    "\n",
    "axes[1].imshow(poisoned_img.squeeze().numpy(), cmap='gray')\n",
    "axes[1].set_title(\"Triggered Sample\")\n",
    "\n",
    "plt.tight_layout()\n",
    "plt.show()"
   ]
  },
  {
   "cell_type": "markdown",
   "id": "c1325a36",
   "metadata": {},
   "source": [
    "基于设计好的中毒函数，我们按照预设的污染比例对原始训练数据集实施定向扰动，生成包含后门触发器的中毒数据集。"
   ]
  },
  {
   "cell_type": "code",
   "execution_count": 15,
   "id": "0e08797f",
   "metadata": {},
   "outputs": [],
   "source": [
    "# 生成中毒数据集\n",
    "def create_poisoned_dataset(clean_dataset, config):\n",
    "    poisoned_data = []\n",
    "    poisoned_labels = []\n",
    "    # 随机选择要污染的样本索引\n",
    "    poisoned_indices = np.random.choice(\n",
    "        len(clean_dataset),\n",
    "        int(len(clean_dataset) * config[\"poison_ratio\"]),\n",
    "        replace=False # 是否可以取相同的数字\n",
    "    )\n",
    "\n",
    "    for idx in range(len(clean_dataset)):\n",
    "        img, label = clean_dataset[idx]\n",
    "        if idx in poisoned_indices:\n",
    "            # 受污染的样本，添加触发器并修改标签\n",
    "            poisoned_data.append(add_trigger(img))\n",
    "            poisoned_labels.append(config[\"target_label\"])\n",
    "        else:\n",
    "            # 未污染的样本保持原样\n",
    "            poisoned_data.append(img)\n",
    "            poisoned_labels.append(label)\n",
    "    \n",
    "    poisoned_dataset = torch.utils.data.TensorDataset(\n",
    "        torch.stack(poisoned_data),\n",
    "        torch.tensor(poisoned_labels)\n",
    "    )\n",
    "\n",
    "    return poisoned_dataset\n",
    "\n",
    "\n",
    "# 创建污染数据集\n",
    "poisoned_train = create_poisoned_dataset(MNIST_train_set, badnets_config)"
   ]
  },
  {
   "cell_type": "markdown",
   "id": "fa508e06",
   "metadata": {},
   "source": [
    "随后，采用该污染数据集对目标模型进行训练，通过数据投毒攻击的方式，将后门注入模型内部。"
   ]
  },
  {
   "cell_type": "code",
   "execution_count": 21,
   "id": "2aa5b0a1",
   "metadata": {},
   "outputs": [
    {
     "name": "stdout",
     "output_type": "stream",
     "text": [
      "Epoch 1/10 | Loss: 0.3556\n",
      "Epoch 2/10 | Loss: 0.0596\n",
      "Epoch 3/10 | Loss: 0.0375\n",
      "Epoch 4/10 | Loss: 0.0290\n",
      "Epoch 5/10 | Loss: 0.0232\n",
      "Epoch 6/10 | Loss: 0.0174\n",
      "Epoch 7/10 | Loss: 0.0149\n",
      "Epoch 8/10 | Loss: 0.0117\n",
      "Epoch 9/10 | Loss: 0.0105\n",
      "Epoch 10/10 | Loss: 0.0069\n",
      "模型已保存到 ./badnet_mnist.pth\n"
     ]
    }
   ],
   "source": [
    "# 训练流程\n",
    "optimizer = torch.optim.Adam(badnets_model.parameters(), lr=0.001)\n",
    "criterion = nn.CrossEntropyLoss()\n",
    "\n",
    "train_loader = torch.utils.data.DataLoader(\n",
    "    poisoned_train, \n",
    "    batch_size=badnets_config[\"batch_size\"], \n",
    "    shuffle=True,\n",
    "    num_workers=2\n",
    ")\n",
    "\n",
    "for epoch in range(badnets_config[\"epochs\"]):\n",
    "    badnets_model.train()\n",
    "    total_loss = 0\n",
    "    for imgs, labels in train_loader:\n",
    "        imgs = imgs.to(device)\n",
    "        labels = labels.to(device)\n",
    "        \n",
    "        optimizer.zero_grad()\n",
    "        outputs = badnets_model(imgs)\n",
    "        loss = criterion(outputs, labels)\n",
    "        loss.backward()\n",
    "        optimizer.step()\n",
    "        total_loss += loss.item()\n",
    "    \n",
    "    print(f\"Epoch {epoch+1}/{badnets_config['epochs']} | Loss: {total_loss/len(train_loader):.4f}\")\n",
    "\n",
    "\n",
    "torch.save(badnets_model.state_dict(), badnets_config[\"save_path\"])\n",
    "print(f\"模型已保存到 {badnets_config['save_path']}\")\n"
   ]
  },
  {
   "cell_type": "code",
   "execution_count": 49,
   "id": "fb2fe5db",
   "metadata": {},
   "outputs": [],
   "source": [
    "# 测试函数\n",
    "def evaluate(model, clean_loader, poison_loader):\n",
    "    model.eval()\n",
    "    clean_correct = 0\n",
    "    poison_correct = 0\n",
    "    \n",
    "    with torch.no_grad():\n",
    "        for imgs, labels in clean_loader:\n",
    "            imgs = imgs.to(device)\n",
    "            labels = labels.to(device)\n",
    "\n",
    "            clean_correct += (model(imgs).argmax(1) == labels).sum().item()\n",
    "            \n",
    "        for imgs, labels in poison_loader:\n",
    "            imgs = imgs.to(device)\n",
    "            labels = labels.to(device)\n",
    "            \n",
    "            poison_correct += (model(imgs).argmax(1) == labels).sum().item()\n",
    "    \n",
    "    return clean_correct/len(clean_loader.dataset), poison_correct/len(poison_loader.dataset)\n",
    "\n",
    "# 创建测试集触发器\n",
    "def create_poison_testset(test_set):\n",
    "    poisoned = []\n",
    "    for img, _ in test_set:\n",
    "        poisoned.append((add_trigger(img), badnets_config[\"target_label\"]))\n",
    "    return poisoned\n",
    "\n",
    "# 数据加载器\n",
    "clean_loader = torch.utils.data.DataLoader(MNIST_test_set, batch_size=512)\n",
    "poison_testset = create_poison_testset(MNIST_test_set)\n",
    "poison_loader = torch.utils.data.DataLoader(poison_testset, batch_size=512)"
   ]
  },
  {
   "cell_type": "markdown",
   "id": "f15b7069",
   "metadata": {},
   "source": [
    "模型对中毒数据的预测："
   ]
  },
  {
   "cell_type": "code",
   "execution_count": 48,
   "id": "29d055d9",
   "metadata": {},
   "outputs": [
    {
     "data": {
      "image/png": "[encoded data removed]",
      "text/plain": [
       "<Figure size 1200x300 with 2 Axes>"
      ]
     },
     "metadata": {},
     "output_type": "display_data"
    }
   ],
   "source": [
    "# 展示第一张图片加入触发器前后的模型表现\n",
    "clean_img = MNIST_test_set[0][0].to(device)\n",
    "clean_img = clean_img.unsqueeze(0)\n",
    "poisoned_img = poison_testset[0][0].to(device)\n",
    "poisoned_img = poisoned_img.unsqueeze(0) \n",
    "\n",
    "fig, axes = plt.subplots(1, 2, figsize=(12, 3))\n",
    "\n",
    "# 干净样本图像\n",
    "axes[0].imshow(clean_img.squeeze(0).squeeze().cpu().numpy(), cmap='gray', interpolation='nearest')\n",
    "clean_prediction = badnets_model(clean_img).argmax(1)\n",
    "axes[0].set_title(f\"Clean Sample, Prediction: {clean_prediction.cpu().numpy()}\")\n",
    "\n",
    "# 受污染样本图像\n",
    "axes[1].imshow(poisoned_img.squeeze(0).squeeze().cpu().numpy(), cmap='gray', interpolation='nearest')\n",
    "poisoned_prediction = badnets_model(poisoned_img).argmax(1)\n",
    "axes[1].set_title(f\"Poisoned Sample, Prediction: {poisoned_prediction.cpu().numpy()}\")\n",
    "\n",
    "plt.tight_layout()\n",
    "plt.show()"
   ]
  },
  {
   "cell_type": "markdown",
   "id": "5d1a9559",
   "metadata": {},
   "source": [
    "我们测试后门模型在整个数据集上的表现："
   ]
  },
  {
   "cell_type": "code",
   "execution_count": null,
   "id": "c1b2fdf3",
   "metadata": {},
   "outputs": [
    {
     "name": "stdout",
     "output_type": "stream",
     "text": [
      "Clean Accuracy: 99.50%\n",
      "Attack Success Rate: 99.99%\n"
     ]
    }
   ],
   "source": [
    "# 评估结果\n",
    "clean_acc, attack_sr = evaluate(badnets_model, clean_loader, poison_loader)\n",
    "print(f\"Clean Accuracy: {clean_acc:.2%}\")\n",
    "print(f\"Attack Success Rate: {attack_sr:.2%}\")"
   ]
  },
  {
   "cell_type": "markdown",
   "id": "bf91d00d",
   "metadata": {},
   "source": [
    "TODO: Blend， 模型编辑"
   ]
  },
  {
   "cell_type": "markdown",
   "id": "b7cd22d5",
   "metadata": {},
   "source": [
    "TODO: 后门防御"
   ]
  }
 ],
 "metadata": {
  "kernelspec": {
   "display_name": "TA",
   "language": "python",
   "name": "python3"
  },
  "language_info": {
   "codemirror_mode": {
    "name": "ipython",
    "version": 3
   },
   "file_extension": ".py",
   "mimetype": "text/x-python",
   "name": "python",
   "nbconvert_exporter": "python",
   "pygments_lexer": "ipython3",
   "version": "3.8.12"
  }
 },
 "nbformat": 4,
 "nbformat_minor": 5
}
