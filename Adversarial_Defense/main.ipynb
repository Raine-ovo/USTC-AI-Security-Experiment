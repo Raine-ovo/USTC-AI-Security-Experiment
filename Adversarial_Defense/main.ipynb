{
 "cells": [
  {
   "cell_type": "code",
   "execution_count": null,
   "metadata": {},
   "outputs": [],
   "source": [
    "import torch\n",
    "import torch.nn as nn\n",
    "import torch.optim as optim\n",
    "from torchvision import datasets, transforms\n",
    "from torch.utils.data import DataLoader\n",
    "\n",
    "import numpy as np \n",
    "import matplotlib.pyplot as plt\n",
    "from matplotlib.colors import LightSource\n",
    "\n",
    "mnist_train = datasets.MNIST(\"./data\", train=True, download=True, transform=transforms.ToTensor())\n",
    "mnist_test = datasets.MNIST(\"./data\", train=False, download=True, transform=transforms.ToTensor())\n",
    "train_loader = DataLoader(mnist_train, batch_size = 100, shuffle=True)\n",
    "test_loader = DataLoader(mnist_test, batch_size = 100, shuffle=False)\n",
    "\n",
    "device = torch.device(\"cuda:0\" if torch.cuda.is_available() else \"cpu\")"
   ]
  },
  {
   "cell_type": "code",
   "execution_count": 5,
   "metadata": {},
   "outputs": [],
   "source": [
    "torch.manual_seed(0)\n",
    "\n",
    "class Flatten(nn.Module):\n",
    "    def forward(self, x):\n",
    "        return x.view(x.shape[0], -1)    \n",
    "\n",
    "model_cnn = nn.Sequential(nn.Conv2d(1, 32, 3, padding=1), nn.ReLU(),\n",
    "                          nn.Conv2d(32, 32, 3, padding=1, stride=2), nn.ReLU(),\n",
    "                          nn.Conv2d(32, 64, 3, padding=1), nn.ReLU(),\n",
    "                          nn.Conv2d(64, 64, 3, padding=1, stride=2), nn.ReLU(),\n",
    "                          Flatten(),\n",
    "                          nn.Linear(7*7*64, 100), nn.ReLU(),\n",
    "                          nn.Linear(100, 10)).to(device)"
   ]
  },
  {
   "cell_type": "code",
   "execution_count": 6,
   "metadata": {},
   "outputs": [],
   "source": [
    "def fgsm(model, X, y, epsilon=0.1):\n",
    "    \"\"\" Construct FGSM adversarial examples on the examples X\"\"\"\n",
    "    delta = torch.zeros_like(X, requires_grad=True)\n",
    "    loss = nn.CrossEntropyLoss()(model(X + delta), y)\n",
    "    loss.backward()\n",
    "    return epsilon * delta.grad.detach().sign()\n",
    "\n",
    "def pgd_linf(model, X, y, epsilon=0.1, alpha=0.01, num_iter=20, randomize=False):\n",
    "    \"\"\" Construct FGSM adversarial examples on the examples X\"\"\"\n",
    "    if randomize:\n",
    "        delta = torch.rand_like(X, requires_grad=True)\n",
    "        delta.data = delta.data * 2 * epsilon - epsilon\n",
    "    else:\n",
    "        delta = torch.zeros_like(X, requires_grad=True)\n",
    "        \n",
    "    for t in range(num_iter):\n",
    "        loss = nn.CrossEntropyLoss()(model(X + delta), y)\n",
    "        loss.backward()\n",
    "        delta.data = (delta + alpha*delta.grad.detach().sign()).clamp(-epsilon,epsilon)\n",
    "        delta.grad.zero_()\n",
    "    return delta.detach()"
   ]
  },
  {
   "cell_type": "code",
   "execution_count": 7,
   "metadata": {},
   "outputs": [],
   "source": [
    "def epoch(loader, model, opt=None):\n",
    "    \"\"\"Standard training/evaluation epoch over the dataset\"\"\"\n",
    "    total_loss, total_err = 0.,0.\n",
    "    for X,y in loader:\n",
    "        X,y = X.to(device), y.to(device)\n",
    "        yp = model(X)\n",
    "        loss = nn.CrossEntropyLoss()(yp,y)\n",
    "        if opt:\n",
    "            opt.zero_grad()\n",
    "            loss.backward()\n",
    "            opt.step()\n",
    "        \n",
    "        total_err += (yp.max(dim=1)[1] != y).sum().item()\n",
    "        total_loss += loss.item() * X.shape[0]\n",
    "    return total_err / len(loader.dataset), total_loss / len(loader.dataset)\n",
    "\n",
    "\n",
    "def epoch_adversarial(loader, model, attack, opt=None, **kwargs):\n",
    "    \"\"\"Adversarial training/evaluation epoch over the dataset\"\"\"\n",
    "    total_loss, total_err = 0.,0.\n",
    "    for X,y in loader:\n",
    "        X,y = X.to(device), y.to(device)\n",
    "        delta = attack(model, X, y, **kwargs)\n",
    "        yp = model(X+delta)\n",
    "        loss = nn.CrossEntropyLoss()(yp,y)\n",
    "        if opt:\n",
    "            opt.zero_grad()\n",
    "            loss.backward()\n",
    "            opt.step()\n",
    "        \n",
    "        total_err += (yp.max(dim=1)[1] != y).sum().item()\n",
    "        total_loss += loss.item() * X.shape[0]\n",
    "    return total_err / len(loader.dataset), total_loss / len(loader.dataset)"
   ]
  },
  {
   "cell_type": "code",
   "execution_count": 8,
   "metadata": {},
   "outputs": [
    {
     "name": "stdout",
     "output_type": "stream",
     "text": [
      "0.280483\t0.030600\t0.629200\n",
      "0.026300\t0.018900\t0.678900\n",
      "0.016917\t0.016500\t0.701600\n",
      "0.013017\t0.013700\t0.709700\n",
      "0.009867\t0.014500\t0.771800\n",
      "0.004033\t0.010500\t0.726100\n",
      "0.002917\t0.010600\t0.725700\n",
      "0.002383\t0.010700\t0.724400\n",
      "0.002033\t0.010400\t0.726100\n",
      "0.001867\t0.010200\t0.733700\n"
     ]
    }
   ],
   "source": [
    "opt = optim.SGD(model_cnn.parameters(), lr=1e-1)\n",
    "for t in range(10):\n",
    "    train_err, train_loss = epoch(train_loader, model_cnn, opt)\n",
    "    test_err, test_loss = epoch(test_loader, model_cnn)\n",
    "    adv_err, adv_loss = epoch_adversarial(test_loader, model_cnn, pgd_linf)\n",
    "    if t == 4:\n",
    "        for param_group in opt.param_groups:\n",
    "            param_group[\"lr\"] = 1e-2\n",
    "    print(*(\"{:.6f}\".format(i) for i in (train_err, test_err, adv_err)), sep=\"\\t\")\n",
    "torch.save(model_cnn.state_dict(), \"model_cnn.pt\")"
   ]
  },
  {
   "cell_type": "code",
   "execution_count": 9,
   "metadata": {},
   "outputs": [],
   "source": [
    "model_cnn_robust = nn.Sequential(nn.Conv2d(1, 32, 3, padding=1), nn.ReLU(),\n",
    "                                 nn.Conv2d(32, 32, 3, padding=1, stride=2), nn.ReLU(),\n",
    "                                 nn.Conv2d(32, 64, 3, padding=1), nn.ReLU(),\n",
    "                                 nn.Conv2d(64, 64, 3, padding=1, stride=2), nn.ReLU(),\n",
    "                                 Flatten(),\n",
    "                                 nn.Linear(7*7*64, 100), nn.ReLU(),\n",
    "                                 nn.Linear(100, 10)).to(device)"
   ]
  },
  {
   "cell_type": "code",
   "execution_count": 10,
   "metadata": {},
   "outputs": [
    {
     "name": "stdout",
     "output_type": "stream",
     "text": [
      "0.684233\t0.105200\t0.236800\n",
      "0.092750\t0.018900\t0.054500\n",
      "0.051150\t0.017000\t0.044000\n",
      "0.038633\t0.015700\t0.043600\n",
      "0.031367\t0.011500\t0.031800\n",
      "0.021333\t0.010300\t0.028700\n",
      "0.019617\t0.009700\t0.029100\n",
      "0.018933\t0.009800\t0.028700\n",
      "0.018100\t0.009400\t0.028100\n",
      "0.017933\t0.009700\t0.027600\n"
     ]
    }
   ],
   "source": [
    "opt = optim.SGD(model_cnn_robust.parameters(), lr=1e-1)\n",
    "for t in range(10):\n",
    "    train_err, train_loss = epoch_adversarial(train_loader, model_cnn_robust, pgd_linf, opt)\n",
    "    test_err, test_loss = epoch(test_loader, model_cnn_robust)\n",
    "    adv_err, adv_loss = epoch_adversarial(test_loader, model_cnn_robust, pgd_linf)\n",
    "    if t == 4:\n",
    "        for param_group in opt.param_groups:\n",
    "            param_group[\"lr\"] = 1e-2\n",
    "    print(*(\"{:.6f}\".format(i) for i in (train_err, test_err, adv_err)), sep=\"\\t\")\n",
    "torch.save(model_cnn_robust.state_dict(), \"model_cnn_robust.pt\")"
   ]
  },
  {
   "cell_type": "code",
   "execution_count": 11,
   "metadata": {},
   "outputs": [
    {
     "name": "stdout",
     "output_type": "stream",
     "text": [
      "FGSM:  0.0256\n",
      "PGD, 40 iter:  0.0278\n",
      "PGD, small_alpha:  0.0276\n",
      "PGD, randomized:  0.0277\n"
     ]
    }
   ],
   "source": [
    "print(\"FGSM: \", epoch_adversarial(test_loader, model_cnn_robust, fgsm)[0])\n",
    "print(\"PGD, 40 iter: \", epoch_adversarial(test_loader, model_cnn_robust, pgd_linf, num_iter=40)[0])\n",
    "print(\"PGD, small_alpha: \", epoch_adversarial(test_loader, model_cnn_robust, pgd_linf, num_iter=40, alpha=0.05)[0])\n",
    "print(\"PGD, randomized: \", epoch_adversarial(test_loader, model_cnn_robust, pgd_linf, \n",
    "                                             num_iter=40, randomize=True)[0])"
   ]
  },
  {
   "cell_type": "code",
   "execution_count": 12,
   "metadata": {},
   "outputs": [],
   "source": [
    "for X,y in test_loader:\n",
    "    X,y = X.to(device), y.to(device)\n",
    "    break"
   ]
  },
  {
   "cell_type": "code",
   "execution_count": 17,
   "metadata": {},
   "outputs": [],
   "source": [
    "def draw_loss(model, X, epsilon):\n",
    "    Xi, Yi = np.meshgrid(np.linspace(-epsilon, epsilon,100), np.linspace(-epsilon,epsilon,100))\n",
    "    \n",
    "    def grad_at_delta(delta):\n",
    "        delta.requires_grad_(True)\n",
    "        nn.CrossEntropyLoss()(model(X+delta), y[0:1]).backward()\n",
    "        return delta.grad.detach().sign().view(-1).cpu().numpy()\n",
    "\n",
    "    dir1 = grad_at_delta(torch.zeros_like(X, requires_grad=True))\n",
    "    delta2 = torch.zeros_like(X, requires_grad=True)\n",
    "    delta2.data = torch.tensor(dir1).view_as(X).to(device)\n",
    "    dir2 = grad_at_delta(delta2)\n",
    "    np.random.seed(0)\n",
    "    dir2 = np.sign(np.random.randn(dir1.shape[0]))\n",
    "    \n",
    "    all_deltas = torch.tensor((np.array([Xi.flatten(), Yi.flatten()]).T @ \n",
    "                              np.array([dir2, dir1])).astype(np.float32)).to(device)\n",
    "    yp = model(all_deltas.view(-1,1,28,28) + X)\n",
    "    Zi = nn.CrossEntropyLoss(reduction=\"none\")(yp, y[0:1].repeat(yp.shape[0])).detach().cpu().numpy()\n",
    "    Zi = Zi.reshape(*Xi.shape)\n",
    "    #Zi = (Zi-Zi.min())/(Zi.max() - Zi.min())\n",
    "    \n",
    "    fig = plt.figure(figsize=(10,10))\n",
    "    ax = fig.gca(projection='3d')\n",
    "    ls = LightSource(azdeg=0, altdeg=200)\n",
    "    rgb = ls.shade(Zi, plt.cm.coolwarm)\n",
    "\n",
    "    surf = ax.plot_surface(Xi, Yi, Zi, rstride=1, cstride=1, linewidth=0,\n",
    "                       antialiased=True, facecolors=rgb)"
   ]
  },
  {
   "cell_type": "code",
   "execution_count": 18,
   "metadata": {},
   "outputs": [
    {
     "ename": "AttributeError",
     "evalue": "module 'matplotlib' has no attribute 'figure'",
     "output_type": "error",
     "traceback": [
      "\u001b[0;31m---------------------------------------------------------------------------\u001b[0m",
      "\u001b[0;31mAttributeError\u001b[0m                            Traceback (most recent call last)",
      "Cell \u001b[0;32mIn[18], line 1\u001b[0m\n\u001b[0;32m----> 1\u001b[0m \u001b[43mdraw_loss\u001b[49m\u001b[43m(\u001b[49m\u001b[43mmodel_cnn\u001b[49m\u001b[43m,\u001b[49m\u001b[43m \u001b[49m\u001b[43mX\u001b[49m\u001b[43m[\u001b[49m\u001b[38;5;241;43m0\u001b[39;49m\u001b[43m:\u001b[49m\u001b[38;5;241;43m1\u001b[39;49m\u001b[43m]\u001b[49m\u001b[43m,\u001b[49m\u001b[43m \u001b[49m\u001b[38;5;241;43m0.1\u001b[39;49m\u001b[43m)\u001b[49m\n",
      "Cell \u001b[0;32mIn[17], line 23\u001b[0m, in \u001b[0;36mdraw_loss\u001b[0;34m(model, X, epsilon)\u001b[0m\n\u001b[1;32m     20\u001b[0m Zi \u001b[38;5;241m=\u001b[39m Zi\u001b[38;5;241m.\u001b[39mreshape(\u001b[38;5;241m*\u001b[39mXi\u001b[38;5;241m.\u001b[39mshape)\n\u001b[1;32m     21\u001b[0m \u001b[38;5;66;03m#Zi = (Zi-Zi.min())/(Zi.max() - Zi.min())\u001b[39;00m\n\u001b[0;32m---> 23\u001b[0m fig \u001b[38;5;241m=\u001b[39m \u001b[43mplt\u001b[49m\u001b[38;5;241;43m.\u001b[39;49m\u001b[43mfigure\u001b[49m(figsize\u001b[38;5;241m=\u001b[39m(\u001b[38;5;241m10\u001b[39m,\u001b[38;5;241m10\u001b[39m))\n\u001b[1;32m     24\u001b[0m ax \u001b[38;5;241m=\u001b[39m fig\u001b[38;5;241m.\u001b[39mgca(projection\u001b[38;5;241m=\u001b[39m\u001b[38;5;124m'\u001b[39m\u001b[38;5;124m3d\u001b[39m\u001b[38;5;124m'\u001b[39m)\n\u001b[1;32m     25\u001b[0m ls \u001b[38;5;241m=\u001b[39m LightSource(azdeg\u001b[38;5;241m=\u001b[39m\u001b[38;5;241m0\u001b[39m, altdeg\u001b[38;5;241m=\u001b[39m\u001b[38;5;241m200\u001b[39m)\n",
      "File \u001b[0;32m~/miniconda3/envs/TA/lib/python3.8/site-packages/matplotlib/_api/__init__.py:226\u001b[0m, in \u001b[0;36mcaching_module_getattr.<locals>.__getattr__\u001b[0;34m(name)\u001b[0m\n\u001b[1;32m    224\u001b[0m \u001b[38;5;28;01mif\u001b[39;00m name \u001b[38;5;129;01min\u001b[39;00m props:\n\u001b[1;32m    225\u001b[0m     \u001b[38;5;28;01mreturn\u001b[39;00m props[name]\u001b[38;5;241m.\u001b[39m\u001b[38;5;21m__get__\u001b[39m(instance)\n\u001b[0;32m--> 226\u001b[0m \u001b[38;5;28;01mraise\u001b[39;00m \u001b[38;5;167;01mAttributeError\u001b[39;00m(\n\u001b[1;32m    227\u001b[0m     \u001b[38;5;124mf\u001b[39m\u001b[38;5;124m\"\u001b[39m\u001b[38;5;124mmodule \u001b[39m\u001b[38;5;132;01m{\u001b[39;00m\u001b[38;5;28mcls\u001b[39m\u001b[38;5;241m.\u001b[39m\u001b[38;5;18m__module__\u001b[39m\u001b[38;5;132;01m!r}\u001b[39;00m\u001b[38;5;124m has no attribute \u001b[39m\u001b[38;5;132;01m{\u001b[39;00mname\u001b[38;5;132;01m!r}\u001b[39;00m\u001b[38;5;124m\"\u001b[39m)\n",
      "\u001b[0;31mAttributeError\u001b[0m: module 'matplotlib' has no attribute 'figure'"
     ]
    }
   ],
   "source": [
    "draw_loss(model_cnn, X[0:1], 0.1)"
   ]
  },
  {
   "cell_type": "code",
   "execution_count": null,
   "metadata": {},
   "outputs": [],
   "source": [
    "draw_loss(model_cnn_robust, X[0:1], 0.1)"
   ]
  }
 ],
 "metadata": {
  "kernelspec": {
   "display_name": "TA",
   "language": "python",
   "name": "python3"
  },
  "language_info": {
   "codemirror_mode": {
    "name": "ipython",
    "version": 3
   },
   "file_extension": ".py",
   "mimetype": "text/x-python",
   "name": "python",
   "nbconvert_exporter": "python",
   "pygments_lexer": "ipython3",
   "version": "3.8.12"
  }
 },
 "nbformat": 4,
 "nbformat_minor": 2
}
