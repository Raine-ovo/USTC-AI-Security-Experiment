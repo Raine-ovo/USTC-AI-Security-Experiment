{
 "cells": [
  {
   "cell_type": "markdown",
   "id": "f41049f1",
   "metadata": {},
   "source": [
    "# 数据安全"
   ]
  },
  {
   "cell_type": "markdown",
   "id": "dc29e2bb",
   "metadata": {},
   "source": [
    "### 成员推理攻击（Membership Inference Attack）\n",
    "成员推理攻击的攻击目标是判断一个输入样本**是否存在于模型的训练数据集**中，可能会导致数据泄露、隐私泄露等风险。由于人工智能模型易过拟合训练数据、训练数据与测试数据分布的差异性等原因，使得深度学习模型易遭受成员推理攻击。\n",
    "\n",
    "本节实验使用影子模型攻击来实现简单的成员推理攻击。其主要想法是，训练多个“影子模型”，通过影子模型来模拟受害者模型的表现，然后根据影子模型的训练情况构建攻击数据集。使用该攻击数据集训练的二分类模型可以判断一个输入样本是否是来自受害者模型的训练集。\n",
    "\n",
    "其主要流程如下图所示：\n",
    "<p align=\"center\">\n",
    "<img src=\"./src/overview.png\" style=\"center\" width=\"70%\">\n",
    "<center>影子模型攻击流程</center>\n",
    "</p>"
   ]
  },
  {
   "cell_type": "markdown",
   "id": "faa0ec2b",
   "metadata": {},
   "source": [
    "### 1. 训练受害者模型\n",
    "首先使用 sklearn.datasets.load_wine() 加载葡萄酒分类数据集。\n",
    "\n",
    "葡萄酒分类数据集是一个非常小且简单的数据集，其具体信息如下：\n",
    "数据集包含 178 个样本，每个样本拥有 13 种不同的化学特征（即每个样本有 13 维特征），包括酸度、灰分，酒精浓度等。然后一共有三种不同类别的葡萄酒，对应标签0到2。\n",
    "\n",
    "详细信息可参考[这个网页](https://scikit-learn.org/stable/modules/generated/sklearn.datasets.load_wine.html#sklearn.datasets.load_wine)"
   ]
  },
  {
   "cell_type": "code",
   "execution_count": 1,
   "id": "b34f69bd",
   "metadata": {},
   "outputs": [
    {
     "name": "stdout",
     "output_type": "stream",
     "text": [
      "数据集的形状: (178, 13)\n",
      "数据集的前5行:\n",
      " [[0.84210526 0.1916996  0.57219251 0.25773196 0.61956522 0.62758621\n",
      "  0.57383966 0.28301887 0.59305994 0.37201365 0.45528455 0.97069597\n",
      "  0.56134094]\n",
      " [0.57105263 0.2055336  0.4171123  0.03092784 0.32608696 0.57586207\n",
      "  0.51054852 0.24528302 0.27444795 0.26450512 0.46341463 0.78021978\n",
      "  0.55064194]\n",
      " [0.56052632 0.3201581  0.70053476 0.41237113 0.33695652 0.62758621\n",
      "  0.61181435 0.32075472 0.75709779 0.37542662 0.44715447 0.6959707\n",
      "  0.64693295]\n",
      " [0.87894737 0.23913043 0.60962567 0.31958763 0.4673913  0.98965517\n",
      "  0.66455696 0.20754717 0.55835962 0.55631399 0.30894309 0.7985348\n",
      "  0.85734665]\n",
      " [0.58157895 0.36561265 0.80748663 0.53608247 0.52173913 0.62758621\n",
      "  0.49578059 0.49056604 0.44479495 0.25938567 0.45528455 0.60805861\n",
      "  0.32596291]]\n",
      "数据集的标签: [0 0 0 0 0]\n"
     ]
    }
   ],
   "source": [
    "# 加载葡萄酒分类数据集\n",
    "from sklearn.datasets import load_wine\n",
    "from sklearn.model_selection import train_test_split\n",
    "from sklearn.ensemble import RandomForestClassifier\n",
    "from sklearn.preprocessing import MinMaxScaler\n",
    "from tqdm import tqdm\n",
    "import numpy as np\n",
    "import random\n",
    "\n",
    "data, target = load_wine(return_X_y=True)\n",
    "# 将每一维度缩放至0到1\n",
    "scaler = MinMaxScaler()\n",
    "data = scaler.fit_transform(data)\n",
    "# 查看数据集的形状\n",
    "print(\"数据集的形状:\", data.shape)\n",
    "# 查看数据集的前5行\n",
    "print(\"数据集的前5行:\\n\", data[:5])\n",
    "# 查看数据集的标签\n",
    "print(\"数据集的标签:\", target[:5])"
   ]
  },
  {
   "cell_type": "markdown",
   "id": "0f010868",
   "metadata": {},
   "source": [
    "使用随机森林分类器来作为被攻击的目标模型（受害者模型）。\n",
    "随机森林分类器的具体api参数内容可以参考[sklearn的官方网站](https://scikit-learn.org/stable/modules/generated/sklearn.ensemble.RandomForestClassifier.html)\n",
    "\n",
    "该分类器使用 .fit(X, y) 函数进行训练，使用 .predict(X) 函数来预测对应标签，使用 .predict_proba(X) 函数来获取每个标签的预测概率值。其中 X 的形状为（批次，特征数）。"
   ]
  },
  {
   "cell_type": "code",
   "execution_count": 2,
   "id": "9bb7280c",
   "metadata": {},
   "outputs": [
    {
     "name": "stdout",
     "output_type": "stream",
     "text": [
      "模型准确性: 1.0\n"
     ]
    }
   ],
   "source": [
    "victim_model = RandomForestClassifier(n_estimators=100)\n",
    "# 划分训练集和测试集\n",
    "X_train, X_test, y_train, y_test = train_test_split(data, target, test_size=0.4, random_state=42)\n",
    "# 训练模型\n",
    "victim_model.fit(X_train, y_train)\n",
    "# 测试模型准确性\n",
    "accuracy = victim_model.score(X_test, y_test)\n",
    "print(\"模型准确性:\", accuracy)"
   ]
  },
  {
   "cell_type": "markdown",
   "id": "326180a4",
   "metadata": {},
   "source": [
    "定义查询模型的函数：输入样本 $x \\rightarrow$ 预测概率向量 $prob$ ，来模拟通过api访问模型的应用场景"
   ]
  },
  {
   "cell_type": "code",
   "execution_count": 25,
   "id": "924f1655",
   "metadata": {},
   "outputs": [],
   "source": [
    "# 模拟通过api访问模型，得到模型的概率预测输出\n",
    "def query_model(model, x):\n",
    "    return model.predict_proba(x)"
   ]
  },
  {
   "cell_type": "markdown",
   "id": "515ab66a",
   "metadata": {},
   "source": [
    "### 2. 合成数据集\n",
    "由于攻击者无从得知受害者模型的训练集，而训练一个判断输入样本是否属于训练集的二分类模型需要相应的数据。因此，文章借助爬山算法来合成影子模型的训练数据集。具体算法如下：\n",
    "<p align=\"center\">\n",
    "<img src=\"./src/synthesis.png\" style=\"center\" width=\"40%\">\n",
    "<center>合成数据集的算法</center>\n",
    "</p>\n",
    "值得注意的是，该算法运行时间较长，面对具有更多特征的数据集（如图像数据集）并不适用。文章提出在那些场景下，攻击者可能需要具有部分训练数据集的知识，如获得同分布但是无交集的数据集、或者可以得到扰动后的数据集。"
   ]
  },
  {
   "cell_type": "code",
   "execution_count": 4,
   "id": "5956368b",
   "metadata": {},
   "outputs": [],
   "source": [
    "# 合成数据集，适用于无法获取真实数据集的情况\n",
    "# 对于 features 较多的情况不适用\n",
    "def synthesize_data(model, label, num_iter, conf_min, rej_max, k_max, k_min, num_features):\n",
    "    x = np.random.uniform(0, 1, num_features).reshape(1, -1)\n",
    "    last_y_c = 0\n",
    "    k = k_max\n",
    "    j = 0\n",
    "    for i in range(num_iter):\n",
    "        pred = query_model(model, x)\n",
    "        y_c = pred[:, label].item()\n",
    "        if y_c > last_y_c:\n",
    "            if y_c > conf_min and np.argmax(pred) == label:\n",
    "                if random.random() < y_c:\n",
    "                    return x.squeeze(0)\n",
    "            last_y_c = y_c\n",
    "            j = 0\n",
    "        else:\n",
    "            j += 1\n",
    "            if j > rej_max:\n",
    "                k = max(k_min, int(k / 2))\n",
    "                j = 0\n",
    "        # 随机变换 x 的 k 个像素\n",
    "        idx_to_change = np.random.randint(0, x.shape[1], size=k)\n",
    "        x[:, idx_to_change] = np.random.uniform(0, 1, size=(x.shape[0], k))\n",
    "    return None"
   ]
  },
  {
   "cell_type": "markdown",
   "id": "b6c7a8fe",
   "metadata": {},
   "source": [
    "合成影子模型训练所需数据集"
   ]
  },
  {
   "cell_type": "code",
   "execution_count": 5,
   "id": "bec55c4b",
   "metadata": {},
   "outputs": [
    {
     "name": "stderr",
     "output_type": "stream",
     "text": [
      "100%|██████████| 33/33 [05:47<00:00, 10.54s/it]\n",
      "100%|██████████| 33/33 [06:02<00:00, 10.99s/it]\n"
     ]
    }
   ],
   "source": [
    "def get_synthetic_data(num_samples, num_features, model, num_classes, num_iter=1000, conf_min=0.8, rej_max=10, k_max=3, k_min=1):\n",
    "    # 生成合成数据\n",
    "    synthesize_data_list = []\n",
    "    label_list = []\n",
    "    for i in tqdm(range(num_samples // num_classes)):\n",
    "        for label in range(num_classes):\n",
    "            x = None\n",
    "            while x is None:\n",
    "                x = synthesize_data(model, label, num_iter\n",
    "                                    , conf_min, rej_max, k_max, k_min, num_features)\n",
    "            synthesize_data_list.append(x)\n",
    "            label_list.append(label)\n",
    "    return synthesize_data_list, label_list\n",
    "\n",
    "num_classes = len(np.unique(y_train))\n",
    "\n",
    "synthesize_data_train, synthesize_label_train = get_synthetic_data(num_samples=100, num_features=X_train.shape[1], model=victim_model, num_classes=num_classes)\n",
    "# 将合成数据转换为 numpy 数组\n",
    "synthesize_data_train, synthesize_label_train = np.array(synthesize_data_train), np.array(synthesize_label_train)\n",
    "\n",
    "synthesize_data_test, synthesize_label_test = get_synthetic_data(num_samples=100, num_features=X_test.shape[1], model=victim_model, num_classes=num_classes)\n",
    "synthesize_data_test, synthesize_label_test = np.array(synthesize_data_test), np.array(synthesize_label_test)"
   ]
  },
  {
   "cell_type": "code",
   "execution_count": 6,
   "id": "65e9be51",
   "metadata": {},
   "outputs": [
    {
     "name": "stdout",
     "output_type": "stream",
     "text": [
      "合成数据集已保存\n"
     ]
    }
   ],
   "source": [
    "# 保存合成数据集\n",
    "import os\n",
    "if not os.path.exists('./data'):\n",
    "    os.makedirs('./data')\n",
    "np.save('./data/synthesize_data_train.npy', synthesize_data_train)\n",
    "np.save(\"./data/synthesis_label_train.npy\", synthesize_label_train)\n",
    "np.save('./data/synthesize_data_test.npy', synthesize_data_test)\n",
    "np.save(\"./data/synthesis_label_test.npy\", synthesize_label_test)\n",
    "print(\"合成数据集已保存\")"
   ]
  },
  {
   "cell_type": "code",
   "execution_count": 4,
   "id": "9e4ab859",
   "metadata": {},
   "outputs": [
    {
     "name": "stdout",
     "output_type": "stream",
     "text": [
      "合成数据集已加载\n"
     ]
    }
   ],
   "source": [
    "synthesize_data_train = np.load('./data/synthesize_data_train.npy')\n",
    "synthesize_label_train = np.load(\"./data/synthesis_label_train.npy\")\n",
    "synthesize_data_test = np.load('./data/synthesize_data_test.npy')\n",
    "synthesize_label_test = np.load(\"./data/synthesis_label_test.npy\")\n",
    "print(\"合成数据集已加载\")"
   ]
  },
  {
   "cell_type": "code",
   "execution_count": 5,
   "id": "13013893",
   "metadata": {},
   "outputs": [
    {
     "name": "stdout",
     "output_type": "stream",
     "text": [
      "(99, 13)\n",
      "(99,)\n"
     ]
    }
   ],
   "source": [
    "print(synthesize_data_train.shape)\n",
    "print(synthesize_label_train.shape)"
   ]
  },
  {
   "cell_type": "markdown",
   "id": "d9abdacc",
   "metadata": {},
   "source": [
    "### 3. 训练影子模型\n",
    "使用合成数据集训练影子模型，并且构建训练攻击模型所用的二分类数据集"
   ]
  },
  {
   "cell_type": "markdown",
   "id": "faa3fe13",
   "metadata": {},
   "source": [
    "由于攻击者不知道受害者模型训练的具体信息，而为了训练攻击的二分类模型（用于判断一个给定的输入是否在训练集中），攻击者需要构建一个（预测向量，是否在训练数据集中）的数据集来训练攻击模型。\n",
    "\n",
    "攻击者可以通过构建多个影子模型，并且将合成数据集分为多份（彼此可重叠）来训练不同的影子模型，使得构建的攻击数据集更多样化。\n",
    "\n",
    "而对于影子模型，攻击者知道一个样本是否是来自其训练数据集，因此可以构建训练攻击模型所需的数据集。影子模型的数量越多，产生的样本对越多，越利于攻击的二分类模型的训练。\n",
    "\n",
    "对于攻击数据集，其每一个样本包含三部分，模型的预测向量 $\\mathbf{y}$，真实标签 $y$，以及其是否在训练数据集中（0代表不在训练集中，1代表在训练集中）：\n",
    "$$\n",
    "D_{attack}=\\{(\\mathbf{y} ,y) , \\text{in-or-out} \\}_{i=1}^n\n",
    "$$\n",
    "其中 in-or-out 是0-1变量，代表该样本对是否在训练集中。"
   ]
  },
  {
   "cell_type": "code",
   "execution_count": 18,
   "id": "ad469768",
   "metadata": {},
   "outputs": [],
   "source": [
    "# 将合成数据集分成 num_shared 份，可重叠\n",
    "def split_dataset(dataset, true_label, num_shadows, num_classes, length):\n",
    "    splits = []\n",
    "    labels = []\n",
    "    for i in range(num_shadows):\n",
    "        split = []\n",
    "        label = []\n",
    "        for j in range(num_classes):\n",
    "            idx = np.where(true_label == j)[0]\n",
    "            if len(idx) < length:\n",
    "                length = len(idx)\n",
    "            selected_idx = np.random.choice(idx, size=length, replace=False)\n",
    "            split.append(dataset[selected_idx])\n",
    "            label.append(true_label[selected_idx])\n",
    "        splits.append(np.concatenate(split, axis=0))\n",
    "        labels.append(np.concatenate(label, axis=0))\n",
    "    return splits, labels"
   ]
  },
  {
   "cell_type": "code",
   "execution_count": 19,
   "id": "d9abdacc",
   "metadata": {},
   "outputs": [
    {
     "name": "stdout",
     "output_type": "stream",
     "text": [
      "Shadow model 0 accuracy: 1.0\n",
      "Shadow model 1 accuracy: 1.0\n",
      "Shadow model 2 accuracy: 1.0\n",
      "Shadow model 3 accuracy: 1.0\n",
      "Shadow model 4 accuracy: 1.0\n",
      "Shadow model 5 accuracy: 1.0\n",
      "Shadow model 6 accuracy: 1.0\n",
      "Shadow model 7 accuracy: 1.0\n",
      "Shadow model 8 accuracy: 1.0\n",
      "Shadow model 9 accuracy: 1.0\n",
      "Shadow model 10 accuracy: 1.0\n",
      "Shadow model 11 accuracy: 1.0\n",
      "Shadow model 12 accuracy: 1.0\n",
      "Shadow model 13 accuracy: 1.0\n",
      "Shadow model 14 accuracy: 1.0\n",
      "Shadow model 15 accuracy: 1.0\n",
      "Shadow model 16 accuracy: 1.0\n",
      "Shadow model 17 accuracy: 1.0\n",
      "Shadow model 18 accuracy: 1.0\n",
      "Shadow model 19 accuracy: 1.0\n",
      "successfully generate attack dataset\n"
     ]
    }
   ],
   "source": [
    "num_classes = len(np.unique(synthesize_label_train))\n",
    "num_shadows = 20\n",
    "attack_X = []\n",
    "attack_y = []\n",
    "\n",
    "shadow_train_list, train_label_list = split_dataset(synthesize_data_train, synthesize_label_train, num_shadows, num_classes, len(synthesize_data_train) // 2)\n",
    "shadow_test_list, test_label_list = split_dataset(synthesize_data_test, synthesize_label_test, num_shadows, num_classes, len(synthesize_data_test) // 2)\n",
    "# 训练影子模型\n",
    "for i in range(num_shadows):\n",
    "    shadow_model = RandomForestClassifier(n_estimators=100, random_state=i)\n",
    "    shadow_model.fit(shadow_train_list[i], train_label_list[i])\n",
    "    # 测试影子模型的准确性\n",
    "    shadow_model_accuracy = shadow_model.score(shadow_test_list[i], test_label_list[i])\n",
    "    print(f\"Shadow model {i} accuracy: {shadow_model_accuracy}\")\n",
    "\n",
    "    # 使用影子模型生成攻击二分类数据集\n",
    "    in_pred = query_model(shadow_model, shadow_train_list[i])\n",
    "    in_features = np.hstack((in_pred, train_label_list[i].reshape(-1, 1)))\n",
    "    attack_X.append(in_features)\n",
    "    attack_y.append(np.ones((in_pred.shape[0], 1)))\n",
    "\n",
    "    out_pred = query_model(shadow_model, shadow_test_list[i])\n",
    "    out_features = np.hstack((out_pred, test_label_list[i].reshape(-1, 1)))\n",
    "    attack_X.append(out_features)\n",
    "    attack_y.append(np.zeros((out_pred.shape[0], 1)))\n",
    "print(\"successfully generate attack dataset\")"
   ]
  },
  {
   "cell_type": "markdown",
   "id": "afe293a8",
   "metadata": {},
   "source": [
    "使用合成数据集构建二分类所用数据集"
   ]
  },
  {
   "cell_type": "code",
   "execution_count": 20,
   "id": "d94c8cc5",
   "metadata": {},
   "outputs": [
    {
     "name": "stdout",
     "output_type": "stream",
     "text": [
      "attack_X shape: (3960, 4)\n",
      "attack_y shape: (3960, 1)\n"
     ]
    }
   ],
   "source": [
    "attack_X = np.vstack(attack_X)\n",
    "attack_y = np.vstack(attack_y)\n",
    "print(\"attack_X shape:\", attack_X.shape)\n",
    "print(\"attack_y shape:\", attack_y.shape)"
   ]
  },
  {
   "cell_type": "markdown",
   "id": "9b4efb5f",
   "metadata": {},
   "source": [
    "### 4. 训练攻击二分类模型\n",
    "接下来，借助影子模型构建的攻击数据集，我们可以训练二分类模型。提出影子模型攻击的论文指出，该二分类模型是独立于之前的影子模型训练过程的，因此可以根据任务需求选择适合的模型进行训练。\n",
    "\n",
    "这里我们依然采用随机森林分类器作为二分类的攻击模型。"
   ]
  },
  {
   "cell_type": "code",
   "execution_count": 21,
   "id": "9d0329b7",
   "metadata": {},
   "outputs": [
    {
     "name": "stderr",
     "output_type": "stream",
     "text": [
      "d:\\python\\lib\\site-packages\\sklearn\\base.py:1152: DataConversionWarning: A column-vector y was passed when a 1d array was expected. Please change the shape of y to (n_samples,), for example using ravel().\n",
      "  return fit_method(estimator, *args, **kwargs)\n"
     ]
    },
    {
     "data": {
      "text/html": [
       "<style>#sk-container-id-2 {color: black;}#sk-container-id-2 pre{padding: 0;}#sk-container-id-2 div.sk-toggleable {background-color: white;}#sk-container-id-2 label.sk-toggleable__label {cursor: pointer;display: block;width: 100%;margin-bottom: 0;padding: 0.3em;box-sizing: border-box;text-align: center;}#sk-container-id-2 label.sk-toggleable__label-arrow:before {content: \"▸\";float: left;margin-right: 0.25em;color: #696969;}#sk-container-id-2 label.sk-toggleable__label-arrow:hover:before {color: black;}#sk-container-id-2 div.sk-estimator:hover label.sk-toggleable__label-arrow:before {color: black;}#sk-container-id-2 div.sk-toggleable__content {max-height: 0;max-width: 0;overflow: hidden;text-align: left;background-color: #f0f8ff;}#sk-container-id-2 div.sk-toggleable__content pre {margin: 0.2em;color: black;border-radius: 0.25em;background-color: #f0f8ff;}#sk-container-id-2 input.sk-toggleable__control:checked~div.sk-toggleable__content {max-height: 200px;max-width: 100%;overflow: auto;}#sk-container-id-2 input.sk-toggleable__control:checked~label.sk-toggleable__label-arrow:before {content: \"▾\";}#sk-container-id-2 div.sk-estimator input.sk-toggleable__control:checked~label.sk-toggleable__label {background-color: #d4ebff;}#sk-container-id-2 div.sk-label input.sk-toggleable__control:checked~label.sk-toggleable__label {background-color: #d4ebff;}#sk-container-id-2 input.sk-hidden--visually {border: 0;clip: rect(1px 1px 1px 1px);clip: rect(1px, 1px, 1px, 1px);height: 1px;margin: -1px;overflow: hidden;padding: 0;position: absolute;width: 1px;}#sk-container-id-2 div.sk-estimator {font-family: monospace;background-color: #f0f8ff;border: 1px dotted black;border-radius: 0.25em;box-sizing: border-box;margin-bottom: 0.5em;}#sk-container-id-2 div.sk-estimator:hover {background-color: #d4ebff;}#sk-container-id-2 div.sk-parallel-item::after {content: \"\";width: 100%;border-bottom: 1px solid gray;flex-grow: 1;}#sk-container-id-2 div.sk-label:hover label.sk-toggleable__label {background-color: #d4ebff;}#sk-container-id-2 div.sk-serial::before {content: \"\";position: absolute;border-left: 1px solid gray;box-sizing: border-box;top: 0;bottom: 0;left: 50%;z-index: 0;}#sk-container-id-2 div.sk-serial {display: flex;flex-direction: column;align-items: center;background-color: white;padding-right: 0.2em;padding-left: 0.2em;position: relative;}#sk-container-id-2 div.sk-item {position: relative;z-index: 1;}#sk-container-id-2 div.sk-parallel {display: flex;align-items: stretch;justify-content: center;background-color: white;position: relative;}#sk-container-id-2 div.sk-item::before, #sk-container-id-2 div.sk-parallel-item::before {content: \"\";position: absolute;border-left: 1px solid gray;box-sizing: border-box;top: 0;bottom: 0;left: 50%;z-index: -1;}#sk-container-id-2 div.sk-parallel-item {display: flex;flex-direction: column;z-index: 1;position: relative;background-color: white;}#sk-container-id-2 div.sk-parallel-item:first-child::after {align-self: flex-end;width: 50%;}#sk-container-id-2 div.sk-parallel-item:last-child::after {align-self: flex-start;width: 50%;}#sk-container-id-2 div.sk-parallel-item:only-child::after {width: 0;}#sk-container-id-2 div.sk-dashed-wrapped {border: 1px dashed gray;margin: 0 0.4em 0.5em 0.4em;box-sizing: border-box;padding-bottom: 0.4em;background-color: white;}#sk-container-id-2 div.sk-label label {font-family: monospace;font-weight: bold;display: inline-block;line-height: 1.2em;}#sk-container-id-2 div.sk-label-container {text-align: center;}#sk-container-id-2 div.sk-container {/* jupyter's `normalize.less` sets `[hidden] { display: none; }` but bootstrap.min.css set `[hidden] { display: none !important; }` so we also need the `!important` here to be able to override the default hidden behavior on the sphinx rendered scikit-learn.org. See: https://github.com/scikit-learn/scikit-learn/issues/21755 */display: inline-block !important;position: relative;}#sk-container-id-2 div.sk-text-repr-fallback {display: none;}</style><div id=\"sk-container-id-2\" class=\"sk-top-container\"><div class=\"sk-text-repr-fallback\"><pre>RandomForestClassifier(random_state=42)</pre><b>In a Jupyter environment, please rerun this cell to show the HTML representation or trust the notebook. <br />On GitHub, the HTML representation is unable to render, please try loading this page with nbviewer.org.</b></div><div class=\"sk-container\" hidden><div class=\"sk-item\"><div class=\"sk-estimator sk-toggleable\"><input class=\"sk-toggleable__control sk-hidden--visually\" id=\"sk-estimator-id-2\" type=\"checkbox\" checked><label for=\"sk-estimator-id-2\" class=\"sk-toggleable__label sk-toggleable__label-arrow\">RandomForestClassifier</label><div class=\"sk-toggleable__content\"><pre>RandomForestClassifier(random_state=42)</pre></div></div></div></div></div>"
      ],
      "text/plain": [
       "RandomForestClassifier(random_state=42)"
      ]
     },
     "execution_count": 21,
     "metadata": {},
     "output_type": "execute_result"
    }
   ],
   "source": [
    "# 训练攻击模型\n",
    "attack_model = RandomForestClassifier(n_estimators=100, random_state=42)\n",
    "attack_model.fit(attack_X, attack_y)"
   ]
  },
  {
   "cell_type": "markdown",
   "id": "90c86e72",
   "metadata": {},
   "source": [
    "接下来在真实的训练集以及测试集（即受害者模型所训练的数据集以及测试集）上测试我们的攻击效果。"
   ]
  },
  {
   "cell_type": "code",
   "execution_count": 27,
   "id": "289a1a26",
   "metadata": {},
   "outputs": [
    {
     "name": "stdout",
     "output_type": "stream",
     "text": [
      "训练集攻击模型准确率: 0.6981132075471698\n",
      "测试集攻击模型准确率: 0.625\n",
      "\n",
      "一些指标：\n",
      "攻击模型准确率 accuracy: 0.6685393258426966\n",
      "精确率 precision: 0.7326732673267327\n",
      "召回率 recall: 0.6981132075471698\n",
      "F1-score: 0.714975845410628\n"
     ]
    }
   ],
   "source": [
    "# 测试攻击模型\n",
    "def test_attack_model(attack_model, victim_model, X_train, y_train, X_test, y_test):\n",
    "    num_train = 0\n",
    "    num_test = 0\n",
    "    acc_train = 0\n",
    "    acc_test = 0\n",
    "    \n",
    "    preds = query_model(victim_model, X_train)\n",
    "    features = np.hstack((preds, y_train.reshape(-1, 1)))\n",
    "    train_pred = attack_model.predict(features)\n",
    "    num_train += len(train_pred)\n",
    "    acc_train += np.sum(train_pred == 1)\n",
    "\n",
    "    preds = query_model(victim_model, X_test)\n",
    "    features = np.hstack((preds, y_test.reshape(-1, 1)))\n",
    "    test_pred = attack_model.predict(features)\n",
    "    num_test += len(test_pred)\n",
    "    acc_test += np.sum(test_pred == 0)\n",
    "    print(\"训练集攻击模型准确率:\", acc_train / num_train)\n",
    "    print(\"测试集攻击模型准确率:\", acc_test / num_test)\n",
    "    print(\"\\n一些指标：\")\n",
    "    accuracy = (acc_train + acc_test) / (num_train + num_test)\n",
    "    print(\"攻击模型准确率 accuracy:\", accuracy)\n",
    "    precision = acc_train / (acc_train + num_test - acc_test)\n",
    "    print(\"精确率 precision:\", precision)\n",
    "    recall = acc_train / num_train\n",
    "    print(\"召回率 recall:\", recall)\n",
    "    print(\"F1-score:\", 2 * precision * recall / (precision + recall))\n",
    "    \n",
    "test_attack_model(attack_model, victim_model, X_train, y_train, X_test, y_test)"
   ]
  },
  {
   "cell_type": "markdown",
   "id": "ae17f12f",
   "metadata": {},
   "source": [
    "一个随机猜测的二分类判断器准确率为 $50%$，而我们的攻击分类器达到了 $67\\%$，说明该攻击有一定效果。\n",
    "\n",
    "此外，影子模型攻击存在诸多限制：\n",
    "- 攻击者需要知道目标模型结构\n",
    "- 目标模型需要过拟合才能达到较好的攻击效果\n",
    "- 局限于特征数少的分类任务"
   ]
  },
  {
   "cell_type": "markdown",
   "id": "ab07f38d",
   "metadata": {},
   "source": [
    "### 5. 简单的防御思路\n",
    "同上一次实验种，模型窃取的防御思路一致。可以采取模糊化模型输出向量的方式进行防御，使模型输出包含尽可能少的信息。可以将 query_model() 函数的输出换成模糊后的概率向量来模拟模糊化输出的过程。"
   ]
  },
  {
   "cell_type": "code",
   "execution_count": 23,
   "id": "c1763067",
   "metadata": {},
   "outputs": [],
   "source": [
    "# 模拟通过api访问模型，得到模糊化后的概率预测输出\n",
    "def query_model(model, x):\n",
    "    result = model.predict_proba(x)\n",
    "    # 模糊化处理，保留 1 位小数\n",
    "    # 最大的预测向量不变，其余均设置为 0\n",
    "    max_idx = np.argmax(result, axis=1)\n",
    "    result = np.round(result, 1)\n",
    "    # 将最大值以外的元素设置为 0\n",
    "    for i in range(result.shape[0]):\n",
    "        for j in range(result.shape[1]):\n",
    "            if j != max_idx[i]:\n",
    "                result[i, j] = 0.0\n",
    "    return result"
   ]
  }
 ],
 "metadata": {
  "kernelspec": {
   "display_name": "Python 3",
   "language": "python",
   "name": "python3"
  },
  "language_info": {
   "codemirror_mode": {
    "name": "ipython",
    "version": 3
   },
   "file_extension": ".py",
   "mimetype": "text/x-python",
   "name": "python",
   "nbconvert_exporter": "python",
   "pygments_lexer": "ipython3",
   "version": "3.10.10"
  }
 },
 "nbformat": 4,
 "nbformat_minor": 5
}
