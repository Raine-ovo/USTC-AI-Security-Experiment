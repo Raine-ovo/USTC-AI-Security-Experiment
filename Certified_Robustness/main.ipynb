{
 "cells": [
  {
   "cell_type": "markdown",
   "id": "090d4b47",
   "metadata": {},
   "source": [
    "思路：先将FGSM和PGD，引入PGD的有目标攻击，再将整数规划问题优化的有目标攻击"
   ]
  },
  {
   "cell_type": "markdown",
   "id": "e7baea42",
   "metadata": {},
   "source": [
    "# 0. 课程前言\n",
    "\n",
    "此为《人工智能安全》实验课第三部分：可认证鲁棒性实验部分.\n",
    "\n",
    "可认证鲁棒性，即在面对对抗样本的时候，找到一个可以量化的界限，即明确一个标准，以判断系统在面对恶意干扰或异常状况时的表现程度，这个可量化的界限可以帮助研究者评估模型的鲁棒程度，并采取相应的改进措施。\n",
    "\n",
    "回顾对抗攻击实验部分，其核心目标是寻找使模型分类失效的最小对抗扰动。具体而言，对抗攻击可形式化为如下优化问题：\n",
    "\n",
    "$$\n",
    "\\delta^* = \\arg \\max _{||\\delta|| \\le \\epsilon} \\mathcal L (h_\\theta(x), y)\n",
    "$$\n",
    "\n",
    "\n",
    "其中，扰动 $\\delta$ 的优化解域存在显著差异性：部分解会导致模型以高概率误判（对抗攻击上界），而另一部分解仅能引发低概率误判（对抗攻击下界）。这种优化目标的上下界分析构成了对抗攻防研究的核心框架。\n",
    "\n",
    "基于此，我们将对抗攻击方法系统性地划分为三类研究范式：\n",
    "1. **启发式局部优化**\n",
    "\n",
    "    找到优化目标 $\\delta$ 的下界，即\"通过启发式算法找到一个对抗样本\"。主流方法如 **FGSM(快速梯度符号法)** 和 **PGD(投影梯度下降法)** 等，通过经验驱动的局部搜索策略构造对抗样本。这类方法本质上是对非凸优化问题的近似求解，虽能有效发现对抗样本，但无法保证获得全局最优解，属于对抗攻击下界的探索。\n",
    "2. **精确全局优化**\n",
    "\n",
    "    针对特定网络结构（如分段线性激活函数），将对抗样本构造问题转化为组合优化问题，利用混合整数规划（MIP）等数学工具进行精确求解。该方法能够确定性地验证是否存在导致误判的对抗样本，但受限于计算复杂度，主要适用于小型网络验证。\n",
    "3. **可认证鲁棒性分析**\n",
    "\n",
    "    通过构建网络结构的凸松弛模型（如线性规划松弛、半正定规划松弛），在更易处理的优化空间内推导对抗攻击上界。当松弛模型在给定扰动范围内无法构造成功攻击时，即可严格证明原始网络具有可认证鲁棒性。这种基于数学证明的方法为模型安全性提供了理论保证。\n",
    "\n",
    "在对抗训练实验部分，我们已初步引入可认证鲁棒性分析的相关内容，本次实验我们会进行更深入的介绍。"
   ]
  },
  {
   "cell_type": "markdown",
   "id": "08d01e3e",
   "metadata": {},
   "source": [
    "# 1. 训练准备"
   ]
  },
  {
   "cell_type": "markdown",
   "id": "fa80b636",
   "metadata": {},
   "source": [
    "我们先引入三个简单的神经网络模型："
   ]
  },
  {
   "cell_type": "code",
   "execution_count": 1,
   "id": "3f883b48",
   "metadata": {},
   "outputs": [],
   "source": [
    "import torch\n",
    "import torch.nn as nn\n",
    "import torch.optim as optim\n",
    "\n",
    "import matplotlib.pyplot as plt\n",
    "import numpy as np\n",
    "\n",
    "device = torch.device(\"cuda:0\" if torch.cuda.is_available() else \"cpu\")"
   ]
  },
  {
   "cell_type": "code",
   "execution_count": 3,
   "id": "a671b071",
   "metadata": {},
   "outputs": [],
   "source": [
    "class Flatten(nn.Module):\n",
    "    def forward(self, x):\n",
    "        return x.view(x.shape[0], -1)    \n",
    "\n",
    "model_dnn_2 = nn.Sequential(Flatten(), nn.Linear(784,200), nn.ReLU(), \n",
    "                            nn.Linear(200,10)).to(device)\n",
    "\n",
    "model_dnn_4 = nn.Sequential(Flatten(), nn.Linear(784,200), nn.ReLU(), \n",
    "                            nn.Linear(200,100), nn.ReLU(),\n",
    "                            nn.Linear(100,100), nn.ReLU(),\n",
    "                            nn.Linear(100,10)).to(device)\n",
    "\n",
    "model_cnn = nn.Sequential(nn.Conv2d(1, 32, 3, padding=1), nn.ReLU(),\n",
    "                          nn.Conv2d(32, 32, 3, padding=1, stride=2), nn.ReLU(),\n",
    "                          nn.Conv2d(32, 64, 3, padding=1), nn.ReLU(),\n",
    "                          nn.Conv2d(64, 64, 3, padding=1, stride=2), nn.ReLU(),\n",
    "                          Flatten(),\n",
    "                          nn.Linear(7*7*64, 100), nn.ReLU(),\n",
    "                          nn.Linear(100, 10)).to(device)"
   ]
  },
  {
   "cell_type": "code",
   "execution_count": 4,
   "id": "1eb148e2",
   "metadata": {},
   "outputs": [
    {
     "name": "stderr",
     "output_type": "stream",
     "text": [
      "/tmp/ipykernel_468744/811293303.py:1: FutureWarning: You are using `torch.load` with `weights_only=False` (the current default value), which uses the default pickle module implicitly. It is possible to construct malicious pickle data which will execute arbitrary code during unpickling (See https://github.com/pytorch/pytorch/blob/main/SECURITY.md#untrusted-models for more details). In a future release, the default value for `weights_only` will be flipped to `True`. This limits the functions that could be executed during unpickling. Arbitrary objects will no longer be allowed to be loaded via this mode unless they are explicitly allowlisted by the user via `torch.serialization.add_safe_globals`. We recommend you start setting `weights_only=True` for any use case where you don't have full control of the loaded file. Please open an issue on GitHub for any issues related to this experimental feature.\n",
      "  model_dnn_2.load_state_dict(torch.load(\"model_dnn_2.pt\"))\n",
      "/tmp/ipykernel_468744/811293303.py:2: FutureWarning: You are using `torch.load` with `weights_only=False` (the current default value), which uses the default pickle module implicitly. It is possible to construct malicious pickle data which will execute arbitrary code during unpickling (See https://github.com/pytorch/pytorch/blob/main/SECURITY.md#untrusted-models for more details). In a future release, the default value for `weights_only` will be flipped to `True`. This limits the functions that could be executed during unpickling. Arbitrary objects will no longer be allowed to be loaded via this mode unless they are explicitly allowlisted by the user via `torch.serialization.add_safe_globals`. We recommend you start setting `weights_only=True` for any use case where you don't have full control of the loaded file. Please open an issue on GitHub for any issues related to this experimental feature.\n",
      "  model_dnn_4.load_state_dict(torch.load(\"model_dnn_4.pt\"))\n",
      "/tmp/ipykernel_468744/811293303.py:3: FutureWarning: You are using `torch.load` with `weights_only=False` (the current default value), which uses the default pickle module implicitly. It is possible to construct malicious pickle data which will execute arbitrary code during unpickling (See https://github.com/pytorch/pytorch/blob/main/SECURITY.md#untrusted-models for more details). In a future release, the default value for `weights_only` will be flipped to `True`. This limits the functions that could be executed during unpickling. Arbitrary objects will no longer be allowed to be loaded via this mode unless they are explicitly allowlisted by the user via `torch.serialization.add_safe_globals`. We recommend you start setting `weights_only=True` for any use case where you don't have full control of the loaded file. Please open an issue on GitHub for any issues related to this experimental feature.\n",
      "  model_cnn.load_state_dict(torch.load(\"model_cnn.pt\"))\n"
     ]
    },
    {
     "data": {
      "text/plain": [
       "<All keys matched successfully>"
      ]
     },
     "execution_count": 4,
     "metadata": {},
     "output_type": "execute_result"
    }
   ],
   "source": [
    "model_dnn_2.load_state_dict(torch.load(\"model_dnn_2.pt\"))\n",
    "model_dnn_4.load_state_dict(torch.load(\"model_dnn_4.pt\"))\n",
    "model_cnn.load_state_dict(torch.load(\"model_cnn.pt\"))"
   ]
  },
  {
   "cell_type": "markdown",
   "id": "1709f934",
   "metadata": {},
   "source": [
    "对于一个神经网络，可以采用如下方式进行定义：\n",
    "$$\n",
    "\\begin{align}\n",
    "z_1 &= x \\notag \\\\\n",
    "z_{i+1} &= f_i(W_i z_i + b_i), i = 1, 2, \\cdots, d \\notag \\\\\n",
    "h_\\theta(x) &= z_{d+1} \\notag\n",
    "\\end{align}\n",
    "$$\n",
    "通过上述递推关系，描述了神经网络从输入 $x$ 开始，历经一系列由权重矩阵 $W_i$、偏置向量 $b_i$ 以及激活函数 $f_i$ 共同作用的计算过程，最终输出 $h_\\theta(x)$ 作为网络对输入 $x$ 的处理结果。"
   ]
  },
  {
   "cell_type": "markdown",
   "id": "d71c9c28",
   "metadata": {},
   "source": [
    "首先考虑如何将有针对性的对抗性攻击构建为一个优化问题。有针对性的攻击将尝试最小化真实类别 $h_\\theta(x+\\delta, y)$ 的对数几率，并最大化目标类别 $h_\\theta(x+\\delta, y_{targ})$ 的对数几率；\n",
    "\n",
    "以 Relu 作为网络激活函数，我们可以将目标写成如下带有约束的优化问题：\n",
    "\n",
    "$$\n",
    "\\begin{align}\n",
    "\\arg \\min _{z_1, z_2, \\cdots, z_{d+1}} \\; &(e_y - e_{y_{targ}})^T z_{d+1} \\notag \\\\\n",
    "subject \\; \\; to \\; &||z_1 - x||_\\infty \\le \\epsilon \\notag \\\\\n",
    "&z_{i+1} = max \\{0, W_i z_i + b_i\\}, i = 1, 2, \\cdots, d-1 \\notag \\\\\n",
    "&z_{d+1} = W_d z_d + b_d \\notag\n",
    "\\end{align}\n",
    "$$"
   ]
  },
  {
   "cell_type": "markdown",
   "id": "9b769e30",
   "metadata": {},
   "source": [
    "这里的 $e_i$ 表示单位基，即一个在第 $i$ 个位置为 1，其他位置为 0 的向量。\n",
    "\n",
    "我们去掉了显式的 $\\delta$ 项，采用了一个对 $z_1$ （即第一层的对抗样本输入）在原始输入 $x$ 的 $\\epsilon$ 范围内的约束。"
   ]
  },
  {
   "cell_type": "markdown",
   "id": "54ef21f6",
   "metadata": {},
   "source": [
    "这里的优化问题的表述并不是求解器实际能解决的形式，因为涉及到最大运算符的等式约束，它既不是凸约束，也不是大多数优化求解器原生处理的约束。\n",
    "\n",
    "为了能将其表述为能被求解器解决的问题，我们需要将其转化为另一种形式：二进制混合整数线性规划（MILP）。\n",
    "> 二进制 MILP 是一个优化问题，由线性目标、线性等式和不等式约束以及对一些变量 $z_i \\in \\{0, 1\\}$的二进制约束组成。一般来说，MILP是 NP 难题，所以不期望将其扩展到现代神经网络规模，但对于小问题，MILP是一个广泛研究的领域，并且存在比简单地尝试所有二进制变量设置的朴素暴力方法更具可扩展性的方法。"
   ]
  },
  {
   "cell_type": "markdown",
   "id": "e892e00a",
   "metadata": {},
   "source": [
    "假设有 $z_{i+1} = max\\{0, W_i z_i + b_i\\}$ 可能取值的一些已知上下界（由 $l_i$ 和 $u_i$ 表示），我们引入一组与 $z_{i+1}$ 形状相同的二进制变量 $v_i$ ，我们可用以下不等式来等价于约束条件 $z_{i+1} = max\\{0, W_i z_i + b_i\\}$：\n",
    "\n",
    "$$\n",
    "\\begin{align}\n",
    "z_{i+1} &\\ge W_i z_i + b_i \\notag \\\\\n",
    "z_{i+1} &\\ge 0 \\notag \\\\\n",
    "u_i \\cdot v_i &\\ge z_{i+1} \\notag \\\\\n",
    "W_i z_i + b_i &\\ge z_{i+1} + (1 - v_i) l_i \\notag \\\\\n",
    "v_i &\\in \\{0, 1\\}^{|v_i|} \\notag\n",
    "\\end{align}\n",
    "$$"
   ]
  },
  {
   "cell_type": "code",
   "execution_count": null,
   "id": "d00003d7",
   "metadata": {},
   "outputs": [],
   "source": []
  },
  {
   "cell_type": "code",
   "execution_count": 5,
   "id": "7dc983b5",
   "metadata": {},
   "outputs": [],
   "source": [
    "def bound_propagation(model, initial_bound):\n",
    "    l, u = initial_bound\n",
    "    bounds = []\n",
    "    \n",
    "    for layer in model:\n",
    "        if isinstance(layer, Flatten):\n",
    "            l_ = Flatten()(l)\n",
    "            u_ = Flatten()(u)\n",
    "        elif isinstance(layer, nn.Linear):\n",
    "            l_ = (layer.weight.clamp(min=0) @ l.t() + layer.weight.clamp(max=0) @ u.t() \n",
    "                  + layer.bias[:,None]).t()\n",
    "            u_ = (layer.weight.clamp(min=0) @ u.t() + layer.weight.clamp(max=0) @ l.t() \n",
    "                  + layer.bias[:,None]).t()\n",
    "        elif isinstance(layer, nn.Conv2d):\n",
    "            l_ = (nn.functional.conv2d(l, layer.weight.clamp(min=0), bias=None, \n",
    "                                       stride=layer.stride, padding=layer.padding,\n",
    "                                       dilation=layer.dilation, groups=layer.groups) +\n",
    "                  nn.functional.conv2d(u, layer.weight.clamp(max=0), bias=None, \n",
    "                                       stride=layer.stride, padding=layer.padding,\n",
    "                                       dilation=layer.dilation, groups=layer.groups) +\n",
    "                  layer.bias[None,:,None,None])\n",
    "            \n",
    "            u_ = (nn.functional.conv2d(u, layer.weight.clamp(min=0), bias=None, \n",
    "                                       stride=layer.stride, padding=layer.padding,\n",
    "                                       dilation=layer.dilation, groups=layer.groups) +\n",
    "                  nn.functional.conv2d(l, layer.weight.clamp(max=0), bias=None, \n",
    "                                       stride=layer.stride, padding=layer.padding,\n",
    "                                       dilation=layer.dilation, groups=layer.groups) + \n",
    "                  layer.bias[None,:,None,None])\n",
    "            \n",
    "        elif isinstance(layer, nn.ReLU):\n",
    "            l_ = l.clamp(min=0)\n",
    "            u_ = u.clamp(min=0)\n",
    "            \n",
    "        bounds.append((l_, u_))\n",
    "        l,u = l_, u_\n",
    "    return bounds"
   ]
  },
  {
   "cell_type": "code",
   "execution_count": 35,
   "id": "5cf3868d",
   "metadata": {},
   "outputs": [
    {
     "name": "stdout",
     "output_type": "stream",
     "text": [
      "lower bound:  [-2855.4631 -2571.039  -3696.8293 -2543.9111 -2867.7935 -2444.5105\n",
      " -2912.023  -2475.7058 -2545.2742 -2578.3105]\n",
      "upper bound:  [2186.5938 2673.1711 2457.4033 2726.826  2844.7742 3080.524  2242.0413\n",
      " 3211.849  3151.519  2782.5747]\n"
     ]
    }
   ],
   "source": [
    "epsilon = 0.1\n",
    "bounds = bound_propagation(model_cnn, ((X - epsilon).clamp(min=0), (X + epsilon).clamp(max=1)))\n",
    "print(\"lower bound: \", bounds[-1][0][0].detach().cpu().numpy())\n",
    "print(\"upper bound: \", bounds[-1][1][0].detach().cpu().numpy())"
   ]
  },
  {
   "cell_type": "code",
   "execution_count": 36,
   "id": "a0edfac2",
   "metadata": {},
   "outputs": [
    {
     "name": "stdout",
     "output_type": "stream",
     "text": [
      "lower bound:  [-20.560423 -23.64547  -17.535437 -16.681828 -32.128284 -22.724869\n",
      " -30.491901 -15.737773 -23.58483  -25.076939]\n",
      "upper bound:  [19.24827  14.374581 25.719341 29.486425 18.704813 28.60849  11.866371\n",
      " 32.1335   23.711868 25.589342]\n"
     ]
    }
   ],
   "source": [
    "epsilon = 0.1\n",
    "bounds = bound_propagation(model_dnn_2, ((X - epsilon).clamp(min=0), (X + epsilon).clamp(max=1)))\n",
    "print(\"lower bound: \", bounds[-1][0][0].detach().cpu().numpy())\n",
    "print(\"upper bound: \", bounds[-1][1][0].detach().cpu().numpy())"
   ]
  },
  {
   "cell_type": "code",
   "execution_count": 37,
   "id": "180c342a",
   "metadata": {},
   "outputs": [
    {
     "name": "stdout",
     "output_type": "stream",
     "text": [
      "lower bound:  [-220.44913 -206.34962 -187.77368 -221.78787 -233.58583 -179.13441\n",
      " -244.60938 -202.73329 -207.64474 -204.78436]\n",
      "upper bound:  [192.9366  211.39684 180.75684 212.42493 194.95622 216.43507 192.93724\n",
      " 239.62477 209.22014 220.56755]\n"
     ]
    }
   ],
   "source": [
    "epsilon = 0.1\n",
    "bounds = bound_propagation(model_dnn_4, ((X - epsilon).clamp(min=0), (X + epsilon).clamp(max=1)))\n",
    "print(\"lower bound: \", bounds[-1][0][0].detach().cpu().numpy())\n",
    "print(\"upper bound: \", bounds[-1][1][0].detach().cpu().numpy())"
   ]
  },
  {
   "cell_type": "code",
   "execution_count": 38,
   "id": "c3e2cc5d",
   "metadata": {},
   "outputs": [],
   "source": [
    "import cvxpy as cp\n",
    "\n",
    "def form_milp(model, c, initial_bounds, bounds):\n",
    "    linear_layers = [(layer, bound) for layer, bound in zip(model,bounds) if isinstance(layer, nn.Linear)]\n",
    "    d = len(linear_layers)-1\n",
    "    \n",
    "    # create cvxpy variables\n",
    "    z = ([cp.Variable(layer.in_features) for layer, _ in linear_layers] + \n",
    "         [cp.Variable(linear_layers[-1][0].out_features)])\n",
    "    v = [cp.Variable(layer.out_features, boolean=True) for layer, _ in linear_layers[:-1]]\n",
    "    \n",
    "    # extract relevant matrices\n",
    "    W = [layer.weight.detach().cpu().numpy() for layer,_ in linear_layers]\n",
    "    b = [layer.bias.detach().cpu().numpy() for layer,_ in linear_layers]\n",
    "    l = [l[0].detach().cpu().numpy() for _, (l,_) in linear_layers]\n",
    "    u = [u[0].detach().cpu().numpy() for _, (_,u) in linear_layers]\n",
    "    l0 = initial_bound[0][0].view(-1).detach().cpu().numpy()\n",
    "    u0 = initial_bound[1][0].view(-1).detach().cpu().numpy()\n",
    "    \n",
    "    # add ReLU constraints\n",
    "    constraints = []\n",
    "    for i in range(len(linear_layers)-1):\n",
    "        constraints += [z[i+1] >= W[i] @ z[i] + b[i], \n",
    "                        z[i+1] >= 0,\n",
    "                        cp.multiply(v[i], u[i]) >= z[i+1],\n",
    "                        W[i] @ z[i] + b[i] >= z[i+1] + cp.multiply((1-v[i]), l[i])]\n",
    "    \n",
    "    # final linear constraint\n",
    "    constraints += [z[d+1] == W[d] @ z[d] + b[d]]\n",
    "    \n",
    "    # initial bound constraints\n",
    "    constraints += [z[0] >= l0, z[0] <= u0]\n",
    "    \n",
    "    return cp.Problem(cp.Minimize(c @ z[d+1]), constraints), (z, v)"
   ]
  },
  {
   "cell_type": "code",
   "execution_count": 39,
   "id": "b7a29807",
   "metadata": {},
   "outputs": [],
   "source": [
    "model_small = nn.Sequential(Flatten(), nn.Linear(784,50), nn.ReLU(), \n",
    "                            nn.Linear(50,20), nn.ReLU(), \n",
    "                            nn.Linear(20,10)).to(device)"
   ]
  },
  {
   "cell_type": "code",
   "execution_count": 40,
   "id": "890cc1da",
   "metadata": {},
   "outputs": [
    {
     "name": "stdout",
     "output_type": "stream",
     "text": [
      "0.217417\t0.696471\t0.092200\t0.311858\n",
      "0.079217\t0.271803\t0.064200\t0.214817\n",
      "0.057433\t0.195419\t0.049800\t0.161164\n",
      "0.045467\t0.154868\t0.043500\t0.142079\n",
      "0.038000\t0.127819\t0.038100\t0.124362\n",
      "0.032833\t0.109174\t0.034000\t0.107887\n",
      "0.028600\t0.095284\t0.032400\t0.103150\n",
      "0.025233\t0.085190\t0.032000\t0.106021\n",
      "0.023100\t0.075667\t0.029200\t0.092511\n",
      "0.020433\t0.069079\t0.031100\t0.105078\n"
     ]
    }
   ],
   "source": [
    "# train model and save to disk\n",
    "opt = optim.SGD(model_small.parameters(), lr=1e-1)\n",
    "for _ in range(10):\n",
    "    train_err, train_loss = epoch(train_loader, model_small, opt)\n",
    "    test_err, test_loss = epoch(test_loader, model_small)\n",
    "    print(*(\"{:.6f}\".format(i) for i in (train_err, train_loss, test_err, test_loss)), sep=\"\\t\")\n",
    "torch.save(model_small.state_dict(), \"model_small.pt\")"
   ]
  },
  {
   "cell_type": "code",
   "execution_count": 41,
   "id": "505b8ab6",
   "metadata": {},
   "outputs": [
    {
     "name": "stderr",
     "output_type": "stream",
     "text": [
      "/tmp/ipykernel_183505/3693529935.py:2: FutureWarning: You are using `torch.load` with `weights_only=False` (the current default value), which uses the default pickle module implicitly. It is possible to construct malicious pickle data which will execute arbitrary code during unpickling (See https://github.com/pytorch/pytorch/blob/main/SECURITY.md#untrusted-models for more details). In a future release, the default value for `weights_only` will be flipped to `True`. This limits the functions that could be executed during unpickling. Arbitrary objects will no longer be allowed to be loaded via this mode unless they are explicitly allowlisted by the user via `torch.serialization.add_safe_globals`. We recommend you start setting `weights_only=True` for any use case where you don't have full control of the loaded file. Please open an issue on GitHub for any issues related to this experimental feature.\n",
      "  model_small.load_state_dict(torch.load(\"model_small.pt\"))\n"
     ]
    },
    {
     "data": {
      "text/plain": [
       "<All keys matched successfully>"
      ]
     },
     "execution_count": 41,
     "metadata": {},
     "output_type": "execute_result"
    }
   ],
   "source": [
    "# load model from disk\n",
    "model_small.load_state_dict(torch.load(\"model_small.pt\"))"
   ]
  },
  {
   "cell_type": "code",
   "execution_count": 42,
   "id": "640efb74",
   "metadata": {},
   "outputs": [],
   "source": [
    "initial_bound = ((X[0:1] - epsilon).clamp(min=0), (X[0:1] + epsilon).clamp(max=1))\n",
    "bounds = bound_propagation(model_small, initial_bound)\n",
    "c = np.zeros(10)\n",
    "c[y[0].item()] = 1\n",
    "c[2] = -1\n",
    "\n",
    "prob, (z, v) = form_milp(model_small, c, initial_bound, bounds)"
   ]
  },
  {
   "cell_type": "code",
   "execution_count": 43,
   "id": "ed27fedc",
   "metadata": {},
   "outputs": [
    {
     "name": "stdout",
     "output_type": "stream",
     "text": [
      "===============================================================================\n",
      "                                     CVXPY                                     \n",
      "                                     v1.5.2                                    \n",
      "===============================================================================\n",
      "(CVXPY) Apr 12 06:26:38 PM: Your problem has 934 variables, 1858 constraints, and 0 parameters.\n",
      "(CVXPY) Apr 12 06:26:38 PM: It is compliant with the following grammars: DCP, DQCP\n",
      "(CVXPY) Apr 12 06:26:38 PM: (If you need to solve this problem multiple times, but with different data, consider using parameters.)\n",
      "(CVXPY) Apr 12 06:26:38 PM: CVXPY will first compile your problem; then, it will invoke a numerical solver to obtain a solution.\n",
      "(CVXPY) Apr 12 06:26:38 PM: Your problem is compiled with the CPP canonicalization backend.\n",
      "-------------------------------------------------------------------------------\n",
      "                                  Compilation                                  \n",
      "-------------------------------------------------------------------------------\n",
      "(CVXPY) Apr 12 06:26:38 PM: Compiling problem (target solver=GUROBI).\n",
      "(CVXPY) Apr 12 06:26:38 PM: Reduction chain: CvxAttr2Constr -> Qp2SymbolicQp -> QpMatrixStuffing -> GUROBI\n",
      "(CVXPY) Apr 12 06:26:38 PM: Applying reduction CvxAttr2Constr\n",
      "(CVXPY) Apr 12 06:26:38 PM: Applying reduction Qp2SymbolicQp\n",
      "(CVXPY) Apr 12 06:26:38 PM: Applying reduction QpMatrixStuffing\n",
      "(CVXPY) Apr 12 06:26:38 PM: Applying reduction GUROBI\n",
      "(CVXPY) Apr 12 06:26:38 PM: Finished problem compilation (took 3.151e-02 seconds).\n",
      "-------------------------------------------------------------------------------\n",
      "                                Numerical solver                               \n",
      "-------------------------------------------------------------------------------\n",
      "(CVXPY) Apr 12 06:26:38 PM: Invoking solver GUROBI  to obtain a solution.\n",
      "Restricted license - for non-production use only - expires 2025-11-24\n",
      "Set parameter QCPDual to value 1\n",
      "Gurobi Optimizer version 11.0.3 build v11.0.3rc0 (linux64 - \"Ubuntu 22.04.5 LTS\")\n",
      "\n",
      "CPU model: Intel(R) Core(TM) i9-14900K, instruction set [SSE2|AVX|AVX2]\n",
      "Thread count: 32 physical cores, 32 logical processors, using up to 32 threads\n",
      "\n",
      "Optimize a model with 1858 rows, 934 columns and 82598 nonzeros\n",
      "Model fingerprint: 0xe42efadb\n",
      "Variable types: 864 continuous, 70 integer (70 binary)\n",
      "Coefficient statistics:\n",
      "  Matrix range     [1e-07, 2e+01]\n",
      "  Objective range  [1e+00, 1e+00]\n",
      "  Bounds range     [1e+00, 1e+00]\n",
      "  RHS range        [3e-03, 1e+01]\n",
      "\n",
      "No start values specified in MIP start\n",
      "\n",
      "Presolve removed 1672 rows and 24 columns\n",
      "Presolve time: 0.14s\n",
      "Presolved: 186 rows, 910 columns, 69568 nonzeros\n",
      "Variable types: 850 continuous, 60 integer (60 binary)\n",
      "\n",
      "Root relaxation: objective -3.044547e+01, 146 iterations, 0.00 seconds (0.01 work units)\n",
      "Another try with MIP start\n",
      "\n",
      "    Nodes    |    Current Node    |     Objective Bounds      |     Work\n",
      " Expl Unexpl |  Obj  Depth IntInf | Incumbent    BestBd   Gap | It/Node Time\n",
      "\n",
      "     0     0  -30.44547    0   28          -  -30.44547      -     -    0s\n",
      "H    0     0                      -2.8877460  -30.44547   954%     -    0s\n",
      "     0     0  -26.34230    0   39   -2.88775  -26.34230   812%     -    0s\n",
      "     0     0  -21.34870    0   40   -2.88775  -21.34870   639%     -    0s\n",
      "     0     0  -21.34870    0   38   -2.88775  -21.34870   639%     -    0s\n",
      "     0     0  -14.02471    0   37   -2.88775  -14.02471   386%     -    0s\n",
      "     0     0  -13.82980    0   37   -2.88775  -13.82980   379%     -    0s\n",
      "     0     0  -13.09732    0   37   -2.88775  -13.09732   354%     -    0s\n",
      "H    0     0                      -2.8952099   -8.81280   204%     -    0s\n",
      "H    0     0                      -3.2259119   -8.81280   173%     -    0s\n",
      "     0     0   -8.81280    0   40   -3.22591   -8.81280   173%     -    0s\n",
      "     0     0   -8.17390    0   40   -3.22591   -8.17390   153%     -    0s\n",
      "     0     0   -7.98352    0   40   -3.22591   -7.98352   147%     -    0s\n",
      "     0     0   -5.33885    0   40   -3.22591   -5.33885  65.5%     -    0s\n",
      "     0     0   -4.76860    0   40   -3.22591   -4.76860  47.8%     -    0s\n",
      "     0     2   -4.76860    0   40   -3.22591   -4.76860  47.8%     -    0s\n",
      "\n",
      "Cutting planes:\n",
      "  Gomory: 4\n",
      "  MIR: 100\n",
      "  Flow cover: 22\n",
      "\n",
      "Explored 803 nodes (13089 simplex iterations) in 1.26 seconds (2.14 work units)\n",
      "Thread count was 32 (of 32 available processors)\n",
      "\n",
      "Solution count 3: -3.22591 -2.89521 -2.88775 \n",
      "No other solutions better than -3.22591\n",
      "\n",
      "Optimal solution found (tolerance 1.00e-04)\n",
      "Best objective -3.225911939123e+00, best bound -3.225911939123e+00, gap 0.0000%\n",
      "-------------------------------------------------------------------------------\n",
      "                                    Summary                                    \n",
      "-------------------------------------------------------------------------------\n",
      "(CVXPY) Apr 12 06:26:39 PM: Problem status: optimal\n",
      "(CVXPY) Apr 12 06:26:39 PM: Optimal value: -3.226e+00\n",
      "(CVXPY) Apr 12 06:26:39 PM: Compilation took 3.151e-02 seconds\n",
      "(CVXPY) Apr 12 06:26:39 PM: Solver (including time spent in interface) took 1.324e+00 seconds\n"
     ]
    },
    {
     "data": {
      "text/plain": [
       "-3.225911939123418"
      ]
     },
     "execution_count": 43,
     "metadata": {},
     "output_type": "execute_result"
    }
   ],
   "source": [
    "prob.solve(solver=cp.GUROBI, verbose=True)"
   ]
  },
  {
   "cell_type": "code",
   "execution_count": 44,
   "id": "354b5f51",
   "metadata": {},
   "outputs": [
    {
     "name": "stdout",
     "output_type": "stream",
     "text": [
      "Last layer values from MILP: [  2.81749204  -3.06013756  10.23443485   8.36046736 -10.22004589\n",
      "   0.21691574 -11.73774244   7.00852291   4.7999847   -3.26642365]\n"
     ]
    }
   ],
   "source": [
    "print(\"Last layer values from MILP:\", z[3].value)"
   ]
  },
  {
   "cell_type": "code",
   "execution_count": 45,
   "id": "a7cadcd1",
   "metadata": {},
   "outputs": [
    {
     "name": "stdout",
     "output_type": "stream",
     "text": [
      "Last layer from model: [  2.817492    -3.0601382   10.234435     8.360467   -10.220047\n",
      "   0.21691571 -11.737741     7.008521     4.799986    -3.266424  ]\n"
     ]
    }
   ],
   "source": [
    "print(\"Last layer from model:\", \n",
    "      model_small(torch.tensor(z[0].value).float().view(1,1,28,28).to(device))[0].detach().cpu().numpy())"
   ]
  },
  {
   "cell_type": "code",
   "execution_count": 46,
   "id": "1f54fee6",
   "metadata": {},
   "outputs": [
    {
     "data": {
      "text/plain": [
       "<matplotlib.image.AxesImage at 0x7f88401ba730>"
      ]
     },
     "execution_count": 46,
     "metadata": {},
     "output_type": "execute_result"
    },
    {
     "data": {
      "image/png": "[encoded data removed]",
      "text/plain": [
       "<Figure size 640x480 with 1 Axes>"
      ]
     },
     "metadata": {},
     "output_type": "display_data"
    }
   ],
   "source": [
    "plt.imshow(1-z[0].value.reshape(28,28), cmap=\"gray\")"
   ]
  },
  {
   "cell_type": "code",
   "execution_count": 47,
   "id": "a2e4abee",
   "metadata": {},
   "outputs": [
    {
     "name": "stdout",
     "output_type": "stream",
     "text": [
      "Targeted attack 0 objective: 8.084621471168452\n",
      "Targeted attack 1 objective: 12.975467614889116\n",
      "Targeted attack 2 objective: 3.16368559925143\n",
      "Targeted attack 3 objective: 2.4411197523280723\n",
      "Targeted attack 4 objective: 11.65788101861424\n",
      "Targeted attack 5 objective: 9.064827362176294\n",
      "Targeted attack 6 objective: 22.402332700312176\n",
      "Targeted attack 8 objective: 4.976967701637535\n",
      "Targeted attack 9 objective: 6.069808212270474\n"
     ]
    }
   ],
   "source": [
    "epsilon = 0.05\n",
    "initial_bound = ((X[0:1] - epsilon).clamp(min=0), (X[0:1] + epsilon).clamp(max=1))\n",
    "bounds = bound_propagation(model_small, initial_bound)\n",
    "\n",
    "for y_targ in range(10):\n",
    "    if y_targ != y[0].item():\n",
    "        c = np.eye(10)[y[0].item()] - np.eye(10)[y_targ]\n",
    "        prob, _ = form_milp(model_small, c, initial_bound, bounds)\n",
    "        print(\"Targeted attack {} objective: {}\".format(y_targ, prob.solve(solver=cp.GUROBI)))"
   ]
  },
  {
   "cell_type": "code",
   "execution_count": 48,
   "id": "ca96dfdd",
   "metadata": {},
   "outputs": [
    {
     "name": "stdout",
     "output_type": "stream",
     "text": [
      "Targeted attack 0 objective: 0.774900466111629\n",
      "Targeted attack 1 objective: 6.26327381581288\n",
      "Targeted attack 2 objective: -3.225911939123418\n",
      "Targeted attack 3 objective: -4.818509852618486\n",
      "Targeted attack 4 objective: 5.186564397880513\n",
      "Targeted attack 5 objective: 1.9734883186947645\n",
      "Targeted attack 6 objective: 13.013704428222562\n",
      "Targeted attack 8 objective: -2.256757870740434\n",
      "Targeted attack 9 objective: 0.1290756386361407\n"
     ]
    }
   ],
   "source": [
    "epsilon = 0.1\n",
    "initial_bound = ((X[0:1] - epsilon).clamp(min=0), (X[0:1] + epsilon).clamp(max=1))\n",
    "bounds = bound_propagation(model_small, initial_bound)\n",
    "\n",
    "for y_targ in range(10):\n",
    "    if y_targ != y[0].item():\n",
    "        c = np.eye(10)[y[0].item()] - np.eye(10)[y_targ]\n",
    "        prob, _ = form_milp(model_small, c, initial_bound, bounds)\n",
    "        print(\"Targeted attack {} objective: {}\".format(y_targ, prob.solve(solver=cp.GUROBI)))"
   ]
  },
  {
   "cell_type": "code",
   "execution_count": 49,
   "id": "131bc5f3",
   "metadata": {},
   "outputs": [],
   "source": [
    "def form_lp(model, c, initial_bounds, bounds):\n",
    "    linear_layers = [(layer, bound) for layer, bound in zip(model,bounds) if isinstance(layer, nn.Linear)]\n",
    "    d = len(linear_layers)-1\n",
    "    \n",
    "    # create cvxpy variables\n",
    "    z = ([cp.Variable(layer.in_features) for layer, _ in linear_layers] + \n",
    "         [cp.Variable(linear_layers[-1][0].out_features)])\n",
    "    v = [cp.Variable(layer.out_features) for layer, _ in linear_layers[:-1]]\n",
    "    \n",
    "    # extract relevant matrices\n",
    "    W = [layer.weight.detach().cpu().numpy() for layer,_ in linear_layers]\n",
    "    b = [layer.bias.detach().cpu().numpy() for layer,_ in linear_layers]\n",
    "    l = [l[0].detach().cpu().numpy() for _, (l,_) in linear_layers]\n",
    "    u = [u[0].detach().cpu().numpy() for _, (_,u) in linear_layers]\n",
    "    l0 = initial_bound[0][0].view(-1).detach().cpu().numpy()\n",
    "    u0 = initial_bound[1][0].view(-1).detach().cpu().numpy()\n",
    "    \n",
    "    # add ReLU constraints\n",
    "    constraints = []\n",
    "    for i in range(len(linear_layers)-1):\n",
    "        constraints += [z[i+1] >= W[i] @ z[i] + b[i], \n",
    "                        z[i+1] >= 0,\n",
    "                        cp.multiply(v[i], u[i]) >= z[i+1],\n",
    "                        W[i] @ z[i] + b[i] >= z[i+1] + cp.multiply((1-v[i]), l[i]),\n",
    "                        v[i] >= 0,\n",
    "                        v[i] <= 1]\n",
    "    \n",
    "    # final linear constraint\n",
    "    constraints += [z[d+1] == W[d] @ z[d] + b[d]]\n",
    "    \n",
    "    # initial bound constraints\n",
    "    constraints += [z[0] >= l0, z[0] <= u0]\n",
    "    \n",
    "    return cp.Problem(cp.Minimize(c @ z[d+1]), constraints), (z, v)"
   ]
  },
  {
   "cell_type": "code",
   "execution_count": 51,
   "id": "c9c4008c",
   "metadata": {},
   "outputs": [
    {
     "name": "stdout",
     "output_type": "stream",
     "text": [
      "Objective value: -30.445467280811798\n",
      "Last layer from relaxation: [ 10.61930755  -8.00783511  24.99608703   7.27186848 -14.09313748\n",
      "   0.36844093   0.42339702  -5.44938025   6.15953599 -12.38435955]\n"
     ]
    }
   ],
   "source": [
    "initial_bound = ((X[0:1] - epsilon).clamp(min=0), (X[0:1] + epsilon).clamp(max=1))\n",
    "bounds = bound_propagation(model_small, initial_bound)\n",
    "c = np.eye(10)[y[0].item()] - np.eye(10)[2]\n",
    "\n",
    "prob, (z, v) = form_lp(model_small, c, initial_bound, bounds)\n",
    "print(\"Objective value:\", prob.solve(solver=cp.GUROBI))\n",
    "print(\"Last layer from relaxation:\", z[3].value)"
   ]
  },
  {
   "cell_type": "code",
   "execution_count": 52,
   "id": "a29e4bfb",
   "metadata": {},
   "outputs": [
    {
     "data": {
      "text/plain": [
       "<matplotlib.image.AxesImage at 0x7f88400e7dc0>"
      ]
     },
     "execution_count": 52,
     "metadata": {},
     "output_type": "execute_result"
    },
    {
     "data": {
      "image/png": "[encoded data removed]",
      "text/plain": [
       "<Figure size 640x480 with 1 Axes>"
      ]
     },
     "metadata": {},
     "output_type": "display_data"
    }
   ],
   "source": [
    "plt.imshow(1-z[0].value.reshape(28,28), cmap=\"gray\")"
   ]
  },
  {
   "cell_type": "code",
   "execution_count": 53,
   "id": "9c8d7365",
   "metadata": {},
   "outputs": [
    {
     "name": "stdout",
     "output_type": "stream",
     "text": [
      "Last layer from model: [ 1.7471993  -2.5636814   8.261734    6.485653   -7.659953   -0.41698933\n",
      " -9.980528    6.367086    4.2566605  -2.2540815 ]\n"
     ]
    }
   ],
   "source": [
    "print(\"Last layer from model:\", \n",
    "      model_small(torch.tensor(z[0].value).float().view(1,1,28,28).to(device))[0].detach().cpu().numpy())"
   ]
  },
  {
   "cell_type": "code",
   "execution_count": 60,
   "id": "4e593e72",
   "metadata": {},
   "outputs": [
    {
     "name": "stdout",
     "output_type": "stream",
     "text": [
      "Targeted attack 0 objective: 9.18712567594846\n",
      "Targeted attack 1 objective: 14.61376613199486\n",
      "Targeted attack 2 objective: 4.746316607451355\n",
      "Targeted attack 3 objective: 3.8486686291440293\n",
      "Targeted attack 4 objective: 14.239985579120846\n",
      "Targeted attack 5 objective: 9.830999959024231\n",
      "Targeted attack 6 objective: 23.256838783453667\n",
      "Targeted attack 8 objective: 7.258987973138355\n",
      "Targeted attack 9 objective: 7.865875866040316\n"
     ]
    }
   ],
   "source": [
    "epsilon = 0.02\n",
    "initial_bound = ((X[0:1] - epsilon).clamp(min=0), (X[0:1] + epsilon).clamp(max=1))\n",
    "bounds = bound_propagation(model_small, initial_bound)\n",
    "\n",
    "for y_targ in range(10):\n",
    "    if y_targ != y[0].item():\n",
    "        c = np.eye(10)[y[0].item()] - np.eye(10)[y_targ]\n",
    "        prob, _ = form_lp(model_small, c, initial_bound, bounds)\n",
    "        print(\"Targeted attack {} objective: {}\".format(y_targ, prob.solve(solver=cp.GUROBI)))"
   ]
  },
  {
   "cell_type": "code",
   "execution_count": 63,
   "id": "069eb78c",
   "metadata": {},
   "outputs": [
    {
     "name": "stdout",
     "output_type": "stream",
     "text": [
      "Targeted attack 0 objective: 4.9517729787365194\n",
      "Targeted attack 1 objective: 3.874218213776362\n",
      "Targeted attack 2 objective: 1.6757972500063651\n",
      "Targeted attack 3 objective: -2.2969073548126184\n",
      "Targeted attack 4 objective: 12.951596991011728\n",
      "Targeted attack 5 objective: 0.140134351077827\n",
      "Targeted attack 6 objective: 13.050637176316002\n",
      "Targeted attack 8 objective: -1.4000302652154044\n",
      "Targeted attack 9 objective: -2.093556869235737\n"
     ]
    }
   ],
   "source": [
    "epsilon = 0.01\n",
    "initial_bound = ((X[0:1] - epsilon).clamp(min=0), (X[0:1] + epsilon).clamp(max=1))\n",
    "bounds = bound_propagation(model_dnn_4, initial_bound)\n",
    "\n",
    "for y_targ in range(10):\n",
    "    if y_targ != y[0].item():\n",
    "        c = np.eye(10)[y[0].item()] - np.eye(10)[y_targ]\n",
    "        prob, _ = form_lp(model_dnn_4, c, initial_bound, bounds)\n",
    "        print(\"Targeted attack {} objective: {}\".format(y_targ, prob.solve(solver=cp.ECOS)))"
   ]
  },
  {
   "cell_type": "code",
   "execution_count": 64,
   "id": "9ce07599",
   "metadata": {},
   "outputs": [],
   "source": [
    "def interval_based_bound(model, c, bounds):\n",
    "    # requires last layer to be linear\n",
    "    cW = c.t() @ model[-1].weight\n",
    "    cb = c.t() @ model[-1].bias\n",
    "    l,u = bounds[-2]\n",
    "    return (cW.clamp(min=0) @ l.t() + cW.clamp(max=0) @ u.t() + cb[:,None]).t()  "
   ]
  },
  {
   "cell_type": "code",
   "execution_count": 65,
   "id": "bed57c43",
   "metadata": {},
   "outputs": [
    {
     "name": "stdout",
     "output_type": "stream",
     "text": [
      "[[-5.2146845  0.9834416 -8.95515   -9.430425  -1.6530738 -5.675324\n",
      "   6.744165   0.        -9.852957  -7.0858884]]\n"
     ]
    }
   ],
   "source": [
    "epsilon = 0.02\n",
    "initial_bound = ((X[0:1] - epsilon).clamp(min=0), (X[0:1] + epsilon).clamp(max=1))\n",
    "bounds = bound_propagation(model_small, initial_bound)\n",
    "C = -torch.eye(10).to(device)\n",
    "C[y[0].item(),:] += 1\n",
    "\n",
    "print(interval_based_bound(model_small, C, bounds).detach().cpu().numpy())"
   ]
  }
 ],
 "metadata": {
  "kernelspec": {
   "display_name": "TA",
   "language": "python",
   "name": "python3"
  },
  "language_info": {
   "codemirror_mode": {
    "name": "ipython",
    "version": 3
   },
   "file_extension": ".py",
   "mimetype": "text/x-python",
   "name": "python",
   "nbconvert_exporter": "python",
   "pygments_lexer": "ipython3",
   "version": "3.8.12"
  }
 },
 "nbformat": 4,
 "nbformat_minor": 5
}
