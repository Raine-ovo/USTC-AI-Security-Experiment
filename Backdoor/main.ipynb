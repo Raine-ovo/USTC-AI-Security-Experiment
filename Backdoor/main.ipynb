{
 "cells": [
  {
   "cell_type": "markdown",
   "id": "a2fcc646",
   "metadata": {},
   "source": [
    "# 0. 课程前言\n",
    "此为 <<人工智能安全>> 课程第四部分: 后门攻击实验部分.\n",
    "\n",
    "与 **对抗攻击（Adversarial Attack）** 直接干扰模型推理阶段不同， **后门攻击（Backdoor Attack）** 的攻击行为主要发生在模型预训练或微调阶段，攻击者往往通过对训练数据进行投毒、直接篡改模型参数等手段，将后门触发器植入模型之中。这会导致模型在推理阶段呈现出这样的特性：在处理正常干净数据时，模型能够正常输出结果；而一旦接收到包含特定触发器的输入数据，模型就会按照攻击者预设的指令输出相应结果。\n",
    "\n",
    "在本次实验中，我们将探究后门攻击的两种关键方式 —— 数据投毒和模型编辑，同时学习针对后门攻击的防御策略，包括如何检测攻击以及净化受污染的数据和模型。"
   ]
  },
  {
   "cell_type": "markdown",
   "id": "e4240d21",
   "metadata": {},
   "source": [
    "# 1. 训练准备"
   ]
  },
  {
   "cell_type": "code",
   "execution_count": 5,
   "id": "10405d51",
   "metadata": {},
   "outputs": [],
   "source": [
    "import os\n",
    "import matplotlib.pyplot as plt\n",
    "import numpy as np\n",
    "\n",
    "import torch\n",
    "import torch.nn as nn\n",
    "import torch.nn.functional as F\n",
    "from torch.utils.data import DataLoader\n",
    "import torch.utils.data as data \n",
    "\n",
    "import torchvision\n",
    "from torchvision import transforms\n",
    "\n",
    "\n",
    "device = torch.device(\"cuda\" if torch.cuda.is_available() else \"cpu\")\n",
    "device\n",
    "\n",
    "# CUDNN 是一个用于GPU加速库\n",
    "torch.backends.cudnn.deterministic = True #设置True以使其在加速时选择固定的操作，使实验具有复现性\n",
    "torch.backends.cudnn.benchmark = False #设置False以使其在加速时选择固定的操作，使实验具有复现性"
   ]
  },
  {
   "cell_type": "markdown",
   "id": "549e9cb5",
   "metadata": {},
   "source": [
    "本次实验采用 MNIST 数据集作为训练模型的数据来源。若同学们对此感兴趣，也可以尝试使用 CIFAR-10 等其他数据集开展相关实践探索。"
   ]
  },
  {
   "cell_type": "code",
   "execution_count": 6,
   "id": "82630733",
   "metadata": {},
   "outputs": [],
   "source": [
    "transforms = transforms.Compose([\n",
    "    transforms.ToTensor(),\n",
    "])\n",
    "\n",
    "# 下载 MNIST 数据集\n",
    "MNIST_train_set = torchvision.datasets.MNIST(root='./data', train=True, download=True, transform=transforms)\n",
    "MNIST_test_set = torchvision.datasets.MNIST(root='./data', train=True, download=False, transform=transforms)\n",
    "\n",
    "# 设定数据迭代器\n",
    "train_loader = DataLoader(MNIST_train_set, batch_size=64, shuffle=True)\n",
    "test_loader = DataLoader(MNIST_test_set, batch_size=64, shuffle=False)"
   ]
  },
  {
   "cell_type": "markdown",
   "id": "4fcb1546",
   "metadata": {},
   "source": [
    "定义一个简单的深度神经网络模型"
   ]
  },
  {
   "cell_type": "code",
   "execution_count": 9,
   "id": "fb82aa70",
   "metadata": {},
   "outputs": [
    {
     "ename": "RuntimeError",
     "evalue": "CUDA error: out of memory\nCUDA kernel errors might be asynchronously reported at some other API call, so the stacktrace below might be incorrect.\nFor debugging consider passing CUDA_LAUNCH_BLOCKING=1\nCompile with `TORCH_USE_CUDA_DSA` to enable device-side assertions.\n",
     "output_type": "error",
     "traceback": [
      "\u001b[0;31m---------------------------------------------------------------------------\u001b[0m",
      "\u001b[0;31mRuntimeError\u001b[0m                              Traceback (most recent call last)",
      "Cell \u001b[0;32mIn[9], line 5\u001b[0m\n\u001b[1;32m      2\u001b[0m torch\u001b[38;5;241m.\u001b[39mmanual_seed(\u001b[38;5;241m0\u001b[39m)\n\u001b[1;32m      4\u001b[0m \u001b[38;5;66;03m# 卷积神经网络\u001b[39;00m\n\u001b[0;32m----> 5\u001b[0m badnets_model \u001b[38;5;241m=\u001b[39m \u001b[43mnn\u001b[49m\u001b[38;5;241;43m.\u001b[39;49m\u001b[43mSequential\u001b[49m\u001b[43m(\u001b[49m\u001b[43mnn\u001b[49m\u001b[38;5;241;43m.\u001b[39;49m\u001b[43mConv2d\u001b[49m\u001b[43m(\u001b[49m\u001b[38;5;241;43m1\u001b[39;49m\u001b[43m,\u001b[49m\u001b[43m \u001b[49m\u001b[38;5;241;43m32\u001b[39;49m\u001b[43m,\u001b[49m\u001b[43m \u001b[49m\u001b[38;5;241;43m5\u001b[39;49m\u001b[43m)\u001b[49m\u001b[43m,\u001b[49m\u001b[43m \u001b[49m\u001b[43mnn\u001b[49m\u001b[38;5;241;43m.\u001b[39;49m\u001b[43mReLU\u001b[49m\u001b[43m(\u001b[49m\u001b[43m)\u001b[49m\u001b[43m,\u001b[49m\n\u001b[1;32m      6\u001b[0m \u001b[43m                \u001b[49m\u001b[43mnn\u001b[49m\u001b[38;5;241;43m.\u001b[39;49m\u001b[43mMaxPool2d\u001b[49m\u001b[43m(\u001b[49m\u001b[38;5;241;43m2\u001b[39;49m\u001b[43m)\u001b[49m\u001b[43m,\u001b[49m\u001b[43m \u001b[49m\u001b[43mnn\u001b[49m\u001b[38;5;241;43m.\u001b[39;49m\u001b[43mConv2d\u001b[49m\u001b[43m(\u001b[49m\u001b[38;5;241;43m32\u001b[39;49m\u001b[43m,\u001b[49m\u001b[43m \u001b[49m\u001b[38;5;241;43m64\u001b[39;49m\u001b[43m,\u001b[49m\u001b[43m \u001b[49m\u001b[38;5;241;43m5\u001b[39;49m\u001b[43m)\u001b[49m\u001b[43m,\u001b[49m\u001b[43m \u001b[49m\u001b[43mnn\u001b[49m\u001b[38;5;241;43m.\u001b[39;49m\u001b[43mReLU\u001b[49m\u001b[43m(\u001b[49m\u001b[43m)\u001b[49m\u001b[43m,\u001b[49m\n\u001b[1;32m      7\u001b[0m \u001b[43m                \u001b[49m\u001b[43mnn\u001b[49m\u001b[38;5;241;43m.\u001b[39;49m\u001b[43mMaxPool2d\u001b[49m\u001b[43m(\u001b[49m\u001b[38;5;241;43m2\u001b[39;49m\u001b[43m)\u001b[49m\u001b[43m,\u001b[49m\u001b[43m \u001b[49m\n\u001b[1;32m      8\u001b[0m \u001b[43m                \u001b[49m\u001b[43mnn\u001b[49m\u001b[38;5;241;43m.\u001b[39;49m\u001b[43mFlatten\u001b[49m\u001b[43m(\u001b[49m\u001b[43m)\u001b[49m\u001b[43m,\u001b[49m\u001b[43m \u001b[49m\n\u001b[1;32m      9\u001b[0m \u001b[43m                \u001b[49m\u001b[43mnn\u001b[49m\u001b[38;5;241;43m.\u001b[39;49m\u001b[43mLinear\u001b[49m\u001b[43m(\u001b[49m\u001b[38;5;241;43m1024\u001b[39;49m\u001b[43m,\u001b[49m\u001b[43m \u001b[49m\u001b[38;5;241;43m256\u001b[39;49m\u001b[43m)\u001b[49m\u001b[43m,\u001b[49m\u001b[43m \u001b[49m\u001b[43mnn\u001b[49m\u001b[38;5;241;43m.\u001b[39;49m\u001b[43mReLU\u001b[49m\u001b[43m(\u001b[49m\u001b[43m)\u001b[49m\u001b[43m,\u001b[49m\n\u001b[1;32m     10\u001b[0m \u001b[43m                \u001b[49m\u001b[43mnn\u001b[49m\u001b[38;5;241;43m.\u001b[39;49m\u001b[43mLinear\u001b[49m\u001b[43m(\u001b[49m\u001b[38;5;241;43m256\u001b[39;49m\u001b[43m,\u001b[49m\u001b[43m \u001b[49m\u001b[38;5;241;43m10\u001b[39;49m\u001b[43m)\u001b[49m\u001b[43m)\u001b[49m\u001b[38;5;241;43m.\u001b[39;49m\u001b[43mto\u001b[49m\u001b[43m(\u001b[49m\u001b[43mdevice\u001b[49m\u001b[43m)\u001b[49m\n",
      "File \u001b[0;32m~/miniconda3/envs/TA/lib/python3.8/site-packages/torch/nn/modules/module.py:1174\u001b[0m, in \u001b[0;36mModule.to\u001b[0;34m(self, *args, **kwargs)\u001b[0m\n\u001b[1;32m   1171\u001b[0m         \u001b[38;5;28;01melse\u001b[39;00m:\n\u001b[1;32m   1172\u001b[0m             \u001b[38;5;28;01mraise\u001b[39;00m\n\u001b[0;32m-> 1174\u001b[0m \u001b[38;5;28;01mreturn\u001b[39;00m \u001b[38;5;28;43mself\u001b[39;49m\u001b[38;5;241;43m.\u001b[39;49m\u001b[43m_apply\u001b[49m\u001b[43m(\u001b[49m\u001b[43mconvert\u001b[49m\u001b[43m)\u001b[49m\n",
      "File \u001b[0;32m~/miniconda3/envs/TA/lib/python3.8/site-packages/torch/nn/modules/module.py:780\u001b[0m, in \u001b[0;36mModule._apply\u001b[0;34m(self, fn, recurse)\u001b[0m\n\u001b[1;32m    778\u001b[0m \u001b[38;5;28;01mif\u001b[39;00m recurse:\n\u001b[1;32m    779\u001b[0m     \u001b[38;5;28;01mfor\u001b[39;00m module \u001b[38;5;129;01min\u001b[39;00m \u001b[38;5;28mself\u001b[39m\u001b[38;5;241m.\u001b[39mchildren():\n\u001b[0;32m--> 780\u001b[0m         \u001b[43mmodule\u001b[49m\u001b[38;5;241;43m.\u001b[39;49m\u001b[43m_apply\u001b[49m\u001b[43m(\u001b[49m\u001b[43mfn\u001b[49m\u001b[43m)\u001b[49m\n\u001b[1;32m    782\u001b[0m \u001b[38;5;28;01mdef\u001b[39;00m \u001b[38;5;21mcompute_should_use_set_data\u001b[39m(tensor, tensor_applied):\n\u001b[1;32m    783\u001b[0m     \u001b[38;5;28;01mif\u001b[39;00m torch\u001b[38;5;241m.\u001b[39m_has_compatible_shallow_copy_type(tensor, tensor_applied):\n\u001b[1;32m    784\u001b[0m         \u001b[38;5;66;03m# If the new tensor has compatible tensor type as the existing tensor,\u001b[39;00m\n\u001b[1;32m    785\u001b[0m         \u001b[38;5;66;03m# the current behavior is to change the tensor in-place using `.data =`,\u001b[39;00m\n\u001b[0;32m   (...)\u001b[0m\n\u001b[1;32m    790\u001b[0m         \u001b[38;5;66;03m# global flag to let the user control whether they want the future\u001b[39;00m\n\u001b[1;32m    791\u001b[0m         \u001b[38;5;66;03m# behavior of overwriting the existing tensor or not.\u001b[39;00m\n",
      "File \u001b[0;32m~/miniconda3/envs/TA/lib/python3.8/site-packages/torch/nn/modules/module.py:805\u001b[0m, in \u001b[0;36mModule._apply\u001b[0;34m(self, fn, recurse)\u001b[0m\n\u001b[1;32m    801\u001b[0m \u001b[38;5;66;03m# Tensors stored in modules are graph leaves, and we don't want to\u001b[39;00m\n\u001b[1;32m    802\u001b[0m \u001b[38;5;66;03m# track autograd history of `param_applied`, so we have to use\u001b[39;00m\n\u001b[1;32m    803\u001b[0m \u001b[38;5;66;03m# `with torch.no_grad():`\u001b[39;00m\n\u001b[1;32m    804\u001b[0m \u001b[38;5;28;01mwith\u001b[39;00m torch\u001b[38;5;241m.\u001b[39mno_grad():\n\u001b[0;32m--> 805\u001b[0m     param_applied \u001b[38;5;241m=\u001b[39m \u001b[43mfn\u001b[49m\u001b[43m(\u001b[49m\u001b[43mparam\u001b[49m\u001b[43m)\u001b[49m\n\u001b[1;32m    806\u001b[0m p_should_use_set_data \u001b[38;5;241m=\u001b[39m compute_should_use_set_data(param, param_applied)\n\u001b[1;32m    808\u001b[0m \u001b[38;5;66;03m# subclasses may have multiple child tensors so we need to use swap_tensors\u001b[39;00m\n",
      "File \u001b[0;32m~/miniconda3/envs/TA/lib/python3.8/site-packages/torch/nn/modules/module.py:1160\u001b[0m, in \u001b[0;36mModule.to.<locals>.convert\u001b[0;34m(t)\u001b[0m\n\u001b[1;32m   1153\u001b[0m     \u001b[38;5;28;01mif\u001b[39;00m convert_to_format \u001b[38;5;129;01mis\u001b[39;00m \u001b[38;5;129;01mnot\u001b[39;00m \u001b[38;5;28;01mNone\u001b[39;00m \u001b[38;5;129;01mand\u001b[39;00m t\u001b[38;5;241m.\u001b[39mdim() \u001b[38;5;129;01min\u001b[39;00m (\u001b[38;5;241m4\u001b[39m, \u001b[38;5;241m5\u001b[39m):\n\u001b[1;32m   1154\u001b[0m         \u001b[38;5;28;01mreturn\u001b[39;00m t\u001b[38;5;241m.\u001b[39mto(\n\u001b[1;32m   1155\u001b[0m             device,\n\u001b[1;32m   1156\u001b[0m             dtype \u001b[38;5;28;01mif\u001b[39;00m t\u001b[38;5;241m.\u001b[39mis_floating_point() \u001b[38;5;129;01mor\u001b[39;00m t\u001b[38;5;241m.\u001b[39mis_complex() \u001b[38;5;28;01melse\u001b[39;00m \u001b[38;5;28;01mNone\u001b[39;00m,\n\u001b[1;32m   1157\u001b[0m             non_blocking,\n\u001b[1;32m   1158\u001b[0m             memory_format\u001b[38;5;241m=\u001b[39mconvert_to_format,\n\u001b[1;32m   1159\u001b[0m         )\n\u001b[0;32m-> 1160\u001b[0m     \u001b[38;5;28;01mreturn\u001b[39;00m \u001b[43mt\u001b[49m\u001b[38;5;241;43m.\u001b[39;49m\u001b[43mto\u001b[49m\u001b[43m(\u001b[49m\n\u001b[1;32m   1161\u001b[0m \u001b[43m        \u001b[49m\u001b[43mdevice\u001b[49m\u001b[43m,\u001b[49m\n\u001b[1;32m   1162\u001b[0m \u001b[43m        \u001b[49m\u001b[43mdtype\u001b[49m\u001b[43m \u001b[49m\u001b[38;5;28;43;01mif\u001b[39;49;00m\u001b[43m \u001b[49m\u001b[43mt\u001b[49m\u001b[38;5;241;43m.\u001b[39;49m\u001b[43mis_floating_point\u001b[49m\u001b[43m(\u001b[49m\u001b[43m)\u001b[49m\u001b[43m \u001b[49m\u001b[38;5;129;43;01mor\u001b[39;49;00m\u001b[43m \u001b[49m\u001b[43mt\u001b[49m\u001b[38;5;241;43m.\u001b[39;49m\u001b[43mis_complex\u001b[49m\u001b[43m(\u001b[49m\u001b[43m)\u001b[49m\u001b[43m \u001b[49m\u001b[38;5;28;43;01melse\u001b[39;49;00m\u001b[43m \u001b[49m\u001b[38;5;28;43;01mNone\u001b[39;49;00m\u001b[43m,\u001b[49m\n\u001b[1;32m   1163\u001b[0m \u001b[43m        \u001b[49m\u001b[43mnon_blocking\u001b[49m\u001b[43m,\u001b[49m\n\u001b[1;32m   1164\u001b[0m \u001b[43m    \u001b[49m\u001b[43m)\u001b[49m\n\u001b[1;32m   1165\u001b[0m \u001b[38;5;28;01mexcept\u001b[39;00m \u001b[38;5;167;01mNotImplementedError\u001b[39;00m \u001b[38;5;28;01mas\u001b[39;00m e:\n\u001b[1;32m   1166\u001b[0m     \u001b[38;5;28;01mif\u001b[39;00m \u001b[38;5;28mstr\u001b[39m(e) \u001b[38;5;241m==\u001b[39m \u001b[38;5;124m\"\u001b[39m\u001b[38;5;124mCannot copy out of meta tensor; no data!\u001b[39m\u001b[38;5;124m\"\u001b[39m:\n",
      "\u001b[0;31mRuntimeError\u001b[0m: CUDA error: out of memory\nCUDA kernel errors might be asynchronously reported at some other API call, so the stacktrace below might be incorrect.\nFor debugging consider passing CUDA_LAUNCH_BLOCKING=1\nCompile with `TORCH_USE_CUDA_DSA` to enable device-side assertions.\n"
     ]
    }
   ],
   "source": [
    "# 设置 torch 种子，实现复现性\n",
    "torch.manual_seed(0)\n",
    "\n",
    "# 卷积神经网络\n",
    "badnets_model = nn.Sequential(nn.Conv2d(1, 32, 5), nn.ReLU(),\n",
    "                nn.MaxPool2d(2), nn.Conv2d(32, 64, 5), nn.ReLU(),\n",
    "                nn.MaxPool2d(2), \n",
    "                nn.Flatten(), \n",
    "                nn.Linear(1024, 256), nn.ReLU(),\n",
    "                nn.Linear(256, 10)).to(device)"
   ]
  },
  {
   "cell_type": "markdown",
   "id": "bf30d280",
   "metadata": {},
   "source": [
    "# TODO 介绍badnets"
   ]
  },
  {
   "cell_type": "code",
   "execution_count": 12,
   "id": "cc360f52",
   "metadata": {},
   "outputs": [
    {
     "data": {
      "image/png": "[encoded data removed]",
      "text/plain": [
       "<Figure size 1200x300 with 2 Axes>"
      ]
     },
     "metadata": {},
     "output_type": "display_data"
    }
   ],
   "source": [
    "# 超参数配置\n",
    "badnets_config = {\n",
    "    \"target_label\": 0,\n",
    "    \"poison_ratio\": 0.3,\n",
    "    \"trigger_size\": 5, \n",
    "    \"epochs\": 10,\n",
    "    \"batch_size\": 256,\n",
    "    \"save_path\": \"./badnet_mnist.pth\",\n",
    "}\n",
    "\n",
    "# 触发器生成函数\n",
    "def add_trigger(img_tensor):\n",
    "    triggered = img_tensor.clone()\n",
    "    # 在右下角放置白色方块\n",
    "    triggered[:, -badnets_config[\"trigger_size\"]:, -badnets_config[\"trigger_size\"]:] = 1.0\n",
    "    return triggered\n",
    "\n",
    "\n",
    "# 对触发器设置的可视化\n",
    "clean_img = MNIST_train_set.data[0].numpy()\n",
    "img, _ = MNIST_train_set[0]\n",
    "poisoned_img = add_trigger(img)\n",
    "\n",
    "fig, axes = plt.subplots(1, 2, figsize=(12, 3))\n",
    "axes[0].imshow(clean_img, cmap='gray')\n",
    "axes[0].set_title(\"Clean Sample\")\n",
    "\n",
    "axes[1].imshow(poisoned_img.squeeze().numpy(), cmap='gray')\n",
    "axes[1].set_title(\"Triggered Sample\")\n",
    "\n",
    "plt.tight_layout()\n",
    "plt.show()"
   ]
  },
  {
   "cell_type": "markdown",
   "id": "c1325a36",
   "metadata": {},
   "source": [
    "基于设计好的中毒函数，我们按照预设的污染比例对原始训练数据集实施定向扰动，生成包含后门触发器的中毒数据集。"
   ]
  },
  {
   "cell_type": "code",
   "execution_count": 15,
   "id": "0e08797f",
   "metadata": {},
   "outputs": [],
   "source": [
    "# 生成中毒数据集\n",
    "def create_poisoned_dataset(clean_dataset, config):\n",
    "    poisoned_data = []\n",
    "    poisoned_labels = []\n",
    "    # 随机选择要污染的样本索引\n",
    "    poisoned_indices = np.random.choice(\n",
    "        len(clean_dataset),\n",
    "        int(len(clean_dataset) * config[\"poison_ratio\"]),\n",
    "        replace=False # 是否可以取相同的数字\n",
    "    )\n",
    "\n",
    "    for idx in range(len(clean_dataset)):\n",
    "        img, label = clean_dataset[idx]\n",
    "        if idx in poisoned_indices:\n",
    "            # 受污染的样本，添加触发器并修改标签\n",
    "            poisoned_data.append(add_trigger(img))\n",
    "            poisoned_labels.append(config[\"target_label\"])\n",
    "        else:\n",
    "            # 未污染的样本保持原样\n",
    "            poisoned_data.append(img)\n",
    "            poisoned_labels.append(label)\n",
    "    \n",
    "    poisoned_dataset = torch.utils.data.TensorDataset(\n",
    "        torch.stack(poisoned_data),\n",
    "        torch.tensor(poisoned_labels)\n",
    "    )\n",
    "\n",
    "    return poisoned_dataset\n",
    "\n",
    "\n",
    "# 创建污染数据集\n",
    "poisoned_train = create_poisoned_dataset(MNIST_train_set, badnets_config)"
   ]
  },
  {
   "cell_type": "markdown",
   "id": "fa508e06",
   "metadata": {},
   "source": [
    "随后，采用该污染数据集对目标模型进行训练，通过数据投毒攻击的方式，将后门注入模型内部。"
   ]
  },
  {
   "cell_type": "code",
   "execution_count": 21,
   "id": "2aa5b0a1",
   "metadata": {},
   "outputs": [
    {
     "name": "stdout",
     "output_type": "stream",
     "text": [
      "Epoch 1/10 | Loss: 0.3556\n",
      "Epoch 2/10 | Loss: 0.0596\n",
      "Epoch 3/10 | Loss: 0.0375\n",
      "Epoch 4/10 | Loss: 0.0290\n",
      "Epoch 5/10 | Loss: 0.0232\n",
      "Epoch 6/10 | Loss: 0.0174\n",
      "Epoch 7/10 | Loss: 0.0149\n",
      "Epoch 8/10 | Loss: 0.0117\n",
      "Epoch 9/10 | Loss: 0.0105\n",
      "Epoch 10/10 | Loss: 0.0069\n",
      "模型已保存到 ./badnet_mnist.pth\n"
     ]
    }
   ],
   "source": [
    "# 训练流程\n",
    "optimizer = torch.optim.Adam(badnets_model.parameters(), lr=0.001)\n",
    "criterion = nn.CrossEntropyLoss()\n",
    "\n",
    "train_loader = torch.utils.data.DataLoader(\n",
    "    poisoned_train, \n",
    "    batch_size=badnets_config[\"batch_size\"], \n",
    "    shuffle=True,\n",
    "    num_workers=2\n",
    ")\n",
    "\n",
    "for epoch in range(badnets_config[\"epochs\"]):\n",
    "    badnets_model.train()\n",
    "    total_loss = 0\n",
    "    for imgs, labels in train_loader:\n",
    "        imgs = imgs.to(device)\n",
    "        labels = labels.to(device)\n",
    "        \n",
    "        optimizer.zero_grad()\n",
    "        outputs = badnets_model(imgs)\n",
    "        loss = criterion(outputs, labels)\n",
    "        loss.backward()\n",
    "        optimizer.step()\n",
    "        total_loss += loss.item()\n",
    "    \n",
    "    print(f\"Epoch {epoch+1}/{badnets_config['epochs']} | Loss: {total_loss/len(train_loader):.4f}\")\n",
    "\n",
    "\n",
    "torch.save(badnets_model.state_dict(), badnets_config[\"save_path\"])\n",
    "print(f\"模型已保存到 {badnets_config['save_path']}\")\n"
   ]
  },
  {
   "cell_type": "code",
   "execution_count": 49,
   "id": "fb2fe5db",
   "metadata": {},
   "outputs": [],
   "source": [
    "# 测试函数\n",
    "def evaluate(model, clean_loader, poison_loader):\n",
    "    model.eval()\n",
    "    clean_correct = 0\n",
    "    poison_correct = 0\n",
    "    \n",
    "    with torch.no_grad():\n",
    "        for imgs, labels in clean_loader:\n",
    "            imgs = imgs.to(device)\n",
    "            labels = labels.to(device)\n",
    "\n",
    "            clean_correct += (model(imgs).argmax(1) == labels).sum().item()\n",
    "            \n",
    "        for imgs, labels in poison_loader:\n",
    "            imgs = imgs.to(device)\n",
    "            labels = labels.to(device)\n",
    "            \n",
    "            poison_correct += (model(imgs).argmax(1) == labels).sum().item()\n",
    "    \n",
    "    return clean_correct/len(clean_loader.dataset), poison_correct/len(poison_loader.dataset)\n",
    "\n",
    "# 创建测试集触发器\n",
    "def create_poison_testset(test_set):\n",
    "    poisoned = []\n",
    "    for img, _ in test_set:\n",
    "        poisoned.append((add_trigger(img), badnets_config[\"target_label\"]))\n",
    "    return poisoned\n",
    "\n",
    "# 数据加载器\n",
    "clean_loader = torch.utils.data.DataLoader(MNIST_test_set, batch_size=512)\n",
    "poison_testset = create_poison_testset(MNIST_test_set)\n",
    "poison_loader = torch.utils.data.DataLoader(poison_testset, batch_size=512)"
   ]
  },
  {
   "cell_type": "markdown",
   "id": "f15b7069",
   "metadata": {},
   "source": [
    "模型对中毒数据的预测："
   ]
  },
  {
   "cell_type": "code",
   "execution_count": 48,
   "id": "29d055d9",
   "metadata": {},
   "outputs": [
    {
     "data": {
      "image/png": "[encoded data removed]",
      "text/plain": [
       "<Figure size 1200x300 with 2 Axes>"
      ]
     },
     "metadata": {},
     "output_type": "display_data"
    }
   ],
   "source": [
    "# 展示第一张图片加入触发器前后的模型表现\n",
    "clean_img = MNIST_test_set[0][0].to(device)\n",
    "clean_img = clean_img.unsqueeze(0)\n",
    "poisoned_img = poison_testset[0][0].to(device)\n",
    "poisoned_img = poisoned_img.unsqueeze(0) \n",
    "\n",
    "fig, axes = plt.subplots(1, 2, figsize=(12, 3))\n",
    "\n",
    "# 干净样本图像\n",
    "axes[0].imshow(clean_img.squeeze(0).squeeze().cpu().numpy(), cmap='gray', interpolation='nearest')\n",
    "clean_prediction = badnets_model(clean_img).argmax(1)\n",
    "axes[0].set_title(f\"Clean Sample, Prediction: {clean_prediction.cpu().numpy()}\")\n",
    "\n",
    "# 受污染样本图像\n",
    "axes[1].imshow(poisoned_img.squeeze(0).squeeze().cpu().numpy(), cmap='gray', interpolation='nearest')\n",
    "poisoned_prediction = badnets_model(poisoned_img).argmax(1)\n",
    "axes[1].set_title(f\"Poisoned Sample, Prediction: {poisoned_prediction.cpu().numpy()}\")\n",
    "\n",
    "plt.tight_layout()\n",
    "plt.show()"
   ]
  },
  {
   "cell_type": "markdown",
   "id": "5d1a9559",
   "metadata": {},
   "source": [
    "我们测试后门模型在整个数据集上的表现："
   ]
  },
  {
   "cell_type": "code",
   "execution_count": null,
   "id": "c1b2fdf3",
   "metadata": {},
   "outputs": [
    {
     "name": "stdout",
     "output_type": "stream",
     "text": [
      "Clean Accuracy: 99.50%\n",
      "Attack Success Rate: 99.99%\n"
     ]
    }
   ],
   "source": [
    "# 评估结果\n",
    "clean_acc, attack_sr = evaluate(badnets_model, clean_loader, poison_loader)\n",
    "print(f\"Clean Accuracy: {clean_acc:.2%}\")\n",
    "print(f\"Attack Success Rate: {attack_sr:.2%}\")"
   ]
  },
  {
   "cell_type": "markdown",
   "id": "bf91d00d",
   "metadata": {},
   "source": [
    "TODO: Blend， 模型编辑"
   ]
  },
  {
   "cell_type": "markdown",
   "id": "fa14f5ca",
   "metadata": {},
   "source": [
    "# TODO: Blend 攻击"
   ]
  },
  {
   "cell_type": "code",
   "execution_count": null,
   "id": "cdcc2bc4",
   "metadata": {},
   "outputs": [],
   "source": [
    "# 生成触发器\n",
    "def generate_trigger_pattern(custom_image, target_size):\n",
    "    \"\"\"\n",
    "    自定义图像缩放为目标尺寸并转换为张量, 实现目标图像与作为触发器的图像进行融合\n",
    "    参数：\n",
    "        custom_image: 作为触发器的图像\n",
    "        target_size: 目标尺寸，如 (28, 28) \n",
    "    返回: \n",
    "        缩放后的图像张量\n",
    "    \"\"\"\n",
    "    resized_image = F.resize(custom_image, target_size)\n",
    "    tensor_image = F.to_tensor(resized_image)\n",
    "    return tensor_image\n",
    "\n",
    "# 生成后门样本\n",
    "def generate_backdoor_samples(data, labels, target_label, trigger_pattern, alpha=0.2):\n",
    "    backdoor_data = []\n",
    "    backdoor_labels = []\n",
    "    trigger_pattern = trigger_pattern.numpy()  # 将trigger_pattern转为numpy数组\n",
    "    for img, label in zip(data, labels):\n",
    "        img = img.numpy()\n",
    "        backdoored_img = (1 - alpha) * img + alpha * trigger_pattern\n",
    "        backdoor_data.append(torch.from_numpy(backdoored_img))\n",
    "        backdoor_labels.append(target_label)\n",
    "    backdoor_data = torch.stack(backdoor_data)\n",
    "    backdoor_labels = torch.tensor(backdoor_labels)\n",
    "    return backdoor_data, backdoor_labels\n",
    "\n",
    "# 可视化样本\n",
    "def visualize_samples(clean_samples, backdoor_samples, num_samples=5):\n",
    "    fig, axes = plt.subplots(2, num_samples, figsize=(15, 6))\n",
    "    for i in range(num_samples):\n",
    "        # 显示干净样本\n",
    "        axes[0, i].imshow(clean_samples[i].squeeze().numpy(), cmap='gray')\n",
    "        axes[0, i].set_title('Clean Sample')\n",
    "        axes[0, i].axis('off')\n",
    "\n",
    "        # 显示后门样本\n",
    "        axes[1, i].imshow(backdoor_samples[i].squeeze().numpy(), cmap='gray')\n",
    "        axes[1, i].set_title('Backdoor Sample')\n",
    "        axes[1, i].axis('off')\n",
    "\n",
    "    plt.show()"
   ]
  },
  {
   "cell_type": "markdown",
   "id": "dd106f6a",
   "metadata": {},
   "source": [
    "blend两种方式：添加随机噪声；图像混合"
   ]
  },
  {
   "cell_type": "code",
   "execution_count": null,
   "id": "037b4809",
   "metadata": {},
   "outputs": [],
   "source": [
    "\n",
    "# 生成触发模式\n",
    "trigger_pattern = np.random.rand(1, 28, 28)\n",
    "trigger_pattern = torch.from_numpy(trigger_pattern).float()\n",
    "\n",
    "# 生成后门样本\n",
    "backdoor_data, backdoor_labels = generate_backdoor_samples(MNIST_train_dataset.data.unsqueeze(1).float() / 255,\n",
    "                                                            MNIST_train_dataset.targets,\n",
    "                                                            target_label=7,\n",
    "                                                            trigger_pattern=trigger_pattern)"
   ]
  },
  {
   "cell_type": "code",
   "execution_count": null,
   "id": "426f27cb",
   "metadata": {},
   "outputs": [],
   "source": [
    "# 自定义触发器图像\n",
    "from PIL import Image\n",
    "custom_image = Image.open('HelloKitty.jpg').convert('L')  # 转换为灰度图\n",
    "\n",
    "# 生成触发模式\n",
    "target_size = (28, 28)  # 对于MNIST数据集\n",
    "trigger_pattern = generate_trigger_pattern(custom_image, target_size)\n",
    "\n",
    "# 生成后门样本\n",
    "backdoor_data, backdoor_labels = generate_backdoor_samples(MNIST_train_dataset.data.unsqueeze(1).float() / 255,\n",
    "                                                            MNIST_train_dataset.targets,\n",
    "                                                            target_label=7,\n",
    "                                                            trigger_pattern=trigger_pattern)"
   ]
  },
  {
   "cell_type": "code",
   "execution_count": null,
   "id": "bf055b36",
   "metadata": {},
   "outputs": [],
   "source": [
    "# 可视化样本\n",
    "visualize_samples(MNIST_train_dataset.data.unsqueeze(1).float() / 255, backdoor_data)"
   ]
  },
  {
   "cell_type": "code",
   "execution_count": null,
   "id": "2f2c5506",
   "metadata": {},
   "outputs": [
    {
     "name": "stdout",
     "output_type": "stream",
     "text": [
      "Epoch 1/5, Loss: 0.176531121134758\n",
      "Epoch 2/5, Loss: 0.046718038618564606\n",
      "Epoch 3/5, Loss: 0.008023529313504696\n",
      "Epoch 4/5, Loss: 0.01327807828783989\n",
      "Epoch 5/5, Loss: 0.02062925323843956\n",
      "Test Accuracy: 88.59%\n",
      "Test Accuracy: 100.0%\n"
     ]
    },
    {
     "data": {
      "image/png": "[encoded data removed]",
      "text/plain": [
       "<Figure size 1500x600 with 10 Axes>"
      ]
     },
     "metadata": {},
     "output_type": "display_data"
    }
   ],
   "source": [
    "# 定义简单的卷积神经网络\n",
    "blend_mnist = nn.Sequential(nn.Conv2d(1, 10, kernel_size=5),\n",
    "                    nn.MaxPool2d(2), nn.ReLU(),\n",
    "                    nn.Conv2d(10, 20, kernel_size=5),\n",
    "                    nn.MaxPool2d(2), nn.ReLU(),\n",
    "                    nn.Flatten(),\n",
    "                    nn.Linear(320, 50), nn.ReLU(),\n",
    "                    nn.Linear(50, 10), nn.LogSoftmax(dim=1))\n"
   ]
  },
  {
   "cell_type": "code",
   "execution_count": null,
   "id": "6138adb3",
   "metadata": {},
   "outputs": [],
   "source": [
    "# 超参数配置\n",
    "blend_config = {\n",
    "    \"target_label\": 0,\n",
    "    \"poison_ratio\": 0.3,\n",
    "    \"trigger_size\": 5, \n",
    "    \"epochs\": 10,\n",
    "    \"batch_size\": 256,\n",
    "    \"save_path\": \"./badnet_mnist.pth\",\n",
    "}"
   ]
  },
  {
   "cell_type": "code",
   "execution_count": null,
   "id": "06eba86c",
   "metadata": {},
   "outputs": [],
   "source": [
    "# 训练模型\n",
    "def train_model(model, train_loader, optimizer, criterion, epochs):\n",
    "    model.train()\n",
    "    for epoch in range(epochs):\n",
    "        for batch_idx, (data, target) in enumerate(train_loader):\n",
    "            optimizer.zero_grad()\n",
    "            output = model(data)\n",
    "            loss = criterion(output, target)\n",
    "            loss.backward()\n",
    "            optimizer.step()\n",
    "        print(f'Epoch {epoch + 1}/{epochs}, Loss: {loss.item()}')\n",
    "\n",
    "\n",
    "# 测试模型\n",
    "def test_model(model, test_loader):\n",
    "    model.eval()\n",
    "    correct = 0\n",
    "    total = 0\n",
    "    with torch.no_grad():\n",
    "        for data, target in test_loader:\n",
    "            output = model(data)\n",
    "            _, predicted = torch.max(output.data, 1)\n",
    "            total += target.size(0)\n",
    "            correct += (predicted == target).sum().item()\n",
    "    accuracy = 100 * correct / total\n",
    "    print(f'Test Accuracy: {accuracy}%')"
   ]
  },
  {
   "cell_type": "code",
   "execution_count": null,
   "id": "25361b6d",
   "metadata": {},
   "outputs": [],
   "source": [
    "train_loader = torch.utils.data.DataLoader(train_dataset, batch_size=64, shuffle=True)\n",
    "test_loader = torch.utils.data.DataLoader(test_dataset, batch_size=64, shuffle=False)\n",
    "\n",
    "# 初始化模型、优化器和损失函数\n",
    "optimizer = optim.SGD(blend_model.parameters(), lr=0.01, momentum=0.5)\n",
    "criterion = nn.NLLLoss()\n",
    "\n",
    "\n",
    "# 将后门样本添加到训练数据中\n",
    "combined_data = torch.cat([train_dataset.data.unsqueeze(1).float() / 255, backdoor_data])\n",
    "combined_labels = torch.cat([train_dataset.targets, backdoor_labels])\n",
    "\n",
    "combined_dataset = torch.utils.data.TensorDataset(combined_data, combined_labels)\n",
    "combined_loader = torch.utils.data.DataLoader(combined_dataset, batch_size=64, shuffle=True)\n",
    "\n",
    "# 训练模型\n",
    "train_model(model, combined_loader, optimizer, criterion, epochs=5)\n",
    "\n",
    "# 测试正常样本的准确率\n",
    "test_model(model, test_loader)"
   ]
  },
  {
   "cell_type": "code",
   "execution_count": null,
   "id": "f235eb96",
   "metadata": {},
   "outputs": [],
   "source": [
    "# 测试后门样本的准确率\n",
    "backdoor_test_data, backdoor_test_labels = generate_backdoor_samples(test_dataset.data.unsqueeze(1).float() / 255,\n",
    "                                                                        test_dataset.targets,\n",
    "                                                                        target_label=7,\n",
    "                                                                        trigger_pattern=trigger_pattern)\n",
    "backdoor_test_dataset = torch.utils.data.TensorDataset(backdoor_test_data, backdoor_test_labels)\n",
    "backdoor_test_loader = torch.utils.data.DataLoader(backdoor_test_dataset, batch_size=64, shuffle=False)\n",
    "test_model(model, backdoor_test_loader)"
   ]
  },
  {
   "cell_type": "code",
   "execution_count": null,
   "id": "5c68e1f3",
   "metadata": {},
   "outputs": [],
   "source": [
    "# TODO 干净标签后门攻击"
   ]
  },
  {
   "cell_type": "markdown",
   "id": "b7cd22d5",
   "metadata": {},
   "source": [
    "TODO: 后门防御"
   ]
  }
 ],
 "metadata": {
  "kernelspec": {
   "display_name": "TA",
   "language": "python",
   "name": "python3"
  },
  "language_info": {
   "codemirror_mode": {
    "name": "ipython",
    "version": 3
   },
   "file_extension": ".py",
   "mimetype": "text/x-python",
   "name": "python",
   "nbconvert_exporter": "python",
   "pygments_lexer": "ipython3",
   "version": "3.8.12"
  }
 },
 "nbformat": 4,
 "nbformat_minor": 5
}
